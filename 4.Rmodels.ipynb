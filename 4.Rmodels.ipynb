{
 "cells": [
  {
   "cell_type": "code",
   "execution_count": 1,
   "metadata": {},
   "outputs": [],
   "source": [
    "import pandas as pd\n",
    "import numpy as np\n",
    "import matplotlib.pyplot as plt\n",
    "%matplotlib inline\n",
    "import seaborn as sns\n",
    "from statsmodels.graphics.tsaplots import plot_pacf\n",
    "from statsmodels.graphics.tsaplots import plot_acf\n",
    "from statsmodels.tsa.arima_model import ARMA\n",
    "import statsmodels.api as sm\n",
    "import plotly.express as px\n",
    "import plotly.graph_objects as go\n",
    "from sklearn.metrics import mean_squared_error\n",
    "from math import sqrt\n",
    "from statsmodels.tsa.statespace.sarimax import SARIMAX\n",
    "import sqlite3\n",
    "from sklearn import (metrics, linear_model, preprocessing)\n",
    "from sklearn.model_selection import cross_validate"
   ]
  },
  {
   "cell_type": "code",
   "execution_count": 261,
   "metadata": {},
   "outputs": [],
   "source": [
    "from functions import *"
   ]
  },
  {
   "cell_type": "markdown",
   "metadata": {},
   "source": [
    "# Line of Action\n",
    "- subsampling to reduce the size\n",
    "- dealing with data types\n",
    "- numerical data encoding as string\n",
    "- Categorical data encoding as integers\n",
    "- Detecting and dealing with nulls\n",
    "- Checking for Multicollinearity\n",
    "-Checking for Homoscedacity\n",
    "- Normalizing Data\n",
    "-Perform modelling"
   ]
  },
  {
   "cell_type": "markdown",
   "metadata": {},
   "source": [
    "# Import Data From SQL DataBase"
   ]
  },
  {
   "cell_type": "code",
   "execution_count": 2,
   "metadata": {},
   "outputs": [],
   "source": [
    "con = sqlite3.connect(\"flightdatabase.db\" , detect_types=sqlite3.PARSE_COLNAMES)\n",
    "cur = con.cursor()"
   ]
  },
  {
   "cell_type": "code",
   "execution_count": null,
   "metadata": {},
   "outputs": [],
   "source": [
    "# cur.execute(\"\"\"Select * from finalflights where year < 2019;\"\"\")\n",
    "# df1 = pd.DataFrame(cur.fetchall())\n",
    "# df1.columns = [x[0] for x in cur.description]\n",
    "# df1.head()"
   ]
  },
  {
   "cell_type": "code",
   "execution_count": 264,
   "metadata": {},
   "outputs": [
    {
     "data": {
      "text/html": [
       "<div>\n",
       "<style scoped>\n",
       "    .dataframe tbody tr th:only-of-type {\n",
       "        vertical-align: middle;\n",
       "    }\n",
       "\n",
       "    .dataframe tbody tr th {\n",
       "        vertical-align: top;\n",
       "    }\n",
       "\n",
       "    .dataframe thead th {\n",
       "        text-align: right;\n",
       "    }\n",
       "</style>\n",
       "<table border=\"1\" class=\"dataframe\">\n",
       "  <thead>\n",
       "    <tr style=\"text-align: right;\">\n",
       "      <th></th>\n",
       "      <th>field1</th>\n",
       "      <th>ds</th>\n",
       "      <th>city</th>\n",
       "      <th>PASSENGERS</th>\n",
       "      <th>Type</th>\n",
       "      <th>Month</th>\n",
       "      <th>Year</th>\n",
       "      <th>temperature_mean</th>\n",
       "      <th>precipitation</th>\n",
       "      <th>rain_days</th>\n",
       "      <th>pressure</th>\n",
       "      <th>cost_of_living_index</th>\n",
       "      <th>population</th>\n",
       "      <th>city_ascii</th>\n",
       "      <th>lat</th>\n",
       "      <th>lng</th>\n",
       "      <th>country</th>\n",
       "      <th>iso2</th>\n",
       "      <th>iso3</th>\n",
       "    </tr>\n",
       "  </thead>\n",
       "  <tbody>\n",
       "    <tr>\n",
       "      <th>0</th>\n",
       "      <td>0</td>\n",
       "      <td>2010-01-01</td>\n",
       "      <td>Atlanta</td>\n",
       "      <td>2735491</td>\n",
       "      <td>Domestic</td>\n",
       "      <td>1</td>\n",
       "      <td>2010</td>\n",
       "      <td>3.6</td>\n",
       "      <td>137.0</td>\n",
       "      <td>7.0</td>\n",
       "      <td>1019.50</td>\n",
       "      <td>100.99</td>\n",
       "      <td>429193.0</td>\n",
       "      <td>Atlanta</td>\n",
       "      <td>33.7627</td>\n",
       "      <td>-84.4225</td>\n",
       "      <td>United States</td>\n",
       "      <td>US</td>\n",
       "      <td>USA</td>\n",
       "    </tr>\n",
       "    <tr>\n",
       "      <th>1</th>\n",
       "      <td>1</td>\n",
       "      <td>2010-01-01</td>\n",
       "      <td>Washington</td>\n",
       "      <td>1929494</td>\n",
       "      <td>Domestic</td>\n",
       "      <td>1</td>\n",
       "      <td>2010</td>\n",
       "      <td>0.4</td>\n",
       "      <td>57.0</td>\n",
       "      <td>8.0</td>\n",
       "      <td>1016.70</td>\n",
       "      <td>98.19</td>\n",
       "      <td>605085.0</td>\n",
       "      <td>Washington</td>\n",
       "      <td>38.9047</td>\n",
       "      <td>-77.0163</td>\n",
       "      <td>United States</td>\n",
       "      <td>US</td>\n",
       "      <td>USA</td>\n",
       "    </tr>\n",
       "    <tr>\n",
       "      <th>2</th>\n",
       "      <td>2</td>\n",
       "      <td>2010-01-01</td>\n",
       "      <td>Singapore</td>\n",
       "      <td>1681005</td>\n",
       "      <td>International</td>\n",
       "      <td>1</td>\n",
       "      <td>2010</td>\n",
       "      <td>27.5</td>\n",
       "      <td>70.0</td>\n",
       "      <td>8.0</td>\n",
       "      <td>1011.60</td>\n",
       "      <td>65.94</td>\n",
       "      <td>5074252.0</td>\n",
       "      <td>Singapore</td>\n",
       "      <td>1.2930</td>\n",
       "      <td>103.8558</td>\n",
       "      <td>Singapore</td>\n",
       "      <td>SG</td>\n",
       "      <td>SGP</td>\n",
       "    </tr>\n",
       "    <tr>\n",
       "      <th>3</th>\n",
       "      <td>3</td>\n",
       "      <td>2010-01-01</td>\n",
       "      <td>Berlin</td>\n",
       "      <td>489487</td>\n",
       "      <td>International</td>\n",
       "      <td>1</td>\n",
       "      <td>2010</td>\n",
       "      <td>-4.9</td>\n",
       "      <td>21.0</td>\n",
       "      <td>7.0</td>\n",
       "      <td>1014.78</td>\n",
       "      <td>115.24</td>\n",
       "      <td>3450395.0</td>\n",
       "      <td>Berlin</td>\n",
       "      <td>52.5218</td>\n",
       "      <td>13.4015</td>\n",
       "      <td>Germany</td>\n",
       "      <td>DE</td>\n",
       "      <td>DEU</td>\n",
       "    </tr>\n",
       "    <tr>\n",
       "      <th>4</th>\n",
       "      <td>4</td>\n",
       "      <td>2010-01-01</td>\n",
       "      <td>Paris</td>\n",
       "      <td>4154249</td>\n",
       "      <td>International</td>\n",
       "      <td>1</td>\n",
       "      <td>2010</td>\n",
       "      <td>0.6</td>\n",
       "      <td>36.0</td>\n",
       "      <td>7.0</td>\n",
       "      <td>1015.60</td>\n",
       "      <td>130.30</td>\n",
       "      <td>10460118.0</td>\n",
       "      <td>Paris</td>\n",
       "      <td>48.8667</td>\n",
       "      <td>2.3333</td>\n",
       "      <td>France</td>\n",
       "      <td>FR</td>\n",
       "      <td>FRA</td>\n",
       "    </tr>\n",
       "    <tr>\n",
       "      <th>...</th>\n",
       "      <td>...</td>\n",
       "      <td>...</td>\n",
       "      <td>...</td>\n",
       "      <td>...</td>\n",
       "      <td>...</td>\n",
       "      <td>...</td>\n",
       "      <td>...</td>\n",
       "      <td>...</td>\n",
       "      <td>...</td>\n",
       "      <td>...</td>\n",
       "      <td>...</td>\n",
       "      <td>...</td>\n",
       "      <td>...</td>\n",
       "      <td>...</td>\n",
       "      <td>...</td>\n",
       "      <td>...</td>\n",
       "      <td>...</td>\n",
       "      <td>...</td>\n",
       "      <td>...</td>\n",
       "    </tr>\n",
       "    <tr>\n",
       "      <th>4963</th>\n",
       "      <td>4963</td>\n",
       "      <td>2018-12-01</td>\n",
       "      <td>New York City</td>\n",
       "      <td>3794306</td>\n",
       "      <td>Domestic</td>\n",
       "      <td>12</td>\n",
       "      <td>2018</td>\n",
       "      <td>4.7</td>\n",
       "      <td>175.0</td>\n",
       "      <td>11.0</td>\n",
       "      <td>1019.10</td>\n",
       "      <td>100.00</td>\n",
       "      <td>8398748.0</td>\n",
       "      <td>New York City</td>\n",
       "      <td>40.6943</td>\n",
       "      <td>-73.9249</td>\n",
       "      <td>United States</td>\n",
       "      <td>US</td>\n",
       "      <td>USA</td>\n",
       "    </tr>\n",
       "    <tr>\n",
       "      <th>4964</th>\n",
       "      <td>4964</td>\n",
       "      <td>2018-12-01</td>\n",
       "      <td>Minneapolis</td>\n",
       "      <td>1295947</td>\n",
       "      <td>Domestic</td>\n",
       "      <td>12</td>\n",
       "      <td>2018</td>\n",
       "      <td>-3.3</td>\n",
       "      <td>39.0</td>\n",
       "      <td>4.0</td>\n",
       "      <td>1018.50</td>\n",
       "      <td>81.46</td>\n",
       "      <td>425403.0</td>\n",
       "      <td>Minneapolis</td>\n",
       "      <td>44.9635</td>\n",
       "      <td>-93.2678</td>\n",
       "      <td>United States</td>\n",
       "      <td>US</td>\n",
       "      <td>USA</td>\n",
       "    </tr>\n",
       "    <tr>\n",
       "      <th>4965</th>\n",
       "      <td>4965</td>\n",
       "      <td>2018-12-01</td>\n",
       "      <td>Los Angeles</td>\n",
       "      <td>3491734</td>\n",
       "      <td>Domestic</td>\n",
       "      <td>12</td>\n",
       "      <td>2018</td>\n",
       "      <td>14.8</td>\n",
       "      <td>37.0</td>\n",
       "      <td>2.0</td>\n",
       "      <td>1017.90</td>\n",
       "      <td>82.30</td>\n",
       "      <td>3990456.0</td>\n",
       "      <td>Los Angeles</td>\n",
       "      <td>34.1139</td>\n",
       "      <td>-118.4068</td>\n",
       "      <td>United States</td>\n",
       "      <td>US</td>\n",
       "      <td>USA</td>\n",
       "    </tr>\n",
       "    <tr>\n",
       "      <th>4966</th>\n",
       "      <td>4966</td>\n",
       "      <td>2018-12-01</td>\n",
       "      <td>Los Angeles</td>\n",
       "      <td>3491734</td>\n",
       "      <td>Domestic</td>\n",
       "      <td>12</td>\n",
       "      <td>2018</td>\n",
       "      <td>14.8</td>\n",
       "      <td>37.0</td>\n",
       "      <td>2.0</td>\n",
       "      <td>1017.90</td>\n",
       "      <td>82.30</td>\n",
       "      <td>3990456.0</td>\n",
       "      <td>Los Angeles</td>\n",
       "      <td>-37.4600</td>\n",
       "      <td>-72.3600</td>\n",
       "      <td>Chile</td>\n",
       "      <td>CL</td>\n",
       "      <td>CHL</td>\n",
       "    </tr>\n",
       "    <tr>\n",
       "      <th>4967</th>\n",
       "      <td>4967</td>\n",
       "      <td>2018-12-01</td>\n",
       "      <td>Miami</td>\n",
       "      <td>2267294</td>\n",
       "      <td>Domestic</td>\n",
       "      <td>12</td>\n",
       "      <td>2018</td>\n",
       "      <td>22.2</td>\n",
       "      <td>40.0</td>\n",
       "      <td>2.0</td>\n",
       "      <td>1019.20</td>\n",
       "      <td>86.01</td>\n",
       "      <td>470914.0</td>\n",
       "      <td>Miami</td>\n",
       "      <td>25.7839</td>\n",
       "      <td>-80.2102</td>\n",
       "      <td>United States</td>\n",
       "      <td>US</td>\n",
       "      <td>USA</td>\n",
       "    </tr>\n",
       "  </tbody>\n",
       "</table>\n",
       "<p>4968 rows × 19 columns</p>\n",
       "</div>"
      ],
      "text/plain": [
       "      field1          ds           city  PASSENGERS           Type  Month  \\\n",
       "0          0  2010-01-01        Atlanta     2735491       Domestic      1   \n",
       "1          1  2010-01-01     Washington     1929494       Domestic      1   \n",
       "2          2  2010-01-01      Singapore     1681005  International      1   \n",
       "3          3  2010-01-01         Berlin      489487  International      1   \n",
       "4          4  2010-01-01          Paris     4154249  International      1   \n",
       "...      ...         ...            ...         ...            ...    ...   \n",
       "4963    4963  2018-12-01  New York City     3794306       Domestic     12   \n",
       "4964    4964  2018-12-01    Minneapolis     1295947       Domestic     12   \n",
       "4965    4965  2018-12-01    Los Angeles     3491734       Domestic     12   \n",
       "4966    4966  2018-12-01    Los Angeles     3491734       Domestic     12   \n",
       "4967    4967  2018-12-01          Miami     2267294       Domestic     12   \n",
       "\n",
       "      Year  temperature_mean  precipitation  rain_days  pressure  \\\n",
       "0     2010               3.6          137.0        7.0   1019.50   \n",
       "1     2010               0.4           57.0        8.0   1016.70   \n",
       "2     2010              27.5           70.0        8.0   1011.60   \n",
       "3     2010              -4.9           21.0        7.0   1014.78   \n",
       "4     2010               0.6           36.0        7.0   1015.60   \n",
       "...    ...               ...            ...        ...       ...   \n",
       "4963  2018               4.7          175.0       11.0   1019.10   \n",
       "4964  2018              -3.3           39.0        4.0   1018.50   \n",
       "4965  2018              14.8           37.0        2.0   1017.90   \n",
       "4966  2018              14.8           37.0        2.0   1017.90   \n",
       "4967  2018              22.2           40.0        2.0   1019.20   \n",
       "\n",
       "      cost_of_living_index  population     city_ascii      lat       lng  \\\n",
       "0                   100.99    429193.0        Atlanta  33.7627  -84.4225   \n",
       "1                    98.19    605085.0     Washington  38.9047  -77.0163   \n",
       "2                    65.94   5074252.0      Singapore   1.2930  103.8558   \n",
       "3                   115.24   3450395.0         Berlin  52.5218   13.4015   \n",
       "4                   130.30  10460118.0          Paris  48.8667    2.3333   \n",
       "...                    ...         ...            ...      ...       ...   \n",
       "4963                100.00   8398748.0  New York City  40.6943  -73.9249   \n",
       "4964                 81.46    425403.0    Minneapolis  44.9635  -93.2678   \n",
       "4965                 82.30   3990456.0    Los Angeles  34.1139 -118.4068   \n",
       "4966                 82.30   3990456.0    Los Angeles -37.4600  -72.3600   \n",
       "4967                 86.01    470914.0          Miami  25.7839  -80.2102   \n",
       "\n",
       "            country iso2 iso3  \n",
       "0     United States   US  USA  \n",
       "1     United States   US  USA  \n",
       "2         Singapore   SG  SGP  \n",
       "3           Germany   DE  DEU  \n",
       "4            France   FR  FRA  \n",
       "...             ...  ...  ...  \n",
       "4963  United States   US  USA  \n",
       "4964  United States   US  USA  \n",
       "4965  United States   US  USA  \n",
       "4966          Chile   CL  CHL  \n",
       "4967  United States   US  USA  \n",
       "\n",
       "[4968 rows x 19 columns]"
      ]
     },
     "execution_count": 264,
     "metadata": {},
     "output_type": "execute_result"
    }
   ],
   "source": [
    "df1 = create_dataframe_from_SQL(\"\"\"Select * from finalflights where year < 2019;\"\"\")\n",
    "df1"
   ]
  },
  {
   "cell_type": "code",
   "execution_count": 4,
   "metadata": {},
   "outputs": [
    {
     "data": {
      "text/plain": [
       "field1                  0\n",
       "ds                      0\n",
       "city                    0\n",
       "PASSENGERS              0\n",
       "Type                    0\n",
       "Month                   0\n",
       "Year                    0\n",
       "temperature_mean        0\n",
       "precipitation           0\n",
       "rain_days               0\n",
       "pressure                0\n",
       "cost_of_living_index    0\n",
       "population              0\n",
       "city_ascii              0\n",
       "lat                     0\n",
       "lng                     0\n",
       "country                 0\n",
       "iso2                    0\n",
       "iso3                    0\n",
       "dtype: int64"
      ]
     },
     "execution_count": 4,
     "metadata": {},
     "output_type": "execute_result"
    }
   ],
   "source": [
    "#Check for null values\n",
    "df1.isna().sum()"
   ]
  },
  {
   "cell_type": "code",
   "execution_count": 5,
   "metadata": {},
   "outputs": [],
   "source": [
    "#Dropping Columns\n",
    "df1.drop(['Year','Month' ], axis = 1, inplace = True)"
   ]
  },
  {
   "cell_type": "code",
   "execution_count": 6,
   "metadata": {},
   "outputs": [],
   "source": [
    "#Coverting the date variable to ordinary values\n",
    "import datetime as dt\n",
    "df1['ds'] = pd.to_datetime(df1['ds'])\n",
    "df1['ds']=df1['ds'].map(dt.datetime.toordinal)"
   ]
  },
  {
   "cell_type": "markdown",
   "metadata": {},
   "source": [
    "# Plot a histogram to view dataframe"
   ]
  },
  {
   "cell_type": "code",
   "execution_count": 182,
   "metadata": {},
   "outputs": [
    {
     "data": {
      "image/png": "[encoded data removed]",
      "text/plain": [
       "<Figure size 1440x1296 with 12 Axes>"
      ]
     },
     "metadata": {
      "needs_background": "light"
     },
     "output_type": "display_data"
    }
   ],
   "source": [
    "df1.hist(figsize = (20,18));"
   ]
  },
  {
   "cell_type": "code",
   "execution_count": null,
   "metadata": {},
   "outputs": [],
   "source": []
  },
  {
   "cell_type": "markdown",
   "metadata": {},
   "source": [
    "# Distribution of Passengers"
   ]
  },
  {
   "cell_type": "code",
   "execution_count": 183,
   "metadata": {},
   "outputs": [
    {
     "name": "stderr",
     "output_type": "stream",
     "text": [
      "/Users/flatironschool/opt/anaconda3/envs/learn-env/lib/python3.6/site-packages/scipy/stats/stats.py:1713: FutureWarning:\n",
      "\n",
      "Using a non-tuple sequence for multidimensional indexing is deprecated; use `arr[tuple(seq)]` instead of `arr[seq]`. In the future this will be interpreted as an array index, `arr[np.array(seq)]`, which will result either in an error or a different result.\n",
      "\n"
     ]
    },
    {
     "data": {
      "text/plain": [
       "<matplotlib.axes._subplots.AxesSubplot at 0x1c2623e6d8>"
      ]
     },
     "execution_count": 183,
     "metadata": {},
     "output_type": "execute_result"
    },
    {
     "data": {
      "image/png": "[encoded data removed]",
      "text/plain": [
       "<Figure size 432x288 with 1 Axes>"
      ]
     },
     "metadata": {
      "needs_background": "light"
     },
     "output_type": "display_data"
    }
   ],
   "source": [
    "import seaborn as sns\n",
    "# from ggplot import *\n",
    "sns.distplot(Y)"
   ]
  },
  {
   "cell_type": "code",
   "execution_count": null,
   "metadata": {},
   "outputs": [],
   "source": []
  },
  {
   "cell_type": "markdown",
   "metadata": {},
   "source": [
    "# checking for outliers"
   ]
  },
  {
   "cell_type": "code",
   "execution_count": 184,
   "metadata": {},
   "outputs": [
    {
     "name": "stdout",
     "output_type": "stream",
     "text": [
      "the percentile at 2:  196000.0\n",
      "the percentile at 4:  426590.28\n",
      "the percentile at 6:  496980.31999999995\n",
      "the percentile at 8:  540851.0\n",
      "the percentile at 10:  571955.1\n",
      "the percentile at 12:  610008.9600000001\n",
      "the percentile at 14:  659338.3\n",
      "the percentile at 16:  698749.12\n",
      "the percentile at 18:  747009.0\n",
      "the percentile at 20:  804086.2\n",
      "the percentile at 22:  860822.94\n",
      "the percentile at 24:  930623.52\n",
      "the percentile at 26:  1016491.9800000002\n",
      "the percentile at 28:  1099389.2\n",
      "the percentile at 30:  1164121.7\n",
      "the percentile at 32:  1230964.52\n",
      "the percentile at 34:  1293258.58\n",
      "the percentile at 36:  1364484.7599999998\n",
      "the percentile at 38:  1434382.78\n",
      "the percentile at 40:  1496745.0\n",
      "the percentile at 42:  1550648.2\n",
      "the percentile at 44:  1609077.6\n",
      "the percentile at 46:  1658115.08\n",
      "the percentile at 48:  1721755.24\n",
      "the percentile at 50:  1787230.0\n",
      "the percentile at 52:  1850949.44\n",
      "the percentile at 54:  1931905.0\n",
      "the percentile at 56:  2029171.0000000005\n",
      "the percentile at 58:  2119437.159999999\n",
      "the percentile at 60:  2213988.0\n",
      "the percentile at 62:  2298399.7399999998\n",
      "the percentile at 64:  2390688.4000000004\n",
      "the percentile at 66:  2476226.7800000003\n",
      "the percentile at 68:  2566221.8800000018\n",
      "the percentile at 70:  2656161.0\n",
      "the percentile at 72:  2756651.48\n",
      "the percentile at 74:  2860980.96\n",
      "the percentile at 76:  2974395.0\n",
      "the percentile at 78:  3087472.08\n",
      "the percentile at 80:  3193515.4000000004\n",
      "the percentile at 82:  3334799.1399999987\n",
      "the percentile at 84:  3453912.999999999\n",
      "the percentile at 86:  3622307.2800000003\n",
      "the percentile at 88:  3825408.72\n",
      "the percentile at 90:  4114658.2000000007\n",
      "the percentile at 92:  4843692.0\n",
      "the percentile at 94:  5473031.0\n",
      "the percentile at 96:  6009201.959999999\n",
      "the percentile at 98:  6567183.359999999\n"
     ]
    }
   ],
   "source": [
    "s = list(np.arange(2, 100, 2))\n",
    "for p in s:\n",
    "     print ('the percentile at ' + str(p) + \": \", np.percentile(Y, p))\n"
   ]
  },
  {
   "cell_type": "code",
   "execution_count": null,
   "metadata": {},
   "outputs": [],
   "source": []
  },
  {
   "cell_type": "code",
   "execution_count": 185,
   "metadata": {},
   "outputs": [
    {
     "name": "stderr",
     "output_type": "stream",
     "text": [
      "/Users/flatironschool/opt/anaconda3/envs/learn-env/lib/python3.6/site-packages/scipy/stats/stats.py:1713: FutureWarning:\n",
      "\n",
      "Using a non-tuple sequence for multidimensional indexing is deprecated; use `arr[tuple(seq)]` instead of `arr[seq]`. In the future this will be interpreted as an array index, `arr[np.array(seq)]`, which will result either in an error or a different result.\n",
      "\n"
     ]
    },
    {
     "data": {
      "text/plain": [
       "<seaborn.axisgrid.JointGrid at 0x1c24e54a20>"
      ]
     },
     "execution_count": 185,
     "metadata": {},
     "output_type": "execute_result"
    },
    {
     "data": {
      "image/png": "[encoded data removed]",
      "text/plain": [
       "<Figure size 432x432 with 3 Axes>"
      ]
     },
     "metadata": {
      "needs_background": "light"
     },
     "output_type": "display_data"
    }
   ],
   "source": [
    "sns.jointplot(x='temperature_mean' , y = 'PASSENGERS' , data = df1 , kind = 'reg')"
   ]
  },
  {
   "cell_type": "code",
   "execution_count": null,
   "metadata": {},
   "outputs": [],
   "source": [
    "# Passegners Vs Cost of Living Index"
   ]
  },
  {
   "cell_type": "code",
   "execution_count": 186,
   "metadata": {},
   "outputs": [
    {
     "name": "stderr",
     "output_type": "stream",
     "text": [
      "/Users/flatironschool/opt/anaconda3/envs/learn-env/lib/python3.6/site-packages/scipy/stats/stats.py:1713: FutureWarning:\n",
      "\n",
      "Using a non-tuple sequence for multidimensional indexing is deprecated; use `arr[tuple(seq)]` instead of `arr[seq]`. In the future this will be interpreted as an array index, `arr[np.array(seq)]`, which will result either in an error or a different result.\n",
      "\n"
     ]
    },
    {
     "data": {
      "text/plain": [
       "<seaborn.axisgrid.JointGrid at 0x1c28185898>"
      ]
     },
     "execution_count": 186,
     "metadata": {},
     "output_type": "execute_result"
    },
    {
     "data": {
      "image/png": "[encoded data removed]",
      "text/plain": [
       "<Figure size 432x432 with 3 Axes>"
      ]
     },
     "metadata": {
      "needs_background": "light"
     },
     "output_type": "display_data"
    }
   ],
   "source": [
    "sns.jointplot(x='cost_of_living_index' , y = 'PASSENGERS' , data=df1, kind = 'reg')"
   ]
  },
  {
   "cell_type": "markdown",
   "metadata": {},
   "source": [
    "# Precipitation Vs Passengers"
   ]
  },
  {
   "cell_type": "code",
   "execution_count": 187,
   "metadata": {},
   "outputs": [
    {
     "name": "stderr",
     "output_type": "stream",
     "text": [
      "/Users/flatironschool/opt/anaconda3/envs/learn-env/lib/python3.6/site-packages/scipy/stats/stats.py:1713: FutureWarning:\n",
      "\n",
      "Using a non-tuple sequence for multidimensional indexing is deprecated; use `arr[tuple(seq)]` instead of `arr[seq]`. In the future this will be interpreted as an array index, `arr[np.array(seq)]`, which will result either in an error or a different result.\n",
      "\n"
     ]
    },
    {
     "data": {
      "text/plain": [
       "<seaborn.axisgrid.JointGrid at 0x1c22c70908>"
      ]
     },
     "execution_count": 187,
     "metadata": {},
     "output_type": "execute_result"
    },
    {
     "data": {
      "image/png": "[encoded data removed]",
      "text/plain": [
       "<Figure size 432x432 with 3 Axes>"
      ]
     },
     "metadata": {
      "needs_background": "light"
     },
     "output_type": "display_data"
    }
   ],
   "source": [
    "sns.jointplot(x='precipitation' , y = 'PASSENGERS' , data = df1 , kind='reg')"
   ]
  },
  {
   "cell_type": "code",
   "execution_count": null,
   "metadata": {},
   "outputs": [],
   "source": []
  },
  {
   "cell_type": "code",
   "execution_count": null,
   "metadata": {},
   "outputs": [],
   "source": []
  },
  {
   "cell_type": "markdown",
   "metadata": {},
   "source": [
    "# Correlation matrics"
   ]
  },
  {
   "cell_type": "code",
   "execution_count": 13,
   "metadata": {},
   "outputs": [
    {
     "data": {
      "text/plain": [
       "<matplotlib.axes._subplots.AxesSubplot at 0x1c24378828>"
      ]
     },
     "execution_count": 13,
     "metadata": {},
     "output_type": "execute_result"
    },
    {
     "data": {
      "image/png": "[encoded data removed]",
      "text/plain": [
       "<Figure size 432x288 with 2 Axes>"
      ]
     },
     "metadata": {
      "needs_background": "light"
     },
     "output_type": "display_data"
    }
   ],
   "source": [
    "sns.heatmap(df0.corr() , annot = True)"
   ]
  },
  {
   "cell_type": "markdown",
   "metadata": {},
   "source": [
    "# Check categrical variables be considered as continous or categirical?"
   ]
  },
  {
   "cell_type": "code",
   "execution_count": 76,
   "metadata": {},
   "outputs": [
    {
     "name": "stdout",
     "output_type": "stream",
     "text": [
      "-------------------- city_ascii -----------------------------\n",
      "['levels for the variable city_ascii:', 'Portland', 'London', 'Barcelona', 'Los Angeles', 'Salt Lake City', 'Croatia', 'Philadelphia', 'Chicago', 'Miami', 'New York City', 'San Francisco', 'Seoul', 'Singapore', 'Amsterdam', 'St. Louis', 'Reykjavik', 'Paris', 'Atlanta', 'Delhi', 'Taipei', 'Orlando', 'Phuket', 'Minneapolis', 'Seattle', 'Honolulu', 'Tampa', 'Boston', 'Denver', 'Hong Kong', 'Dubai', 'Rome', 'Tokyo', 'Detroit', 'Athens', 'Phoenix', 'Charlotte', 'Houston', 'Berlin', 'San Diego', 'Las Vegas', 'Washington', 'Dallas']\n",
      "['# of levels for the variable city_ascii:', 216, 216, 216, 216, 108, 108, 108, 108, 108, 108, 108, 108, 108, 108, 108, 108, 108, 108, 108, 108, 108, 108, 108, 108, 108, 108, 108, 108, 108, 108, 108, 108, 108, 108, 108, 108, 108, 108, 108, 108, 108, 108]\n",
      "['# of categories for the variable city_ascii:', 42]\n",
      "-------------------------------------------------\n",
      "-------------------- city -----------------------------\n",
      "['levels for the variable city:', 'Portland', 'London', 'Barcelona', 'Los Angeles', 'Salt Lake City', 'Croatia', 'Philadelphia', 'Chicago', 'Miami', 'New York City', 'San Francisco', 'Seoul', 'Singapore', 'Amsterdam', 'St. Louis', 'Reykjavik', 'Paris', 'Atlanta', 'Delhi', 'Taipei', 'Orlando', 'Phuket', 'Minneapolis', 'Seattle', 'Honolulu', 'Tampa', 'Boston', 'Denver', 'Hong Kong', 'Dubai', 'Rome', 'Tokyo', 'Detroit', 'Athens', 'Phoenix', 'Charlotte', 'Houston', 'Berlin', 'San Diego', 'Las Vegas', 'Washington', 'Dallas']\n",
      "['# of levels for the variable city:', 216, 216, 216, 216, 108, 108, 108, 108, 108, 108, 108, 108, 108, 108, 108, 108, 108, 108, 108, 108, 108, 108, 108, 108, 108, 108, 108, 108, 108, 108, 108, 108, 108, 108, 108, 108, 108, 108, 108, 108, 108, 108]\n",
      "['# of categories for the variable city:', 42]\n",
      "-------------------------------------------------\n",
      "-------------------- country -----------------------------\n",
      "['levels for the variable country:', 'United States', 'Spain', 'Greece', 'Japan', 'Italy', 'Korea, South', 'Singapore', 'Croatia', 'India', 'Canada', 'Iceland', 'Taiwan', 'France', 'Germany', 'Chile', 'United Arab Emirates', 'Netherlands', 'Hong Kong', 'United Kingdom', 'Thailand', 'Venezuela']\n",
      "['# of levels for the variable country:', 2808, 108, 108, 108, 108, 108, 108, 108, 108, 108, 108, 108, 108, 108, 108, 108, 108, 108, 108, 108, 108]\n",
      "['# of categories for the variable country:', 21]\n",
      "-------------------------------------------------\n",
      "-------------------- iso3 -----------------------------\n",
      "['levels for the variable iso3:', 'USA', 'THA', 'ISL', 'ITA', 'JPN', 'NLD', 'CHL', 'CAN', 'IND', 'SGP', 'ESP', 'TWN', 'FRA', 'DEU', 'KOR', 'GRC', 'GBR', 'ARE', 'HRV', 'VEN', 'HKG']\n",
      "['# of levels for the variable iso3:', 2808, 108, 108, 108, 108, 108, 108, 108, 108, 108, 108, 108, 108, 108, 108, 108, 108, 108, 108, 108, 108]\n",
      "['# of categories for the variable iso3:', 21]\n",
      "-------------------------------------------------\n",
      "-------------------- iso2 -----------------------------\n",
      "['levels for the variable iso2:', 'US', 'GB', 'CA', 'GR', 'JP', 'HR', 'TH', 'IN', 'IT', 'CL', 'HK', 'ES', 'NL', 'FR', 'TW', 'KR', 'DE', 'SG', 'VE', 'IS', 'AE']\n",
      "['# of levels for the variable iso2:', 2808, 108, 108, 108, 108, 108, 108, 108, 108, 108, 108, 108, 108, 108, 108, 108, 108, 108, 108, 108, 108]\n",
      "['# of categories for the variable iso2:', 21]\n",
      "-------------------------------------------------\n",
      "-------------------- Type -----------------------------\n",
      "['levels for the variable Type:', 'Domestic', 'International']\n",
      "['# of levels for the variable Type:', 2916, 2052]\n",
      "['# of categories for the variable Type:', 2]\n",
      "-------------------------------------------------\n"
     ]
    }
   ],
   "source": [
    "\n",
    "x = ['city_ascii', 'city', 'country', 'iso3', 'iso2', 'Type']\n",
    "\n",
    "for j in range(len(x)):\n",
    "    field = x[j]\n",
    "    print ('-------------------- ' + field + ' -----------------------------')\n",
    "    z = ['levels for the variable '+ field + ':']\n",
    "    s = df1[field].value_counts()\n",
    "    ind = list(s.index)\n",
    "    z.extend(ind)\n",
    "    print (z)\n",
    "    \n",
    "    z = ['# of levels for the variable '+ field + ':']\n",
    "    s = list(df1[field].value_counts())\n",
    "    z.extend(s)\n",
    "    print (z)\n",
    "    \n",
    "    z = ['# of categories for the variable '+ field + ':']\n",
    "    z.extend([len(s)])\n",
    "    print (z)\n",
    "    print ('-------------------------------------------------')\n"
   ]
  },
  {
   "cell_type": "code",
   "execution_count": null,
   "metadata": {},
   "outputs": [],
   "source": []
  },
  {
   "cell_type": "markdown",
   "metadata": {},
   "source": [
    "# Check for Numerical Variables and Categorical Variables"
   ]
  },
  {
   "cell_type": "code",
   "execution_count": 7,
   "metadata": {},
   "outputs": [
    {
     "data": {
      "text/plain": [
       "['iso2', 'Type', 'city', 'city_ascii', 'iso3', 'country']"
      ]
     },
     "execution_count": 7,
     "metadata": {},
     "output_type": "execute_result"
    }
   ],
   "source": [
    "cat_cols = list(set(df1.columns) - set(df1._get_numeric_data().columns))\n",
    "cat_cols"
   ]
  },
  {
   "cell_type": "code",
   "execution_count": 8,
   "metadata": {},
   "outputs": [
    {
     "data": {
      "text/plain": [
       "['field1',\n",
       " 'ds',\n",
       " 'PASSENGERS',\n",
       " 'temperature_mean',\n",
       " 'precipitation',\n",
       " 'rain_days',\n",
       " 'pressure',\n",
       " 'cost_of_living_index',\n",
       " 'population',\n",
       " 'lat',\n",
       " 'lng']"
      ]
     },
     "execution_count": 8,
     "metadata": {},
     "output_type": "execute_result"
    }
   ],
   "source": [
    "num_cols = list(df1._get_numeric_data().columns)\n",
    "num_cols"
   ]
  },
  {
   "cell_type": "markdown",
   "metadata": {},
   "source": [
    "# The Plot of Correlation Matrics Using Heatmap and Check for Multicollinearity"
   ]
  },
  {
   "cell_type": "code",
   "execution_count": 9,
   "metadata": {},
   "outputs": [],
   "source": [
    "target = 'PASSENGERS'"
   ]
  },
  {
   "cell_type": "code",
   "execution_count": 10,
   "metadata": {},
   "outputs": [
    {
     "data": {
      "text/plain": [
       "<matplotlib.axes._subplots.AxesSubplot at 0x1c2406bd30>"
      ]
     },
     "execution_count": 10,
     "metadata": {},
     "output_type": "execute_result"
    },
    {
     "data": {
      "image/png": "[encoded data removed]",
      "text/plain": [
       "<Figure size 720x432 with 2 Axes>"
      ]
     },
     "metadata": {
      "needs_background": "light"
     },
     "output_type": "display_data"
    }
   ],
   "source": [
    "k = 15\n",
    "cols = df1[num_cols].corr().nlargest(k , target)[target].index\n",
    "cm = df1[cols].corr()\n",
    "plt.figure(figsize = (10 ,6))\n",
    "sns.heatmap(cm , annot = True , cmap = 'viridis')"
   ]
  },
  {
   "cell_type": "code",
   "execution_count": 72,
   "metadata": {},
   "outputs": [],
   "source": [
    "df1.drop('field1' ,1, inplace = True)"
   ]
  },
  {
   "cell_type": "code",
   "execution_count": 73,
   "metadata": {},
   "outputs": [
    {
     "name": "stdout",
     "output_type": "stream",
     "text": [
      "<class 'pandas.core.frame.DataFrame'>\n",
      "RangeIndex: 4968 entries, 0 to 4967\n",
      "Data columns (total 16 columns):\n",
      "ds                      4968 non-null int64\n",
      "city                    4968 non-null object\n",
      "PASSENGERS              4968 non-null int64\n",
      "Type                    4968 non-null object\n",
      "temperature_mean        4968 non-null float64\n",
      "precipitation           4968 non-null float64\n",
      "rain_days               4968 non-null float64\n",
      "pressure                4968 non-null float64\n",
      "cost_of_living_index    4968 non-null float64\n",
      "population              4968 non-null float64\n",
      "city_ascii              4968 non-null object\n",
      "lat                     4968 non-null float64\n",
      "lng                     4968 non-null float64\n",
      "country                 4968 non-null object\n",
      "iso2                    4968 non-null object\n",
      "iso3                    4968 non-null object\n",
      "dtypes: float64(8), int64(2), object(6)\n",
      "memory usage: 621.1+ KB\n"
     ]
    }
   ],
   "source": [
    "df1.info()"
   ]
  },
  {
   "cell_type": "code",
   "execution_count": 72,
   "metadata": {},
   "outputs": [],
   "source": [
    "#make a copy of the dataframe\n",
    "df0 = df1.copy()"
   ]
  },
  {
   "cell_type": "code",
   "execution_count": 60,
   "metadata": {},
   "outputs": [
    {
     "data": {
      "text/html": [
       "<div>\n",
       "<style scoped>\n",
       "    .dataframe tbody tr th:only-of-type {\n",
       "        vertical-align: middle;\n",
       "    }\n",
       "\n",
       "    .dataframe tbody tr th {\n",
       "        vertical-align: top;\n",
       "    }\n",
       "\n",
       "    .dataframe thead th {\n",
       "        text-align: right;\n",
       "    }\n",
       "</style>\n",
       "<table border=\"1\" class=\"dataframe\">\n",
       "  <thead>\n",
       "    <tr style=\"text-align: right;\">\n",
       "      <th></th>\n",
       "      <th>field1</th>\n",
       "      <th>ds</th>\n",
       "      <th>city</th>\n",
       "      <th>PASSENGERS</th>\n",
       "      <th>Type</th>\n",
       "      <th>temperature_mean</th>\n",
       "      <th>precipitation</th>\n",
       "      <th>rain_days</th>\n",
       "      <th>pressure</th>\n",
       "      <th>cost_of_living_index</th>\n",
       "      <th>population</th>\n",
       "      <th>city_ascii</th>\n",
       "      <th>lat</th>\n",
       "      <th>lng</th>\n",
       "      <th>country</th>\n",
       "      <th>iso2</th>\n",
       "      <th>iso3</th>\n",
       "    </tr>\n",
       "  </thead>\n",
       "  <tbody>\n",
       "    <tr>\n",
       "      <th>0</th>\n",
       "      <td>0</td>\n",
       "      <td>733773</td>\n",
       "      <td>Atlanta</td>\n",
       "      <td>2735491</td>\n",
       "      <td>Domestic</td>\n",
       "      <td>3.6</td>\n",
       "      <td>137.0</td>\n",
       "      <td>7.0</td>\n",
       "      <td>1019.50</td>\n",
       "      <td>100.99</td>\n",
       "      <td>429193.0</td>\n",
       "      <td>Atlanta</td>\n",
       "      <td>33.7627</td>\n",
       "      <td>-84.4225</td>\n",
       "      <td>United States</td>\n",
       "      <td>US</td>\n",
       "      <td>USA</td>\n",
       "    </tr>\n",
       "    <tr>\n",
       "      <th>1</th>\n",
       "      <td>1</td>\n",
       "      <td>733773</td>\n",
       "      <td>Washington</td>\n",
       "      <td>1929494</td>\n",
       "      <td>Domestic</td>\n",
       "      <td>0.4</td>\n",
       "      <td>57.0</td>\n",
       "      <td>8.0</td>\n",
       "      <td>1016.70</td>\n",
       "      <td>98.19</td>\n",
       "      <td>605085.0</td>\n",
       "      <td>Washington</td>\n",
       "      <td>38.9047</td>\n",
       "      <td>-77.0163</td>\n",
       "      <td>United States</td>\n",
       "      <td>US</td>\n",
       "      <td>USA</td>\n",
       "    </tr>\n",
       "    <tr>\n",
       "      <th>2</th>\n",
       "      <td>2</td>\n",
       "      <td>733773</td>\n",
       "      <td>Singapore</td>\n",
       "      <td>1681005</td>\n",
       "      <td>International</td>\n",
       "      <td>27.5</td>\n",
       "      <td>70.0</td>\n",
       "      <td>8.0</td>\n",
       "      <td>1011.60</td>\n",
       "      <td>65.94</td>\n",
       "      <td>5074252.0</td>\n",
       "      <td>Singapore</td>\n",
       "      <td>1.2930</td>\n",
       "      <td>103.8558</td>\n",
       "      <td>Singapore</td>\n",
       "      <td>SG</td>\n",
       "      <td>SGP</td>\n",
       "    </tr>\n",
       "    <tr>\n",
       "      <th>3</th>\n",
       "      <td>3</td>\n",
       "      <td>733773</td>\n",
       "      <td>Berlin</td>\n",
       "      <td>489487</td>\n",
       "      <td>International</td>\n",
       "      <td>-4.9</td>\n",
       "      <td>21.0</td>\n",
       "      <td>7.0</td>\n",
       "      <td>1014.78</td>\n",
       "      <td>115.24</td>\n",
       "      <td>3450395.0</td>\n",
       "      <td>Berlin</td>\n",
       "      <td>52.5218</td>\n",
       "      <td>13.4015</td>\n",
       "      <td>Germany</td>\n",
       "      <td>DE</td>\n",
       "      <td>DEU</td>\n",
       "    </tr>\n",
       "    <tr>\n",
       "      <th>4</th>\n",
       "      <td>4</td>\n",
       "      <td>733773</td>\n",
       "      <td>Paris</td>\n",
       "      <td>4154249</td>\n",
       "      <td>International</td>\n",
       "      <td>0.6</td>\n",
       "      <td>36.0</td>\n",
       "      <td>7.0</td>\n",
       "      <td>1015.60</td>\n",
       "      <td>130.30</td>\n",
       "      <td>10460118.0</td>\n",
       "      <td>Paris</td>\n",
       "      <td>48.8667</td>\n",
       "      <td>2.3333</td>\n",
       "      <td>France</td>\n",
       "      <td>FR</td>\n",
       "      <td>FRA</td>\n",
       "    </tr>\n",
       "    <tr>\n",
       "      <th>...</th>\n",
       "      <td>...</td>\n",
       "      <td>...</td>\n",
       "      <td>...</td>\n",
       "      <td>...</td>\n",
       "      <td>...</td>\n",
       "      <td>...</td>\n",
       "      <td>...</td>\n",
       "      <td>...</td>\n",
       "      <td>...</td>\n",
       "      <td>...</td>\n",
       "      <td>...</td>\n",
       "      <td>...</td>\n",
       "      <td>...</td>\n",
       "      <td>...</td>\n",
       "      <td>...</td>\n",
       "      <td>...</td>\n",
       "      <td>...</td>\n",
       "    </tr>\n",
       "    <tr>\n",
       "      <th>4963</th>\n",
       "      <td>4963</td>\n",
       "      <td>737029</td>\n",
       "      <td>New York City</td>\n",
       "      <td>3794306</td>\n",
       "      <td>Domestic</td>\n",
       "      <td>4.7</td>\n",
       "      <td>175.0</td>\n",
       "      <td>11.0</td>\n",
       "      <td>1019.10</td>\n",
       "      <td>100.00</td>\n",
       "      <td>8398748.0</td>\n",
       "      <td>New York City</td>\n",
       "      <td>40.6943</td>\n",
       "      <td>-73.9249</td>\n",
       "      <td>United States</td>\n",
       "      <td>US</td>\n",
       "      <td>USA</td>\n",
       "    </tr>\n",
       "    <tr>\n",
       "      <th>4964</th>\n",
       "      <td>4964</td>\n",
       "      <td>737029</td>\n",
       "      <td>Minneapolis</td>\n",
       "      <td>1295947</td>\n",
       "      <td>Domestic</td>\n",
       "      <td>-3.3</td>\n",
       "      <td>39.0</td>\n",
       "      <td>4.0</td>\n",
       "      <td>1018.50</td>\n",
       "      <td>81.46</td>\n",
       "      <td>425403.0</td>\n",
       "      <td>Minneapolis</td>\n",
       "      <td>44.9635</td>\n",
       "      <td>-93.2678</td>\n",
       "      <td>United States</td>\n",
       "      <td>US</td>\n",
       "      <td>USA</td>\n",
       "    </tr>\n",
       "    <tr>\n",
       "      <th>4965</th>\n",
       "      <td>4965</td>\n",
       "      <td>737029</td>\n",
       "      <td>Los Angeles</td>\n",
       "      <td>3491734</td>\n",
       "      <td>Domestic</td>\n",
       "      <td>14.8</td>\n",
       "      <td>37.0</td>\n",
       "      <td>2.0</td>\n",
       "      <td>1017.90</td>\n",
       "      <td>82.30</td>\n",
       "      <td>3990456.0</td>\n",
       "      <td>Los Angeles</td>\n",
       "      <td>34.1139</td>\n",
       "      <td>-118.4068</td>\n",
       "      <td>United States</td>\n",
       "      <td>US</td>\n",
       "      <td>USA</td>\n",
       "    </tr>\n",
       "    <tr>\n",
       "      <th>4966</th>\n",
       "      <td>4966</td>\n",
       "      <td>737029</td>\n",
       "      <td>Los Angeles</td>\n",
       "      <td>3491734</td>\n",
       "      <td>Domestic</td>\n",
       "      <td>14.8</td>\n",
       "      <td>37.0</td>\n",
       "      <td>2.0</td>\n",
       "      <td>1017.90</td>\n",
       "      <td>82.30</td>\n",
       "      <td>3990456.0</td>\n",
       "      <td>Los Angeles</td>\n",
       "      <td>-37.4600</td>\n",
       "      <td>-72.3600</td>\n",
       "      <td>Chile</td>\n",
       "      <td>CL</td>\n",
       "      <td>CHL</td>\n",
       "    </tr>\n",
       "    <tr>\n",
       "      <th>4967</th>\n",
       "      <td>4967</td>\n",
       "      <td>737029</td>\n",
       "      <td>Miami</td>\n",
       "      <td>2267294</td>\n",
       "      <td>Domestic</td>\n",
       "      <td>22.2</td>\n",
       "      <td>40.0</td>\n",
       "      <td>2.0</td>\n",
       "      <td>1019.20</td>\n",
       "      <td>86.01</td>\n",
       "      <td>470914.0</td>\n",
       "      <td>Miami</td>\n",
       "      <td>25.7839</td>\n",
       "      <td>-80.2102</td>\n",
       "      <td>United States</td>\n",
       "      <td>US</td>\n",
       "      <td>USA</td>\n",
       "    </tr>\n",
       "  </tbody>\n",
       "</table>\n",
       "<p>4968 rows × 17 columns</p>\n",
       "</div>"
      ],
      "text/plain": [
       "      field1      ds           city  PASSENGERS           Type  \\\n",
       "0          0  733773        Atlanta     2735491       Domestic   \n",
       "1          1  733773     Washington     1929494       Domestic   \n",
       "2          2  733773      Singapore     1681005  International   \n",
       "3          3  733773         Berlin      489487  International   \n",
       "4          4  733773          Paris     4154249  International   \n",
       "...      ...     ...            ...         ...            ...   \n",
       "4963    4963  737029  New York City     3794306       Domestic   \n",
       "4964    4964  737029    Minneapolis     1295947       Domestic   \n",
       "4965    4965  737029    Los Angeles     3491734       Domestic   \n",
       "4966    4966  737029    Los Angeles     3491734       Domestic   \n",
       "4967    4967  737029          Miami     2267294       Domestic   \n",
       "\n",
       "      temperature_mean  precipitation  rain_days  pressure  \\\n",
       "0                  3.6          137.0        7.0   1019.50   \n",
       "1                  0.4           57.0        8.0   1016.70   \n",
       "2                 27.5           70.0        8.0   1011.60   \n",
       "3                 -4.9           21.0        7.0   1014.78   \n",
       "4                  0.6           36.0        7.0   1015.60   \n",
       "...                ...            ...        ...       ...   \n",
       "4963               4.7          175.0       11.0   1019.10   \n",
       "4964              -3.3           39.0        4.0   1018.50   \n",
       "4965              14.8           37.0        2.0   1017.90   \n",
       "4966              14.8           37.0        2.0   1017.90   \n",
       "4967              22.2           40.0        2.0   1019.20   \n",
       "\n",
       "      cost_of_living_index  population     city_ascii      lat       lng  \\\n",
       "0                   100.99    429193.0        Atlanta  33.7627  -84.4225   \n",
       "1                    98.19    605085.0     Washington  38.9047  -77.0163   \n",
       "2                    65.94   5074252.0      Singapore   1.2930  103.8558   \n",
       "3                   115.24   3450395.0         Berlin  52.5218   13.4015   \n",
       "4                   130.30  10460118.0          Paris  48.8667    2.3333   \n",
       "...                    ...         ...            ...      ...       ...   \n",
       "4963                100.00   8398748.0  New York City  40.6943  -73.9249   \n",
       "4964                 81.46    425403.0    Minneapolis  44.9635  -93.2678   \n",
       "4965                 82.30   3990456.0    Los Angeles  34.1139 -118.4068   \n",
       "4966                 82.30   3990456.0    Los Angeles -37.4600  -72.3600   \n",
       "4967                 86.01    470914.0          Miami  25.7839  -80.2102   \n",
       "\n",
       "            country iso2 iso3  \n",
       "0     United States   US  USA  \n",
       "1     United States   US  USA  \n",
       "2         Singapore   SG  SGP  \n",
       "3           Germany   DE  DEU  \n",
       "4            France   FR  FRA  \n",
       "...             ...  ...  ...  \n",
       "4963  United States   US  USA  \n",
       "4964  United States   US  USA  \n",
       "4965  United States   US  USA  \n",
       "4966          Chile   CL  CHL  \n",
       "4967  United States   US  USA  \n",
       "\n",
       "[4968 rows x 17 columns]"
      ]
     },
     "execution_count": 60,
     "metadata": {},
     "output_type": "execute_result"
    }
   ],
   "source": [
    "df0"
   ]
  },
  {
   "cell_type": "code",
   "execution_count": null,
   "metadata": {},
   "outputs": [],
   "source": []
  },
  {
   "cell_type": "code",
   "execution_count": 61,
   "metadata": {},
   "outputs": [
    {
     "data": {
      "text/plain": [
       "Index(['field1', 'ds', 'city', 'PASSENGERS', 'Type', 'temperature_mean',\n",
       "       'precipitation', 'rain_days', 'pressure', 'cost_of_living_index',\n",
       "       'population', 'city_ascii', 'lat', 'lng', 'country', 'iso2', 'iso3'],\n",
       "      dtype='object')"
      ]
     },
     "execution_count": 61,
     "metadata": {},
     "output_type": "execute_result"
    }
   ],
   "source": [
    "df0.columns"
   ]
  },
  {
   "cell_type": "code",
   "execution_count": 73,
   "metadata": {},
   "outputs": [],
   "source": [
    "df0.drop('field1' , 1 , inplace = True)"
   ]
  },
  {
   "cell_type": "code",
   "execution_count": 63,
   "metadata": {},
   "outputs": [
    {
     "data": {
      "text/plain": [
       "Index(['ds', 'city', 'PASSENGERS', 'Type', 'temperature_mean', 'precipitation',\n",
       "       'rain_days', 'pressure', 'cost_of_living_index', 'population',\n",
       "       'city_ascii', 'lat', 'lng', 'country', 'iso2', 'iso3'],\n",
       "      dtype='object')"
      ]
     },
     "execution_count": 63,
     "metadata": {},
     "output_type": "execute_result"
    }
   ],
   "source": [
    "df0.columns"
   ]
  },
  {
   "cell_type": "code",
   "execution_count": 177,
   "metadata": {},
   "outputs": [],
   "source": [
    "df2 = df1.copy()"
   ]
  },
  {
   "cell_type": "markdown",
   "metadata": {},
   "source": [
    "# Generate Dummies for Categorical Columns"
   ]
  },
  {
   "cell_type": "code",
   "execution_count": 23,
   "metadata": {},
   "outputs": [
    {
     "data": {
      "text/plain": [
       "['iso2', 'Type', 'city', 'city_ascii', 'iso3', 'country']"
      ]
     },
     "execution_count": 23,
     "metadata": {},
     "output_type": "execute_result"
    }
   ],
   "source": [
    "cat_cols"
   ]
  },
  {
   "cell_type": "code",
   "execution_count": 74,
   "metadata": {},
   "outputs": [
    {
     "name": "stdout",
     "output_type": "stream",
     "text": [
      "(4968, 17)\n"
     ]
    },
    {
     "data": {
      "text/html": [
       "<div>\n",
       "<style scoped>\n",
       "    .dataframe tbody tr th:only-of-type {\n",
       "        vertical-align: middle;\n",
       "    }\n",
       "\n",
       "    .dataframe tbody tr th {\n",
       "        vertical-align: top;\n",
       "    }\n",
       "\n",
       "    .dataframe thead th {\n",
       "        text-align: right;\n",
       "    }\n",
       "</style>\n",
       "<table border=\"1\" class=\"dataframe\">\n",
       "  <thead>\n",
       "    <tr style=\"text-align: right;\">\n",
       "      <th></th>\n",
       "      <th>ds</th>\n",
       "      <th>city</th>\n",
       "      <th>PASSENGERS</th>\n",
       "      <th>Type</th>\n",
       "      <th>temperature_mean</th>\n",
       "      <th>precipitation</th>\n",
       "      <th>rain_days</th>\n",
       "      <th>pressure</th>\n",
       "      <th>cost_of_living_index</th>\n",
       "      <th>population</th>\n",
       "      <th>city_ascii</th>\n",
       "      <th>lat</th>\n",
       "      <th>lng</th>\n",
       "      <th>country</th>\n",
       "      <th>iso2</th>\n",
       "      <th>iso3</th>\n",
       "      <th>Type_International</th>\n",
       "    </tr>\n",
       "  </thead>\n",
       "  <tbody>\n",
       "    <tr>\n",
       "      <th>0</th>\n",
       "      <td>733773</td>\n",
       "      <td>Atlanta</td>\n",
       "      <td>2735491</td>\n",
       "      <td>Domestic</td>\n",
       "      <td>3.6</td>\n",
       "      <td>137.0</td>\n",
       "      <td>7.0</td>\n",
       "      <td>1019.50</td>\n",
       "      <td>100.99</td>\n",
       "      <td>429193.0</td>\n",
       "      <td>Atlanta</td>\n",
       "      <td>33.7627</td>\n",
       "      <td>-84.4225</td>\n",
       "      <td>United States</td>\n",
       "      <td>US</td>\n",
       "      <td>USA</td>\n",
       "      <td>0</td>\n",
       "    </tr>\n",
       "    <tr>\n",
       "      <th>1</th>\n",
       "      <td>733773</td>\n",
       "      <td>Washington</td>\n",
       "      <td>1929494</td>\n",
       "      <td>Domestic</td>\n",
       "      <td>0.4</td>\n",
       "      <td>57.0</td>\n",
       "      <td>8.0</td>\n",
       "      <td>1016.70</td>\n",
       "      <td>98.19</td>\n",
       "      <td>605085.0</td>\n",
       "      <td>Washington</td>\n",
       "      <td>38.9047</td>\n",
       "      <td>-77.0163</td>\n",
       "      <td>United States</td>\n",
       "      <td>US</td>\n",
       "      <td>USA</td>\n",
       "      <td>0</td>\n",
       "    </tr>\n",
       "    <tr>\n",
       "      <th>2</th>\n",
       "      <td>733773</td>\n",
       "      <td>Singapore</td>\n",
       "      <td>1681005</td>\n",
       "      <td>International</td>\n",
       "      <td>27.5</td>\n",
       "      <td>70.0</td>\n",
       "      <td>8.0</td>\n",
       "      <td>1011.60</td>\n",
       "      <td>65.94</td>\n",
       "      <td>5074252.0</td>\n",
       "      <td>Singapore</td>\n",
       "      <td>1.2930</td>\n",
       "      <td>103.8558</td>\n",
       "      <td>Singapore</td>\n",
       "      <td>SG</td>\n",
       "      <td>SGP</td>\n",
       "      <td>1</td>\n",
       "    </tr>\n",
       "    <tr>\n",
       "      <th>3</th>\n",
       "      <td>733773</td>\n",
       "      <td>Berlin</td>\n",
       "      <td>489487</td>\n",
       "      <td>International</td>\n",
       "      <td>-4.9</td>\n",
       "      <td>21.0</td>\n",
       "      <td>7.0</td>\n",
       "      <td>1014.78</td>\n",
       "      <td>115.24</td>\n",
       "      <td>3450395.0</td>\n",
       "      <td>Berlin</td>\n",
       "      <td>52.5218</td>\n",
       "      <td>13.4015</td>\n",
       "      <td>Germany</td>\n",
       "      <td>DE</td>\n",
       "      <td>DEU</td>\n",
       "      <td>1</td>\n",
       "    </tr>\n",
       "    <tr>\n",
       "      <th>4</th>\n",
       "      <td>733773</td>\n",
       "      <td>Paris</td>\n",
       "      <td>4154249</td>\n",
       "      <td>International</td>\n",
       "      <td>0.6</td>\n",
       "      <td>36.0</td>\n",
       "      <td>7.0</td>\n",
       "      <td>1015.60</td>\n",
       "      <td>130.30</td>\n",
       "      <td>10460118.0</td>\n",
       "      <td>Paris</td>\n",
       "      <td>48.8667</td>\n",
       "      <td>2.3333</td>\n",
       "      <td>France</td>\n",
       "      <td>FR</td>\n",
       "      <td>FRA</td>\n",
       "      <td>1</td>\n",
       "    </tr>\n",
       "  </tbody>\n",
       "</table>\n",
       "</div>"
      ],
      "text/plain": [
       "       ds        city  PASSENGERS           Type  temperature_mean  \\\n",
       "0  733773     Atlanta     2735491       Domestic               3.6   \n",
       "1  733773  Washington     1929494       Domestic               0.4   \n",
       "2  733773   Singapore     1681005  International              27.5   \n",
       "3  733773      Berlin      489487  International              -4.9   \n",
       "4  733773       Paris     4154249  International               0.6   \n",
       "\n",
       "   precipitation  rain_days  pressure  cost_of_living_index  population  \\\n",
       "0          137.0        7.0   1019.50                100.99    429193.0   \n",
       "1           57.0        8.0   1016.70                 98.19    605085.0   \n",
       "2           70.0        8.0   1011.60                 65.94   5074252.0   \n",
       "3           21.0        7.0   1014.78                115.24   3450395.0   \n",
       "4           36.0        7.0   1015.60                130.30  10460118.0   \n",
       "\n",
       "   city_ascii      lat       lng        country iso2 iso3  Type_International  \n",
       "0     Atlanta  33.7627  -84.4225  United States   US  USA                   0  \n",
       "1  Washington  38.9047  -77.0163  United States   US  USA                   0  \n",
       "2   Singapore   1.2930  103.8558      Singapore   SG  SGP                   1  \n",
       "3      Berlin  52.5218   13.4015        Germany   DE  DEU                   1  \n",
       "4       Paris  48.8667    2.3333         France   FR  FRA                   1  "
      ]
     },
     "execution_count": 74,
     "metadata": {},
     "output_type": "execute_result"
    }
   ],
   "source": [
    "# city_ascii = 'city_ascii' + '_' + df0.city_ascii.astype(str)\n",
    "# df_city_ascii = pd.get_dummies(city_ascii)\n",
    "\n",
    "# city = 'city' + '_' + df0.city.astype(str)\n",
    "# df_city = pd.get_dummies(city)\n",
    "\n",
    "# country = 'country' + '_' + df0.country.astype(str)\n",
    "# df_country = pd.get_dummies(country)\n",
    "\n",
    "# iso3 = 'iso3' + '_' + df0.iso3.astype(str)\n",
    "# df_iso3 = pd.get_dummies(iso3)\n",
    "\n",
    "# iso2 = 'iso2' + '_' + df0.iso2.astype(str)\n",
    "# df_iso2 = pd.get_dummies(iso2)\n",
    "\n",
    "Type = 'Type'+ '_' + df0.Type.astype(str)\n",
    "df_Type = pd.get_dummies(Type , drop_first=True)\n",
    "\n",
    "\n",
    "for x in [df_Type]:\n",
    "    df0 = pd.concat([df0 , x] , axis = 1)\n",
    "    \n",
    "print(df1.shape)\n",
    "df0.head()"
   ]
  },
  {
   "cell_type": "code",
   "execution_count": 77,
   "metadata": {},
   "outputs": [],
   "source": [
    "df0.drop(columns = {'city' ,'city_ascii','country','iso2','iso3'} , inplace = True)"
   ]
  },
  {
   "cell_type": "code",
   "execution_count": 85,
   "metadata": {},
   "outputs": [],
   "source": [
    "df0.drop('Type' , 1 , inplace = True)"
   ]
  },
  {
   "cell_type": "code",
   "execution_count": null,
   "metadata": {},
   "outputs": [],
   "source": []
  },
  {
   "cell_type": "markdown",
   "metadata": {},
   "source": [
    "# Linear Regression Model Training"
   ]
  },
  {
   "cell_type": "code",
   "execution_count": 84,
   "metadata": {},
   "outputs": [
    {
     "data": {
      "image/png": "[encoded data removed]",
      "text/plain": [
       "<Figure size 432x288 with 1 Axes>"
      ]
     },
     "metadata": {
      "needs_background": "light"
     },
     "output_type": "display_data"
    }
   ],
   "source": [
    "import numpy as np \n",
    "import pylab \n",
    "import scipy.stats as stats1\n",
    "\n",
    "Y = df1.PASSENGERS\n",
    "stats1.probplot(Y, dist=\"norm\", plot=pylab)\n",
    "pylab.show()"
   ]
  },
  {
   "cell_type": "code",
   "execution_count": 17,
   "metadata": {},
   "outputs": [],
   "source": [
    "# regr = linear_model.LinearRegression()\n",
    "# x_train, x_test, y_train, y_test = train_test_split(X, y, test_size = 0.2)\n",
    "\n",
    "#    #Fitting the model to the training dataset\n",
    "# regr.fit(x_train,y_train)\n",
    "# regr.intercept_\n",
    "# print('Coefficients: \\n', regr.coef_)\n",
    "# print(\"Mean Squared Error(MSE): %.2f\"\n",
    "#          % np.mean((regr.predict(x_test) - y_test) ** 2))\n",
    "# print('Variance Score: %.2f' % regr.score(x_test, y_test))\n",
    "#    regr.coef_[0].tolist()"
   ]
  },
  {
   "cell_type": "code",
   "execution_count": null,
   "metadata": {},
   "outputs": [],
   "source": []
  },
  {
   "cell_type": "code",
   "execution_count": 86,
   "metadata": {},
   "outputs": [],
   "source": [
    "X = df0.drop('PASSENGERS' , 1)\n",
    "y = df0['PASSENGERS']"
   ]
  },
  {
   "cell_type": "code",
   "execution_count": null,
   "metadata": {},
   "outputs": [],
   "source": [
    "from sklearn cross_validation "
   ]
  },
  {
   "cell_type": "code",
   "execution_count": 87,
   "metadata": {},
   "outputs": [],
   "source": [
    "from sklearn.model_selection import train_test_split\n",
    "X_train ,X_test , y_train , y_test = train_test_split(X , y , test_size = 0.2 , random_state = 42)"
   ]
  },
  {
   "cell_type": "code",
   "execution_count": 131,
   "metadata": {},
   "outputs": [
    {
     "name": "stdout",
     "output_type": "stream",
     "text": [
      "(3974, 10)\n",
      "(994, 10)\n",
      "(3974,)\n",
      "(994,)\n"
     ]
    }
   ],
   "source": [
    "# Print the shapes of the training and testing datasets\n",
    "print(X_train.shape)\n",
    "print(X_test.shape)\n",
    "print(y_train.shape)\n",
    "print(y_test.shape)"
   ]
  },
  {
   "cell_type": "code",
   "execution_count": 88,
   "metadata": {},
   "outputs": [
    {
     "data": {
      "text/html": [
       "<div>\n",
       "<style scoped>\n",
       "    .dataframe tbody tr th:only-of-type {\n",
       "        vertical-align: middle;\n",
       "    }\n",
       "\n",
       "    .dataframe tbody tr th {\n",
       "        vertical-align: top;\n",
       "    }\n",
       "\n",
       "    .dataframe thead th {\n",
       "        text-align: right;\n",
       "    }\n",
       "</style>\n",
       "<table border=\"1\" class=\"dataframe\">\n",
       "  <thead>\n",
       "    <tr style=\"text-align: right;\">\n",
       "      <th></th>\n",
       "      <th>ds</th>\n",
       "      <th>temperature_mean</th>\n",
       "      <th>precipitation</th>\n",
       "      <th>rain_days</th>\n",
       "      <th>pressure</th>\n",
       "      <th>cost_of_living_index</th>\n",
       "      <th>population</th>\n",
       "      <th>lat</th>\n",
       "      <th>lng</th>\n",
       "      <th>Type_International</th>\n",
       "    </tr>\n",
       "  </thead>\n",
       "  <tbody>\n",
       "    <tr>\n",
       "      <th>1477</th>\n",
       "      <td>734747</td>\n",
       "      <td>16.6</td>\n",
       "      <td>99.0</td>\n",
       "      <td>9.0</td>\n",
       "      <td>1019.4</td>\n",
       "      <td>118.52</td>\n",
       "      <td>8044433.0</td>\n",
       "      <td>42.9700</td>\n",
       "      <td>-81.2500</td>\n",
       "      <td>1</td>\n",
       "    </tr>\n",
       "    <tr>\n",
       "      <th>4054</th>\n",
       "      <td>736450</td>\n",
       "      <td>27.7</td>\n",
       "      <td>0.0</td>\n",
       "      <td>0.0</td>\n",
       "      <td>1007.5</td>\n",
       "      <td>69.08</td>\n",
       "      <td>1634984.0</td>\n",
       "      <td>33.5722</td>\n",
       "      <td>-112.0891</td>\n",
       "      <td>0</td>\n",
       "    </tr>\n",
       "    <tr>\n",
       "      <th>2218</th>\n",
       "      <td>735234</td>\n",
       "      <td>22.6</td>\n",
       "      <td>63.0</td>\n",
       "      <td>9.0</td>\n",
       "      <td>1013.5</td>\n",
       "      <td>106.27</td>\n",
       "      <td>349627.0</td>\n",
       "      <td>21.3294</td>\n",
       "      <td>-157.8460</td>\n",
       "      <td>0</td>\n",
       "    </tr>\n",
       "    <tr>\n",
       "      <th>4102</th>\n",
       "      <td>736481</td>\n",
       "      <td>26.7</td>\n",
       "      <td>14.0</td>\n",
       "      <td>4.0</td>\n",
       "      <td>1017.0</td>\n",
       "      <td>99.54</td>\n",
       "      <td>349651.0</td>\n",
       "      <td>21.3294</td>\n",
       "      <td>-157.8460</td>\n",
       "      <td>0</td>\n",
       "    </tr>\n",
       "    <tr>\n",
       "      <th>80</th>\n",
       "      <td>733804</td>\n",
       "      <td>-0.8</td>\n",
       "      <td>53.0</td>\n",
       "      <td>7.0</td>\n",
       "      <td>1019.2</td>\n",
       "      <td>80.35</td>\n",
       "      <td>319318.0</td>\n",
       "      <td>38.6358</td>\n",
       "      <td>-90.2451</td>\n",
       "      <td>0</td>\n",
       "    </tr>\n",
       "  </tbody>\n",
       "</table>\n",
       "</div>"
      ],
      "text/plain": [
       "          ds  temperature_mean  precipitation  rain_days  pressure  \\\n",
       "1477  734747              16.6           99.0        9.0    1019.4   \n",
       "4054  736450              27.7            0.0        0.0    1007.5   \n",
       "2218  735234              22.6           63.0        9.0    1013.5   \n",
       "4102  736481              26.7           14.0        4.0    1017.0   \n",
       "80    733804              -0.8           53.0        7.0    1019.2   \n",
       "\n",
       "      cost_of_living_index  population      lat       lng  Type_International  \n",
       "1477                118.52   8044433.0  42.9700  -81.2500                   1  \n",
       "4054                 69.08   1634984.0  33.5722 -112.0891                   0  \n",
       "2218                106.27    349627.0  21.3294 -157.8460                   0  \n",
       "4102                 99.54    349651.0  21.3294 -157.8460                   0  \n",
       "80                   80.35    319318.0  38.6358  -90.2451                   0  "
      ]
     },
     "execution_count": 88,
     "metadata": {},
     "output_type": "execute_result"
    }
   ],
   "source": [
    "X_train.head()"
   ]
  },
  {
   "cell_type": "code",
   "execution_count": null,
   "metadata": {},
   "outputs": [],
   "source": []
  },
  {
   "cell_type": "code",
   "execution_count": 29,
   "metadata": {},
   "outputs": [],
   "source": [
    "#import Linear Regression Model\n",
    "from sklearn import linear_model"
   ]
  },
  {
   "cell_type": "code",
   "execution_count": 30,
   "metadata": {},
   "outputs": [],
   "source": [
    "#create an instance for the linear Regression Model\n",
    "lm = linear_model.LinearRegression()"
   ]
  },
  {
   "cell_type": "code",
   "execution_count": 89,
   "metadata": {},
   "outputs": [
    {
     "data": {
      "text/plain": [
       "LinearRegression(copy_X=True, fit_intercept=True, n_jobs=None,\n",
       "         normalize=False)"
      ]
     },
     "execution_count": 89,
     "metadata": {},
     "output_type": "execute_result"
    }
   ],
   "source": [
    "#Train your model on X_train and y_train\n",
    "lm.fit(X_train , y_train)"
   ]
  },
  {
   "cell_type": "markdown",
   "metadata": {},
   "source": [
    "# Check intercepts"
   ]
  },
  {
   "cell_type": "code",
   "execution_count": 91,
   "metadata": {},
   "outputs": [
    {
     "data": {
      "text/plain": [
       "-309913186.06459874"
      ]
     },
     "execution_count": 91,
     "metadata": {},
     "output_type": "execute_result"
    }
   ],
   "source": [
    "lm.intercept_"
   ]
  },
  {
   "cell_type": "code",
   "execution_count": 119,
   "metadata": {},
   "outputs": [
    {
     "name": "stdout",
     "output_type": "stream",
     "text": [
      "The Estimated Intercept -309913186.06\n"
     ]
    }
   ],
   "source": [
    "print(\"The Estimated Intercept %.2f\"%lm.intercept_)"
   ]
  },
  {
   "cell_type": "markdown",
   "metadata": {},
   "source": [
    "# Check Coefficients"
   ]
  },
  {
   "cell_type": "code",
   "execution_count": 92,
   "metadata": {},
   "outputs": [
    {
     "data": {
      "text/plain": [
       "array([ 3.50446599e+02,  2.69876600e+04,  9.18740433e+02, -3.53494667e+04,\n",
       "        4.94474927e+04,  3.03404942e+04,  1.52994006e-01, -7.80762035e+03,\n",
       "       -9.24708546e+03,  1.55396734e+06])"
      ]
     },
     "execution_count": 92,
     "metadata": {},
     "output_type": "execute_result"
    }
   ],
   "source": [
    "lm.coef_"
   ]
  },
  {
   "cell_type": "code",
   "execution_count": 125,
   "metadata": {},
   "outputs": [
    {
     "name": "stdout",
     "output_type": "stream",
     "text": [
      "The Estimated Intercept 10\n",
      "----------------------------------------\n",
      "[ 3.50446599e+02  2.69876600e+04  9.18740433e+02 -3.53494667e+04\n",
      "  4.94474927e+04  3.03404942e+04  1.52994006e-01 -7.80762035e+03\n",
      " -9.24708546e+03  1.55396734e+06]\n"
     ]
    }
   ],
   "source": [
    "\n",
    "print(\"The Estimated Intercept %d\"%len(lm.coef_))\n",
    "print(\"----------------------------------------\")\n",
    "print(lm.coef_)"
   ]
  },
  {
   "cell_type": "code",
   "execution_count": null,
   "metadata": {},
   "outputs": [],
   "source": []
  },
  {
   "cell_type": "code",
   "execution_count": 94,
   "metadata": {},
   "outputs": [],
   "source": [
    "#Lets create a new dataframe for our coefficients\n",
    "X.columns\n",
    "coeff = pd.DataFrame(data = lm.coef_ , index = X.columns , columns = ['Coefficients'])"
   ]
  },
  {
   "cell_type": "code",
   "execution_count": 95,
   "metadata": {},
   "outputs": [
    {
     "data": {
      "text/html": [
       "<div>\n",
       "<style scoped>\n",
       "    .dataframe tbody tr th:only-of-type {\n",
       "        vertical-align: middle;\n",
       "    }\n",
       "\n",
       "    .dataframe tbody tr th {\n",
       "        vertical-align: top;\n",
       "    }\n",
       "\n",
       "    .dataframe thead th {\n",
       "        text-align: right;\n",
       "    }\n",
       "</style>\n",
       "<table border=\"1\" class=\"dataframe\">\n",
       "  <thead>\n",
       "    <tr style=\"text-align: right;\">\n",
       "      <th></th>\n",
       "      <th>Coefficients</th>\n",
       "    </tr>\n",
       "  </thead>\n",
       "  <tbody>\n",
       "    <tr>\n",
       "      <th>ds</th>\n",
       "      <td>3.504466e+02</td>\n",
       "    </tr>\n",
       "    <tr>\n",
       "      <th>temperature_mean</th>\n",
       "      <td>2.698766e+04</td>\n",
       "    </tr>\n",
       "    <tr>\n",
       "      <th>precipitation</th>\n",
       "      <td>9.187404e+02</td>\n",
       "    </tr>\n",
       "    <tr>\n",
       "      <th>rain_days</th>\n",
       "      <td>-3.534947e+04</td>\n",
       "    </tr>\n",
       "    <tr>\n",
       "      <th>pressure</th>\n",
       "      <td>4.944749e+04</td>\n",
       "    </tr>\n",
       "    <tr>\n",
       "      <th>cost_of_living_index</th>\n",
       "      <td>3.034049e+04</td>\n",
       "    </tr>\n",
       "    <tr>\n",
       "      <th>population</th>\n",
       "      <td>1.529940e-01</td>\n",
       "    </tr>\n",
       "    <tr>\n",
       "      <th>lat</th>\n",
       "      <td>-7.807620e+03</td>\n",
       "    </tr>\n",
       "    <tr>\n",
       "      <th>lng</th>\n",
       "      <td>-9.247085e+03</td>\n",
       "    </tr>\n",
       "    <tr>\n",
       "      <th>Type_International</th>\n",
       "      <td>1.553967e+06</td>\n",
       "    </tr>\n",
       "  </tbody>\n",
       "</table>\n",
       "</div>"
      ],
      "text/plain": [
       "                      Coefficients\n",
       "ds                    3.504466e+02\n",
       "temperature_mean      2.698766e+04\n",
       "precipitation         9.187404e+02\n",
       "rain_days            -3.534947e+04\n",
       "pressure              4.944749e+04\n",
       "cost_of_living_index  3.034049e+04\n",
       "population            1.529940e-01\n",
       "lat                  -7.807620e+03\n",
       "lng                  -9.247085e+03\n",
       "Type_International    1.553967e+06"
      ]
     },
     "execution_count": 95,
     "metadata": {},
     "output_type": "execute_result"
    }
   ],
   "source": [
    "coeff"
   ]
  },
  {
   "cell_type": "markdown",
   "metadata": {},
   "source": [
    "# Explaining The Results of the Coefficients\n",
    "- An increase or decrese in the coefficients has an effect on the target ie Passengers in this case"
   ]
  },
  {
   "cell_type": "code",
   "execution_count": null,
   "metadata": {},
   "outputs": [],
   "source": []
  },
  {
   "cell_type": "markdown",
   "metadata": {},
   "source": [
    "# Prediction"
   ]
  },
  {
   "cell_type": "code",
   "execution_count": 98,
   "metadata": {},
   "outputs": [],
   "source": [
    "pred = lm.predict(X_test)"
   ]
  },
  {
   "cell_type": "code",
   "execution_count": 99,
   "metadata": {},
   "outputs": [
    {
     "data": {
      "text/plain": [
       "array([1776616.48971528, 3491671.14863223, 1972372.01035529,\n",
       "       1805659.94344348, 1076569.32029617, 2024097.86065352,\n",
       "       2367479.29139203, 2188882.12713653, 2740087.21921486,\n",
       "       1906074.79065549, 7524853.56394428, 2294538.33303875,\n",
       "       1943874.59837228, 1800598.61049557, 3848784.03251499,\n",
       "       1932128.93987983, 1691920.18728876, 2226488.88513392,\n",
       "       1320921.14248013, 2374059.14730787, 1229825.92609286,\n",
       "       1849451.83347869, 1431825.02114642, 2054121.20455945,\n",
       "       1732204.79847938, 2029658.64130849, 4962783.73819178,\n",
       "       1182701.73650056, 2259560.18525881, 1831130.22010583,\n",
       "       2553141.24199849, 3828908.0048151 , 1928018.53266674,\n",
       "       1498574.38514775, 1669321.08165509, 2153527.24033713,\n",
       "       2141809.25137913, 2982655.43046528, 2017511.7564857 ,\n",
       "       2436207.9011113 , 2340270.0874151 ,  999577.66082084,\n",
       "       4092098.84913605,  961694.41937417, 4173824.87291098,\n",
       "        782013.70253807, 1394541.0325827 , 2323122.19779032,\n",
       "       3408250.00627977, 4039424.52414083, 2521333.09415954,\n",
       "        769142.15825778, 1507805.18022102, 2574442.03963268,\n",
       "       2518613.55564642, 3077884.78757137, 2698974.77046424,\n",
       "       6556762.77705669, 1598128.3347823 , 1678180.00733811,\n",
       "       2745814.39973837, 2289141.86562955, 2751671.9314732 ,\n",
       "       5222274.36804634, 2805647.57857358, 4131576.92774367,\n",
       "        816653.28836375, 2155752.51738197, 2001148.05508786,\n",
       "       1444200.31454146, 1407668.03591895, 1074357.95976466,\n",
       "       1678578.29794091, 3105785.55423772, 2573162.31026083,\n",
       "       4310015.07326937, 3559368.90130895, 1398713.76740265,\n",
       "       2361989.7915954 , 1190219.69380617, 1723906.95451492,\n",
       "       3885052.64870894, 3818209.42665076, 3846514.19680631,\n",
       "       1596783.26473784, 1433394.14621007, 1682000.89941841,\n",
       "       1277243.42531401, 1789731.25365388,  313969.11092472,\n",
       "       1741304.49195868, 1697781.68088263, 2807270.40466386,\n",
       "       3357619.46233535, 1964207.98468894, 2224049.18354374,\n",
       "       2017092.52989227, 1624259.98235476, 4628473.1169765 ,\n",
       "       2902283.40945947, 1427268.45690757, 1607795.06377745,\n",
       "       2060328.55233222, 1410840.04360491, 6643719.82751244,\n",
       "        -60916.5924018 , 2227684.0691008 , 1397778.07947707,\n",
       "       1996222.4139331 , 2879662.32470268, 1577973.69483811,\n",
       "       1367125.0239194 , 1487523.09189463, 1746456.47373992,\n",
       "       1763693.34947693, 1765001.54793978, 3497782.91373026,\n",
       "       2104163.16043353, 2882582.65325737, 2672561.32192391,\n",
       "       6159937.20713836, 2987480.93074524, 1442924.50360084,\n",
       "       2137416.73236614, 1041342.03055596, 1174605.07732832,\n",
       "       1904817.15227801, 2254791.90807331, 2274198.25106508,\n",
       "        913281.34437126, 2801959.58356607, 1881125.34170789,\n",
       "       1528711.08582413, 1401269.7204116 , 1726194.66406339,\n",
       "       2215449.89177459, 2126783.70572215, 1485368.28356493,\n",
       "       1833107.78209901, 1909757.91178232, 2082163.63652062,\n",
       "       2413841.16942745, 1960786.28230721, 1955433.89193761,\n",
       "       4643748.05127358, 7565382.2959097 , 1601461.86939275,\n",
       "       1177167.99240422, 2365583.29593581, 1670164.49203521,\n",
       "       4497433.25860345, 1405972.81748217, 3449984.29481345,\n",
       "       6842280.91959071, 1514762.79038596, 2183130.80244362,\n",
       "       2223582.88788235, 3282861.85902524, 3103165.67076677,\n",
       "       1358493.16814619, 2045985.45055079,   96078.97036493,\n",
       "       1181358.87890488, 2331380.37056345, 2368385.25201941,\n",
       "       3281386.12181872, 1752914.85648602, 2524633.57129335,\n",
       "       1960037.40865451, 2602262.58831173, 2347904.834351  ,\n",
       "       4737085.29047966, 1859066.18053722, 1998068.62654394,\n",
       "       1802352.63441116, 3086293.05810732, 1966134.77099675,\n",
       "        716995.44970381, 3483547.19214153, 2430912.54088724,\n",
       "       4015361.93356633, 2102448.36026537, 1214692.98662388,\n",
       "       1513894.2184121 , 2254921.92809951, 1520747.1790874 ,\n",
       "       1713008.48152459, 1265420.67412084,  805940.59076452,\n",
       "       2368958.16428018, 3340862.61679637, 3291896.55527055,\n",
       "       1600908.82475579, 1695609.98313582, 2305497.98003072,\n",
       "       1734901.51012647, 1261847.90461963, 2155846.91317981,\n",
       "       1138753.08154404, 2444671.06806231, 1874138.41217798,\n",
       "       1284592.7989912 , 1219581.49438429, 1091166.21074104,\n",
       "       2830052.65574819, 1421158.47188562, 1137186.487571  ,\n",
       "       1412202.80782044, 6538914.97972047, 1296740.33388448,\n",
       "       1683314.00106329, 2265571.67606372, 1647990.35751706,\n",
       "       1773512.99233812,  938403.75763988, 2055139.59515184,\n",
       "       1979670.95227706, 3197161.62683213, 3074039.2238363 ,\n",
       "       3253952.8443554 , 3134374.30020124,  974372.46102315,\n",
       "       6043288.33717287, 2500784.01326054, 1219930.66017634,\n",
       "       2595585.15860868, 1913219.36225235, 2307158.45050442,\n",
       "       2773148.50364089, 2778695.09637678, 2064055.26113194,\n",
       "        986196.60981381,  538835.70659745, 2107611.10329193,\n",
       "       1812408.10064173, 2798725.2906521 , 3215677.80743951,\n",
       "       2244046.46819216,  761310.27588779, 1502637.0160712 ,\n",
       "       1555579.16431397, 1077596.86947393, 1577236.31802201,\n",
       "       1815497.05627495, 2342030.60402751, 2773288.56404436,\n",
       "       1550606.86078197,  731193.35928839, 3949660.05202138,\n",
       "       1566751.57699966, 1507447.11929584, 1801481.42731661,\n",
       "       3026051.55092567, 6689144.21950054, 1960743.50512582,\n",
       "       5375786.63059437, 1307954.08192921, 1893854.72545856,\n",
       "        784861.06899631, 2074271.38910067, 2735953.04240829,\n",
       "        345944.07054496, 2097222.31719941,  886049.82090253,\n",
       "       3007542.80348724, 1312349.80773014, 4649138.54160762,\n",
       "       2327846.15220642, 2027181.64528036, 1406742.63306481,\n",
       "       2714806.67524463, 2152606.47086322, 2903772.44257104,\n",
       "       1247976.30320591, 4013264.74458772,  379030.92247355,\n",
       "       1553458.89925909, 3671624.70410335, 1793153.70558983,\n",
       "        691265.99198902, 2910824.38667983, 2698502.39624906,\n",
       "       2224275.24774599,  712213.88012302, 1403630.27459401,\n",
       "       2168079.43844604, 1439061.86710739, 1101657.7116459 ,\n",
       "       1273560.0909242 ,  631435.28625953, 1697383.19292623,\n",
       "       2160572.2888549 , 4950095.98176992, 2687298.32889706,\n",
       "       4923250.10861844, 1809426.29934281, 1909096.47469372,\n",
       "       5063847.24939257, 1424764.80550551,  748972.00911158,\n",
       "       7846968.92092353, 7438699.49028748, 1607495.18240732,\n",
       "       1152679.87811476,  334551.68263268, 1372299.68894595,\n",
       "        614200.97715175, 1990008.15976053, 1498116.18024039,\n",
       "       1701100.45360672, 2027373.00621808, 1591783.40662861,\n",
       "       1316162.29008871, 1945071.02094549,  852328.77591783,\n",
       "       1963031.93793702, 2193317.58733994, 1636542.43188965,\n",
       "       1809822.71709347, 2094210.1322667 , 1999916.97044683,\n",
       "       2233488.64517945, 1536664.03813487, 2016993.88137859,\n",
       "       2654850.72526115, 3970844.21512914,  992616.95932776,\n",
       "       1937015.44515568, 1316821.17409259, 3657796.30822498,\n",
       "       1700886.08835077, 1405891.80584294,  697616.17263114,\n",
       "        442552.30579412,  672126.60661852, 1187444.03470916,\n",
       "       1422325.11544222, 3224662.02708709, 1625248.07919627,\n",
       "       2765963.30034   , 1961781.47045839, 3800306.21080661,\n",
       "       2984487.6347    , 2749555.20323145, 1277442.71779329,\n",
       "        628458.91573471, 3847536.67453134, 1802803.04001468,\n",
       "       6527903.55902427, 1425513.62080485, 3347772.69263572,\n",
       "       1879936.12285727, 1750716.19145828, 1617296.85155046,\n",
       "       2531952.66927153, 1340085.85075396, 3246265.11600214,\n",
       "       2343877.42456675, 2951321.43348926, 1169496.13139415,\n",
       "       2326582.40024215, 1257856.59146494, 1631615.00237095,\n",
       "       1840794.02753848, 1181686.21706635, 1777698.8284964 ,\n",
       "        947363.4552753 , 2889959.75616884, 1946489.98398864,\n",
       "        229145.11081183, 1328825.51786757, 2076402.60011148,\n",
       "       2456145.34111023,  786066.72235394, 1540489.14429373,\n",
       "       1814073.02397078, 1104138.66499996,  845794.59364867,\n",
       "       1089865.00004292, 1748648.43988919, 1491464.63844073,\n",
       "       2508756.66734004, 3645413.99481571, 2837233.95296907,\n",
       "       2505807.3810156 , 2102980.96952188, 1000929.69838977,\n",
       "       2450053.91178071, 1526126.60460365, 1334346.41192007,\n",
       "       1525236.46423358,  126919.34555286, 2595623.86675447,\n",
       "       1007258.36936396,  841592.09630615, 2033724.59748858,\n",
       "       1858482.4378382 , 2618121.86815786, 1854715.41177881,\n",
       "       1249917.48186857,  866601.83838809, 1776270.21941507,\n",
       "       1277564.54818547,  280443.33120644, 1514812.68371397,\n",
       "        990001.85461289, 3838360.74887413,  934268.64209932,\n",
       "        362006.40107203, 1229287.46043241, 2736849.05602407,\n",
       "       2645995.73584884, 2699551.49971747, 1733149.88632178,\n",
       "       1389203.94891459,  928633.45902115, 1674865.47008383,\n",
       "       2937633.97531492, 1993051.85963273, 1368117.53766072,\n",
       "       2088759.13747805, 1998909.73711556, 2621269.95195806,\n",
       "       2458061.10378987, 2048181.83403903, 2054367.55680257,\n",
       "       2432992.24836332, 1887944.30993873, 1028916.32277435,\n",
       "       1797753.30369282, 1394212.24551713, 1310137.07159519,\n",
       "       1145815.07418215, 4323835.07664603,  896489.39363313,\n",
       "       2595827.19625622, 2577471.29724026,  792865.33303303,\n",
       "        824848.51633871, 1826131.79614848, 2038179.13012856,\n",
       "        990766.81432712, 2372784.23769569, 2031397.49801624,\n",
       "        799157.54047114, 2849490.27969307, 1011424.24526948,\n",
       "       1000052.63367414, 4652838.75669885,  969392.10486096,\n",
       "       1665978.75309229, 1579642.36917001, 2587312.05932176,\n",
       "       1697692.63848257, 2717107.54081547, 1333660.53120536,\n",
       "       1532537.14471054, 1372015.7430442 , 1234660.60643929,\n",
       "       1816164.81384236, 1858288.71105713, 1373178.09305155,\n",
       "       2911718.23969668, 6340020.7890653 , 3343546.95046335,\n",
       "       1109357.10180837, 2316261.88994962, 2077553.81251913,\n",
       "       1542446.89282745, 3258212.05279899, 1234771.64727974,\n",
       "       2422645.47244751, 1881309.36975688, 3908455.02264124,\n",
       "       1888800.2215597 , 1160889.265733  ,  474863.54048574,\n",
       "       2480962.20340532, 2021487.08998692, 2918676.09599817,\n",
       "       1827275.23639303, 1301270.59455335, 2265807.88464403,\n",
       "       2020386.95015538, 3891276.6332069 , 1735334.1418978 ,\n",
       "       1229185.32557106, 1463327.90363032, 1905223.3555938 ,\n",
       "       2528248.22060478, 1731326.82043064, 1074869.33088958,\n",
       "       4481672.93999821, 5076742.13082147, 1060192.42996323,\n",
       "       3482838.94886398, 3931966.83498561, 3685732.24150342,\n",
       "       1999964.40327048, 1921969.68522799, 1156215.90104038,\n",
       "       1148461.97576642, 3879856.06527144, 1310463.85779077,\n",
       "       1054576.77537435,  691977.71939015, 1815109.42926532,\n",
       "       3817546.28285545, 2009328.01130641, 2459012.20585394,\n",
       "        749967.48419285, 3044348.56457454, 1795259.72363341,\n",
       "       2793371.73898154, 4241741.77863711, 1419699.69635242,\n",
       "       2696070.86519569, 1279771.91611433, 1594952.56237328,\n",
       "       1188889.43875527, 1816776.91297811, 3737061.97268754,\n",
       "       2387248.07457978,  979104.82581168, 3471904.80237734,\n",
       "       1851712.37824845, 2773034.45089763, 1927986.83089131,\n",
       "       2434634.60459983, 1963911.90901935, 2607519.75550872,\n",
       "       4134143.03967148, 2207567.33389747, 2569927.8363927 ,\n",
       "       1049400.07824397, 1636520.00905216, 2467440.8647756 ,\n",
       "       2638166.39906567, 1173352.09290904, 2001087.65617561,\n",
       "       1544186.76879203, 2090529.84154338, 1158903.69603938,\n",
       "        806114.53188074, 1764886.1222887 , 2789769.97867006,\n",
       "       2811098.53921115, 1093588.69013429, 3138834.01267916,\n",
       "       1999902.82223803, 1640704.51705289, 1920805.8016327 ,\n",
       "       4405428.8075906 ,  679509.78920513, 1320282.5582338 ,\n",
       "       2817784.26916343, 6496319.39035159, 1691601.53825009,\n",
       "       1238666.61091131, 2262930.44605368, 7149818.54108226,\n",
       "       2865875.25229865, 1372344.21121335, 2205639.18877268,\n",
       "        506918.7797507 ,  358234.09842914, 1816998.37556815,\n",
       "       3005011.10298783,  871250.82391149,  761843.97396547,\n",
       "       2015782.86805135, 3178398.63663822, 1513713.49121499,\n",
       "       1770605.84946841,  957403.31249869, 1706525.71403331,\n",
       "       1796233.98724216,  714765.53349471, 2587626.57895708,\n",
       "       1535737.46409726, 2964107.14984798, 2495426.28760046,\n",
       "       1442130.27902061, 1876271.69092768, 3442352.71476066,\n",
       "       2268814.03440177, 1906309.46873498, 3741496.66532439,\n",
       "       3223105.17555708, 1656767.60212135, 1863809.08861345,\n",
       "       1662098.33029091, 6825773.81159198, 1242213.80690616,\n",
       "       2922245.75139123, 1489171.61754405,  720516.39047629,\n",
       "       2677408.89978886, 1876659.78743613, 2040052.90443456,\n",
       "       2735856.4540506 , 1102894.52170938, 1562547.55251199,\n",
       "       1824368.79750335, 1859381.07553798, 2527354.17890769,\n",
       "       6888009.51838893, 1781841.25022656, 1870755.50888526,\n",
       "       6793212.12137341, 2038821.61549085, 5126860.63372511,\n",
       "       1813617.36357361, 1749789.64313579, 1550548.53345436,\n",
       "       2823060.00601172, 4708122.19366264, 1728382.38170803,\n",
       "       2490936.05788803, 1850226.1282509 , 4576710.80265903,\n",
       "       2308942.36496681, 2117782.18466651, 2612879.52429634,\n",
       "       2901131.01089251, 1943032.71587604, 4544852.77031171,\n",
       "       2828942.06697196, 4245869.21850538, 2645664.80357397,\n",
       "       2361721.76615864,  830024.73893183, 2496115.6659528 ,\n",
       "        825523.45592213, 1683505.68080664, 1360472.67375839,\n",
       "       2340995.83318096, 1597440.27216715, 1137043.65938759,\n",
       "       6544779.57947981, 2304047.84089047, 1321403.88651603,\n",
       "       3756644.94079214,  867843.02864605,  179460.91909438,\n",
       "       1461308.79264951, 1994525.38464808,  310556.94964588,\n",
       "       2768923.03073609, 1986215.02424926, 7699625.10129094,\n",
       "       1836333.10842729, 1053872.9446767 , 1433225.85215914,\n",
       "       2100326.26748359, 1584594.57099801, 1296284.48765367,\n",
       "       1171369.05613232,  401403.59451997, 2003205.6640237 ,\n",
       "       2634343.7754823 , 2432469.57375991, 2235977.46657348,\n",
       "       2070518.50708169,  348647.53401035, 1791676.40412319,\n",
       "       1674150.29450214, 1449939.18039018, 6879755.43260229,\n",
       "       1110678.44113034, 4101743.24236673, 4665629.59297073,\n",
       "       3002961.83858168,  571422.61928433, 1667293.51226771,\n",
       "       1624484.34851152, 1512554.63788122, 2229738.99307013,\n",
       "       4258014.38751864, 1724320.00310975, 2351494.33271813,\n",
       "       2930911.42232037, 3223257.50740361, 2825465.55372101,\n",
       "       1475573.02701497, 1609136.52029949, 1796545.9277705 ,\n",
       "       2776850.15255612, 2240155.12126964, 1315713.70017225,\n",
       "       1089942.47170419, 2639229.04428136,  884415.49755764,\n",
       "       1970192.46504444, 3320056.41387504, 3176184.62295294,\n",
       "        494109.72533989, 1229085.64610577, 3304739.72621912,\n",
       "        573021.8238014 , 1288808.99802279, 2172212.38260674,\n",
       "       1292640.25687194, 1466685.5988282 , 6793219.24287266,\n",
       "       1727088.21104354,  462462.82757974, 3133020.78634435,\n",
       "       2034874.2209332 ,  995761.14793402, 4641174.46515954,\n",
       "       2223595.19661468, 2180136.47277242, 4144869.87468159,\n",
       "       4558941.07013863, 3364569.82856882,  973973.77385503,\n",
       "       2535847.0540486 , 1437357.16972315, 1602445.76642835,\n",
       "       4182223.31313652, 1819545.16975349, 1230331.11480647,\n",
       "       1176057.95015007, 2299517.30951965, 1041506.66135991,\n",
       "       1270197.69101167, 1747204.63253969, 2253999.79149359,\n",
       "       2766454.64530361,  774549.01198012, 2668307.65248686,\n",
       "       3015497.20012134, 2046672.09157193, 1480204.49256581,\n",
       "       1708735.49984848,  990313.00873405, 1765344.56685883,\n",
       "       1833681.25407398, 2724015.16215807, 1661920.95230448,\n",
       "       2884879.88150179,  480802.83369213, 1485488.91148567,\n",
       "        244105.88869655, 3742334.56019437, 2670899.05786651,\n",
       "       1337560.05535406, 2605968.89326888, 1866032.84123409,\n",
       "       2291141.13621098, 1326731.74433041, 2141264.26698273,\n",
       "       1874749.85100573, 2562338.05938268,  756543.87028402,\n",
       "       2141394.10402113, 2110738.78866941, 2064716.16540921,\n",
       "       6680665.39297056,  559749.13825697, 1804469.33613998,\n",
       "       6978332.45767021, 1537063.03233397, 2648776.34849876,\n",
       "       1582950.28610462, 3010258.05051488, 2799587.64801365,\n",
       "       3942078.28390169, 2634971.16324145, 1112424.05931556,\n",
       "        973052.99422175, 1444739.705392  , 3152136.66419685,\n",
       "       2098683.30620086, 1787217.67674047, 2118101.53173369,\n",
       "       1821842.65390384, 1246912.49684763, 1692437.75668699,\n",
       "       1489078.98212045, 1288449.81502819, 1604250.33339494,\n",
       "       3478796.33321184, 4854453.43245673, 2288829.17895055,\n",
       "       1952016.80784112, 2301375.31599188, 1443102.96094996,\n",
       "       1106887.31506377, 1515166.95941085, 1798758.38772833,\n",
       "       2357174.19926965, 1964715.62928289, 2818393.43213737,\n",
       "       1788771.40878969, 4147961.76471835, 1635913.89004314,\n",
       "       5867990.93141174, 3163498.66250038,  788028.73794663,\n",
       "       1553031.85594827, 1042141.87605536, 2010985.65812868,\n",
       "       1662838.51946193, 1942573.71590137, 4233744.46390295,\n",
       "       1728661.6986717 , 4353123.84903371, 1588942.64148802,\n",
       "       2461362.49265701, 2264263.48938018, 1672667.13307035,\n",
       "       1340948.9844901 , 2005083.00364113, 5401886.25229812,\n",
       "       3938818.32588702, 2741722.39971668,  628041.86357802,\n",
       "       1777216.37694818, 1753048.88371754, 3385794.30083245,\n",
       "       1125030.09962833, 1579101.54050636, 2012196.51493698,\n",
       "       1877605.43618232, 6766937.60695809,  738440.79775959,\n",
       "        968104.95088029, 1796350.88822681, 4209272.27313977,\n",
       "        321674.51084554, 7543322.99742287, 3014115.94001329,\n",
       "       4719301.01725733, 2762241.61035788, 1744656.82599789,\n",
       "       2539221.16984689, 1873263.42228687,  821017.4671827 ,\n",
       "       2090570.11312032, 2019704.43903995, 1352952.6716792 ,\n",
       "        999705.6873771 , 4170733.91827685, 1861986.14085943,\n",
       "       1278758.47672075, 1289053.33604276, 1544898.24558526,\n",
       "       2288034.57305157, 1144471.79271531, 2892535.90161562,\n",
       "       3150592.50909603, 2758526.57825524, 1288483.78037417,\n",
       "        926551.1721065 , 2210752.550372  , 1668197.68898505,\n",
       "       2108907.02068818, 1720863.51570618, 1583951.94841594,\n",
       "       2124191.48348719, 2852907.8892011 , 3022380.41321725,\n",
       "        965365.60436177,  513418.46802104, 2171170.10993344,\n",
       "       2973140.5935241 , 3050078.23792368, 2135586.29951721,\n",
       "       1628726.48481721, 3847159.87019169, 1211084.56279254,\n",
       "       1575956.81195396,  513841.85064375, 1930618.88669777,\n",
       "       2563385.74133724, 2112095.79370308, 1385222.34477776,\n",
       "       6890583.52203256, 1938981.59153062, 2596379.28567749,\n",
       "       2142885.79062021, 2759271.64591306, 2829329.01913673,\n",
       "        947684.11758649, 2656287.87801689, 7489784.50441349,\n",
       "       7438984.95484352, 1293327.44699836,  987148.92086631,\n",
       "       1987637.19694328, 1632915.37481028, 1584614.58815342,\n",
       "       1931303.93572402, 2334212.01530421, 1737794.63693041,\n",
       "       1179029.98623258, 2036020.80208546, 1373502.40461349,\n",
       "       2709516.5261842 , 1221385.55721158, 4259896.57036573,\n",
       "       1609019.98451138, 3383167.63784426, 2012708.9438321 ,\n",
       "       1961857.48629254, 1746787.57568491, 2259396.22307593,\n",
       "       1212512.6700381 , 2149704.89980692, 3008405.69377518,\n",
       "       1658829.27075523,  721781.96808529, 1000379.24510562,\n",
       "       4210687.74790019, 1751320.62396878, 2790432.71076143,\n",
       "       1697839.68604422, 1317992.10684377,  875208.54650283,\n",
       "       1906594.30661911, 4215962.21894413, 2464139.0663141 ,\n",
       "        778021.24769801, 2157842.30383861, 3512210.80997354,\n",
       "       2075501.44815296, 2197266.86430627, 3354791.61921203,\n",
       "       1879925.78570002, 1907185.02324146, 2043579.78474814,\n",
       "       2759210.47379506, 2456147.52854311, 2353904.83383566,\n",
       "       1625959.24400276, 1078781.10537869,  926577.91305709,\n",
       "       3232140.82905734, 1271310.59136879, 1673674.84631121,\n",
       "       1981326.15616822, 1989204.3945052 , 1532525.82474744,\n",
       "        996746.46454108, 1701857.98244023, 2736512.59047812,\n",
       "       1590020.44516838, 1093504.82783782, 1866289.24573624,\n",
       "       1989831.35769492, 1264893.82981902, 3403069.11611092,\n",
       "       3826902.49081784, 2267308.75520229, 1618187.40937328,\n",
       "       2322993.97144622, 3348402.6320861 , 2649538.57448184,\n",
       "       1685027.62127304, 2211176.25503582, 1413229.68440711,\n",
       "       2912344.7098394 , 1767887.54715425, 1871112.40124714,\n",
       "       1414038.2041381 , 2161169.12133408, 1383561.96612102,\n",
       "       1537621.536412  , 2193003.0034309 , 2623959.20120794,\n",
       "       2191386.32108104, 2607928.99902409, 2988662.13725072,\n",
       "        877652.61702406, 1041250.47280264, 2791409.5354721 ,\n",
       "       2191258.73690844, 2030700.00995827, 2702785.55502766,\n",
       "       1463114.41230571, 3239583.87176716, 2161374.38477802,\n",
       "       1518607.84292448, 1224720.79161751, 1417612.46153808,\n",
       "       2330793.29511315, 1541547.16195208, 1226069.0657593 ,\n",
       "       1696666.30934525, 4203224.02114284,  616246.44738716,\n",
       "       2075247.32380539])"
      ]
     },
     "execution_count": 99,
     "metadata": {},
     "output_type": "execute_result"
    }
   ],
   "source": [
    "pred"
   ]
  },
  {
   "cell_type": "code",
   "execution_count": null,
   "metadata": {},
   "outputs": [],
   "source": []
  },
  {
   "cell_type": "code",
   "execution_count": 100,
   "metadata": {},
   "outputs": [
    {
     "data": {
      "text/plain": [
       "<matplotlib.collections.PathCollection at 0x1c26e1e128>"
      ]
     },
     "execution_count": 100,
     "metadata": {},
     "output_type": "execute_result"
    },
    {
     "data": {
      "image/png": "[encoded data removed]",
      "text/plain": [
       "<Figure size 432x288 with 1 Axes>"
      ]
     },
     "metadata": {
      "needs_background": "light"
     },
     "output_type": "display_data"
    }
   ],
   "source": [
    "plt.scatter(y_test , pred)"
   ]
  },
  {
   "cell_type": "code",
   "execution_count": 113,
   "metadata": {},
   "outputs": [
    {
     "data": {
      "image/png": "[encoded data removed]",
      "text/plain": [
       "<Figure size 432x288 with 1 Axes>"
      ]
     },
     "metadata": {
      "needs_background": "light"
     },
     "output_type": "display_data"
    }
   ],
   "source": [
    "plt.scatter(y_test , pred)\n",
    "plt.xlabel('y_test' , fontsize = 12)\n",
    "plt.ylabel('predictions' , fontsize = 12)\n",
    "plt.show()"
   ]
  },
  {
   "cell_type": "markdown",
   "metadata": {},
   "source": [
    "# Recreate a histogram for the residuals : y_test - prediction"
   ]
  },
  {
   "cell_type": "code",
   "execution_count": 115,
   "metadata": {},
   "outputs": [
    {
     "name": "stderr",
     "output_type": "stream",
     "text": [
      "/Users/flatironschool/opt/anaconda3/envs/learn-env/lib/python3.6/site-packages/scipy/stats/stats.py:1713: FutureWarning:\n",
      "\n",
      "Using a non-tuple sequence for multidimensional indexing is deprecated; use `arr[tuple(seq)]` instead of `arr[seq]`. In the future this will be interpreted as an array index, `arr[np.array(seq)]`, which will result either in an error or a different result.\n",
      "\n"
     ]
    },
    {
     "data": {
      "image/png": "[encoded data removed]",
      "text/plain": [
       "<Figure size 432x288 with 1 Axes>"
      ]
     },
     "metadata": {
      "needs_background": "light"
     },
     "output_type": "display_data"
    }
   ],
   "source": [
    "sns.distplot(y_test - pred)\n",
    "plt.show()"
   ]
  },
  {
   "cell_type": "code",
   "execution_count": null,
   "metadata": {},
   "outputs": [],
   "source": []
  },
  {
   "cell_type": "markdown",
   "metadata": {},
   "source": [
    "# Calculate Metrics"
   ]
  },
  {
   "cell_type": "code",
   "execution_count": 103,
   "metadata": {},
   "outputs": [],
   "source": [
    "from sklearn import metrics"
   ]
  },
  {
   "cell_type": "code",
   "execution_count": 111,
   "metadata": {},
   "outputs": [
    {
     "name": "stdout",
     "output_type": "stream",
     "text": [
      "MAE : 798341.30176276\n",
      "MSE : 1084186725245.7777\n",
      "RMSE : 1041242.875243705\n"
     ]
    }
   ],
   "source": [
    "print('MAE :',metrics.mean_absolute_error(y_test , pred))\n",
    "print('MSE :',metrics.mean_squared_error(y_test , pred))\n",
    "print('RMSE :',np.sqrt(metrics.mean_squared_error(y_test , pred)))"
   ]
  },
  {
   "cell_type": "code",
   "execution_count": null,
   "metadata": {},
   "outputs": [],
   "source": []
  },
  {
   "cell_type": "markdown",
   "metadata": {},
   "source": [
    "# Mean Square Error (MSE) or the residuals sum of squares"
   ]
  },
  {
   "cell_type": "code",
   "execution_count": 140,
   "metadata": {},
   "outputs": [
    {
     "name": "stdout",
     "output_type": "stream",
     "text": [
      "Mean Squared Error(MSE): 1084186725245.78\n"
     ]
    }
   ],
   "source": [
    "print(\"Mean Squared Error(MSE): %.2f\"\n",
    "         % np.mean((lm.predict(X_test) - y_test) ** 2))"
   ]
  },
  {
   "cell_type": "code",
   "execution_count": null,
   "metadata": {},
   "outputs": [],
   "source": []
  },
  {
   "cell_type": "markdown",
   "metadata": {},
   "source": [
    "# Checking r2\n",
    "\n",
    "### Rules of r2\n",
    "\n",
    "- r2 < 0.19   - very weak relationship/correlation between variables\n",
    "- 0.20 - 0.39 - weak relationship/correlation\n",
    "- 0.4 - 0.59 - moderate relationship\n",
    "- 0.6 - 0.79 - strong relationship"
   ]
  },
  {
   "cell_type": "markdown",
   "metadata": {},
   "source": [
    "# To be sure that our predictions we need to check for our r2"
   ]
  },
  {
   "cell_type": "code",
   "execution_count": 149,
   "metadata": {},
   "outputs": [
    {
     "name": "stdout",
     "output_type": "stream",
     "text": [
      "0.5633232867125878\n"
     ]
    }
   ],
   "source": [
    "from sklearn.metrics import mean_squared_error , r2_score\n",
    "print(r2_score(y_test , pred))"
   ]
  },
  {
   "cell_type": "code",
   "execution_count": null,
   "metadata": {},
   "outputs": [],
   "source": []
  },
  {
   "cell_type": "markdown",
   "metadata": {},
   "source": [
    "# Calculate the varaince"
   ]
  },
  {
   "cell_type": "markdown",
   "metadata": {},
   "source": [
    "### The closer the number is to 1 the better the accuracy of the model"
   ]
  },
  {
   "cell_type": "code",
   "execution_count": 143,
   "metadata": {},
   "outputs": [
    {
     "name": "stdout",
     "output_type": "stream",
     "text": [
      "variance score is 0.56\n"
     ]
    }
   ],
   "source": [
    "print(\"variance score is %.2f\"%lm.score(X_test , y_test))"
   ]
  },
  {
   "cell_type": "code",
   "execution_count": null,
   "metadata": {},
   "outputs": [],
   "source": []
  },
  {
   "cell_type": "markdown",
   "metadata": {},
   "source": [
    "# FINAL PREDICTION Into A Dataframe"
   ]
  },
  {
   "cell_type": "code",
   "execution_count": 163,
   "metadata": {},
   "outputs": [
    {
     "name": "stdout",
     "output_type": "stream",
     "text": [
      "1010405.2542907607\n",
      "1041242.875243705\n"
     ]
    },
    {
     "data": {
      "text/html": [
       "<div>\n",
       "<style scoped>\n",
       "    .dataframe tbody tr th:only-of-type {\n",
       "        vertical-align: middle;\n",
       "    }\n",
       "\n",
       "    .dataframe tbody tr th {\n",
       "        vertical-align: top;\n",
       "    }\n",
       "\n",
       "    .dataframe thead th {\n",
       "        text-align: right;\n",
       "    }\n",
       "</style>\n",
       "<table border=\"1\" class=\"dataframe\">\n",
       "  <thead>\n",
       "    <tr style=\"text-align: right;\">\n",
       "      <th></th>\n",
       "      <th>Actual</th>\n",
       "      <th>Predicted</th>\n",
       "    </tr>\n",
       "  </thead>\n",
       "  <tbody>\n",
       "    <tr>\n",
       "      <th>856</th>\n",
       "      <td>2690353</td>\n",
       "      <td>1.776616e+06</td>\n",
       "    </tr>\n",
       "    <tr>\n",
       "      <th>3656</th>\n",
       "      <td>3360871</td>\n",
       "      <td>3.491671e+06</td>\n",
       "    </tr>\n",
       "    <tr>\n",
       "      <th>4900</th>\n",
       "      <td>1787661</td>\n",
       "      <td>1.972372e+06</td>\n",
       "    </tr>\n",
       "    <tr>\n",
       "      <th>4177</th>\n",
       "      <td>1038264</td>\n",
       "      <td>1.805660e+06</td>\n",
       "    </tr>\n",
       "    <tr>\n",
       "      <th>3867</th>\n",
       "      <td>1163942</td>\n",
       "      <td>1.076569e+06</td>\n",
       "    </tr>\n",
       "    <tr>\n",
       "      <th>2295</th>\n",
       "      <td>2389606</td>\n",
       "      <td>2.024098e+06</td>\n",
       "    </tr>\n",
       "    <tr>\n",
       "      <th>4238</th>\n",
       "      <td>2465729</td>\n",
       "      <td>2.367479e+06</td>\n",
       "    </tr>\n",
       "    <tr>\n",
       "      <th>2634</th>\n",
       "      <td>2947033</td>\n",
       "      <td>2.188882e+06</td>\n",
       "    </tr>\n",
       "    <tr>\n",
       "      <th>350</th>\n",
       "      <td>654910</td>\n",
       "      <td>2.740087e+06</td>\n",
       "    </tr>\n",
       "    <tr>\n",
       "      <th>4049</th>\n",
       "      <td>835387</td>\n",
       "      <td>1.906075e+06</td>\n",
       "    </tr>\n",
       "  </tbody>\n",
       "</table>\n",
       "</div>"
      ],
      "text/plain": [
       "       Actual     Predicted\n",
       "856   2690353  1.776616e+06\n",
       "3656  3360871  3.491671e+06\n",
       "4900  1787661  1.972372e+06\n",
       "4177  1038264  1.805660e+06\n",
       "3867  1163942  1.076569e+06\n",
       "2295  2389606  2.024098e+06\n",
       "4238  2465729  2.367479e+06\n",
       "2634  2947033  2.188882e+06\n",
       "350    654910  2.740087e+06\n",
       "4049   835387  1.906075e+06"
      ]
     },
     "execution_count": 163,
     "metadata": {},
     "output_type": "execute_result"
    },
    {
     "data": {
      "image/png": "[encoded data removed]",
      "text/plain": [
       "<Figure size 432x288 with 1 Axes>"
      ]
     },
     "metadata": {
      "needs_background": "light"
     },
     "output_type": "display_data"
    }
   ],
   "source": [
    "from sklearn.metrics import mean_squared_error\n",
    "\n",
    "plt.scatter(y_train, lm.predict(X_train))\n",
    "print(np.sqrt(mean_squared_error(y_train, lm.predict(X_train))))\n",
    "plt.scatter(y_test, lm.predict(X_test))\n",
    "print(np.sqrt(mean_squared_error(y_test, lm.predict(X_test))))\n",
    "pd.DataFrame({'Actual':y_test, 'Predicted': lm.predict(X_test)}).head(10)"
   ]
  },
  {
   "cell_type": "code",
   "execution_count": null,
   "metadata": {},
   "outputs": [],
   "source": []
  },
  {
   "cell_type": "markdown",
   "metadata": {},
   "source": [
    "# Regularization\n",
    "\n",
    "### Regularisation is used to solve overfitting to the training data by restricting the value or parameters that are estimated in the model\n",
    "### Note : It doesnt improve the model performance of the algorithm on the dataset that has been defined as per the model parameters. It can improve the generalization performance."
   ]
  },
  {
   "cell_type": "code",
   "execution_count": null,
   "metadata": {},
   "outputs": [],
   "source": []
  },
  {
   "cell_type": "markdown",
   "metadata": {},
   "source": [
    "# Ridge Regression L2 \n",
    "`- It is used when there is the problem of multicollinearity . By adding a degree of bias to the regression estimates\n",
    "  ,Ridge regression reduces the standard errors`"
   ]
  },
  {
   "cell_type": "code",
   "execution_count": 164,
   "metadata": {},
   "outputs": [
    {
     "name": "stdout",
     "output_type": "stream",
     "text": [
      "1010405.3146769239\n",
      "1041239.3443338225\n",
      "R2 Value/Coefficient of Determination: 0.563326248295413\n"
     ]
    }
   ],
   "source": [
    "from sklearn.linear_model import Ridge\n",
    "ridgeReg = Ridge(alpha=0.0001, normalize=True)\n",
    "ridgeReg.fit(X_train,y_train)\n",
    "print(np.sqrt(mean_squared_error(y_train, ridgeReg.predict(X_train))))\n",
    "print(np.sqrt(mean_squared_error(y_test, ridgeReg.predict(X_test))))\n",
    "print('R2 Value/Coefficient of Determination: {}'.format(ridgeReg.score(X_test, y_test)))"
   ]
  },
  {
   "cell_type": "code",
   "execution_count": null,
   "metadata": {},
   "outputs": [],
   "source": []
  },
  {
   "cell_type": "markdown",
   "metadata": {},
   "source": [
    "# Lasso Regression (L1)\n",
    "`- Similar to Ridge , but it also performs feature selection . It uses shrinkage , where data values are shrunk toward\n",
    "  a central point like the mean`.\n",
    "    \n",
    "    `- It tends to exclude variables that are not required from the equation ,whereas Ridge tends to do better when   all the variables are present`.\n",
    "\n",
    "`- Lasso is well suited for models showing high levels of multicollinearity or when you want to automate certain parts\n",
    "  of the model selection`"
   ]
  },
  {
   "cell_type": "code",
   "execution_count": 165,
   "metadata": {},
   "outputs": [
    {
     "name": "stdout",
     "output_type": "stream",
     "text": [
      "1003444.4480152754\n",
      "1049451.899432467\n",
      "R2 Value/Coefficient of Determination: 0.5577427251129935\n"
     ]
    }
   ],
   "source": [
    "from sklearn.linear_model import Lasso\n",
    "lassoReg = Lasso(alpha=0.00001, normalize=True)\n",
    "lassoReg.fit(xtrain,ytrain)\n",
    "print(np.sqrt(mean_squared_error(ytrain, lassoReg.predict(xtrain))))\n",
    "print(np.sqrt(mean_squared_error(ytest, lassoReg.predict(xtest))))\n",
    "print('R2 Value/Coefficient of Determination: {}'.format(lassoReg.score(xtest, ytest)))"
   ]
  },
  {
   "cell_type": "code",
   "execution_count": null,
   "metadata": {},
   "outputs": [],
   "source": []
  },
  {
   "cell_type": "markdown",
   "metadata": {},
   "source": [
    "# ElasticNet"
   ]
  },
  {
   "cell_type": "code",
   "execution_count": 166,
   "metadata": {},
   "outputs": [
    {
     "name": "stdout",
     "output_type": "stream",
     "text": [
      "1004878.0025986015\n",
      "1049781.0300515688\n",
      "R2 Value/Coefficient of Determination: 0.5574652788837808\n"
     ]
    }
   ],
   "source": [
    "from sklearn.linear_model import ElasticNet\n",
    "Elastic = ElasticNet(alpha=0.00001, normalize=True)\n",
    "Elastic.fit(xtrain,ytrain)\n",
    "print(np.sqrt(mean_squared_error(ytrain, Elastic.predict(xtrain))))\n",
    "print(np.sqrt(mean_squared_error(ytest, Elastic.predict(xtest))))\n",
    "print('R2 Value/Coefficient of Determination: {}'.format(Elastic.score(xtest, ytest)))"
   ]
  },
  {
   "cell_type": "code",
   "execution_count": null,
   "metadata": {},
   "outputs": [],
   "source": []
  },
  {
   "cell_type": "markdown",
   "metadata": {},
   "source": [
    "# Note :Since i got an r2 of 0.56 as the highest r2 this means that the model is moderately strong as per the r2 rules"
   ]
  },
  {
   "cell_type": "code",
   "execution_count": null,
   "metadata": {},
   "outputs": [],
   "source": []
  },
  {
   "cell_type": "code",
   "execution_count": null,
   "metadata": {},
   "outputs": [],
   "source": []
  },
  {
   "cell_type": "code",
   "execution_count": null,
   "metadata": {},
   "outputs": [],
   "source": []
  },
  {
   "cell_type": "code",
   "execution_count": null,
   "metadata": {},
   "outputs": [],
   "source": []
  },
  {
   "cell_type": "code",
   "execution_count": null,
   "metadata": {},
   "outputs": [],
   "source": []
  },
  {
   "cell_type": "markdown",
   "metadata": {},
   "source": [
    "# Improving the model - As Per CRISDM"
   ]
  },
  {
   "cell_type": "code",
   "execution_count": 189,
   "metadata": {},
   "outputs": [
    {
     "data": {
      "text/html": [
       "<div>\n",
       "<style scoped>\n",
       "    .dataframe tbody tr th:only-of-type {\n",
       "        vertical-align: middle;\n",
       "    }\n",
       "\n",
       "    .dataframe tbody tr th {\n",
       "        vertical-align: top;\n",
       "    }\n",
       "\n",
       "    .dataframe thead th {\n",
       "        text-align: right;\n",
       "    }\n",
       "</style>\n",
       "<table border=\"1\" class=\"dataframe\">\n",
       "  <thead>\n",
       "    <tr style=\"text-align: right;\">\n",
       "      <th></th>\n",
       "      <th>field1</th>\n",
       "      <th>ds</th>\n",
       "      <th>city</th>\n",
       "      <th>PASSENGERS</th>\n",
       "      <th>Type</th>\n",
       "      <th>temperature_mean</th>\n",
       "      <th>precipitation</th>\n",
       "      <th>rain_days</th>\n",
       "      <th>pressure</th>\n",
       "      <th>cost_of_living_index</th>\n",
       "      <th>population</th>\n",
       "      <th>city_ascii</th>\n",
       "      <th>lat</th>\n",
       "      <th>lng</th>\n",
       "      <th>country</th>\n",
       "      <th>iso2</th>\n",
       "      <th>iso3</th>\n",
       "    </tr>\n",
       "  </thead>\n",
       "  <tbody>\n",
       "    <tr>\n",
       "      <th>0</th>\n",
       "      <td>0</td>\n",
       "      <td>733773</td>\n",
       "      <td>Atlanta</td>\n",
       "      <td>2735491</td>\n",
       "      <td>Domestic</td>\n",
       "      <td>3.6</td>\n",
       "      <td>137.0</td>\n",
       "      <td>7.0</td>\n",
       "      <td>1019.50</td>\n",
       "      <td>100.99</td>\n",
       "      <td>429193.0</td>\n",
       "      <td>Atlanta</td>\n",
       "      <td>33.7627</td>\n",
       "      <td>-84.4225</td>\n",
       "      <td>United States</td>\n",
       "      <td>US</td>\n",
       "      <td>USA</td>\n",
       "    </tr>\n",
       "    <tr>\n",
       "      <th>1</th>\n",
       "      <td>1</td>\n",
       "      <td>733773</td>\n",
       "      <td>Washington</td>\n",
       "      <td>1929494</td>\n",
       "      <td>Domestic</td>\n",
       "      <td>0.4</td>\n",
       "      <td>57.0</td>\n",
       "      <td>8.0</td>\n",
       "      <td>1016.70</td>\n",
       "      <td>98.19</td>\n",
       "      <td>605085.0</td>\n",
       "      <td>Washington</td>\n",
       "      <td>38.9047</td>\n",
       "      <td>-77.0163</td>\n",
       "      <td>United States</td>\n",
       "      <td>US</td>\n",
       "      <td>USA</td>\n",
       "    </tr>\n",
       "    <tr>\n",
       "      <th>2</th>\n",
       "      <td>2</td>\n",
       "      <td>733773</td>\n",
       "      <td>Singapore</td>\n",
       "      <td>1681005</td>\n",
       "      <td>International</td>\n",
       "      <td>27.5</td>\n",
       "      <td>70.0</td>\n",
       "      <td>8.0</td>\n",
       "      <td>1011.60</td>\n",
       "      <td>65.94</td>\n",
       "      <td>5074252.0</td>\n",
       "      <td>Singapore</td>\n",
       "      <td>1.2930</td>\n",
       "      <td>103.8558</td>\n",
       "      <td>Singapore</td>\n",
       "      <td>SG</td>\n",
       "      <td>SGP</td>\n",
       "    </tr>\n",
       "    <tr>\n",
       "      <th>3</th>\n",
       "      <td>3</td>\n",
       "      <td>733773</td>\n",
       "      <td>Berlin</td>\n",
       "      <td>489487</td>\n",
       "      <td>International</td>\n",
       "      <td>-4.9</td>\n",
       "      <td>21.0</td>\n",
       "      <td>7.0</td>\n",
       "      <td>1014.78</td>\n",
       "      <td>115.24</td>\n",
       "      <td>3450395.0</td>\n",
       "      <td>Berlin</td>\n",
       "      <td>52.5218</td>\n",
       "      <td>13.4015</td>\n",
       "      <td>Germany</td>\n",
       "      <td>DE</td>\n",
       "      <td>DEU</td>\n",
       "    </tr>\n",
       "    <tr>\n",
       "      <th>4</th>\n",
       "      <td>4</td>\n",
       "      <td>733773</td>\n",
       "      <td>Paris</td>\n",
       "      <td>4154249</td>\n",
       "      <td>International</td>\n",
       "      <td>0.6</td>\n",
       "      <td>36.0</td>\n",
       "      <td>7.0</td>\n",
       "      <td>1015.60</td>\n",
       "      <td>130.30</td>\n",
       "      <td>10460118.0</td>\n",
       "      <td>Paris</td>\n",
       "      <td>48.8667</td>\n",
       "      <td>2.3333</td>\n",
       "      <td>France</td>\n",
       "      <td>FR</td>\n",
       "      <td>FRA</td>\n",
       "    </tr>\n",
       "  </tbody>\n",
       "</table>\n",
       "</div>"
      ],
      "text/plain": [
       "   field1      ds        city  PASSENGERS           Type  temperature_mean  \\\n",
       "0       0  733773     Atlanta     2735491       Domestic               3.6   \n",
       "1       1  733773  Washington     1929494       Domestic               0.4   \n",
       "2       2  733773   Singapore     1681005  International              27.5   \n",
       "3       3  733773      Berlin      489487  International              -4.9   \n",
       "4       4  733773       Paris     4154249  International               0.6   \n",
       "\n",
       "   precipitation  rain_days  pressure  cost_of_living_index  population  \\\n",
       "0          137.0        7.0   1019.50                100.99    429193.0   \n",
       "1           57.0        8.0   1016.70                 98.19    605085.0   \n",
       "2           70.0        8.0   1011.60                 65.94   5074252.0   \n",
       "3           21.0        7.0   1014.78                115.24   3450395.0   \n",
       "4           36.0        7.0   1015.60                130.30  10460118.0   \n",
       "\n",
       "   city_ascii      lat       lng        country iso2 iso3  \n",
       "0     Atlanta  33.7627  -84.4225  United States   US  USA  \n",
       "1  Washington  38.9047  -77.0163  United States   US  USA  \n",
       "2   Singapore   1.2930  103.8558      Singapore   SG  SGP  \n",
       "3      Berlin  52.5218   13.4015        Germany   DE  DEU  \n",
       "4       Paris  48.8667    2.3333         France   FR  FRA  "
      ]
     },
     "execution_count": 189,
     "metadata": {},
     "output_type": "execute_result"
    }
   ],
   "source": [
    "df1.head()"
   ]
  },
  {
   "cell_type": "code",
   "execution_count": 190,
   "metadata": {},
   "outputs": [],
   "source": [
    "df1.drop(\"field1\" , 1 , inplace = True)"
   ]
  },
  {
   "cell_type": "code",
   "execution_count": null,
   "metadata": {},
   "outputs": [],
   "source": [
    "# Check for Multicollinearity"
   ]
  },
  {
   "cell_type": "code",
   "execution_count": null,
   "metadata": {},
   "outputs": [],
   "source": []
  },
  {
   "cell_type": "code",
   "execution_count": 191,
   "metadata": {},
   "outputs": [],
   "source": [
    "df2 = df1.copy()"
   ]
  },
  {
   "cell_type": "code",
   "execution_count": 192,
   "metadata": {},
   "outputs": [
    {
     "data": {
      "text/html": [
       "<div>\n",
       "<style scoped>\n",
       "    .dataframe tbody tr th:only-of-type {\n",
       "        vertical-align: middle;\n",
       "    }\n",
       "\n",
       "    .dataframe tbody tr th {\n",
       "        vertical-align: top;\n",
       "    }\n",
       "\n",
       "    .dataframe thead th {\n",
       "        text-align: right;\n",
       "    }\n",
       "</style>\n",
       "<table border=\"1\" class=\"dataframe\">\n",
       "  <thead>\n",
       "    <tr style=\"text-align: right;\">\n",
       "      <th></th>\n",
       "      <th>ds</th>\n",
       "      <th>city</th>\n",
       "      <th>PASSENGERS</th>\n",
       "      <th>Type</th>\n",
       "      <th>temperature_mean</th>\n",
       "      <th>precipitation</th>\n",
       "      <th>rain_days</th>\n",
       "      <th>pressure</th>\n",
       "      <th>cost_of_living_index</th>\n",
       "      <th>population</th>\n",
       "      <th>city_ascii</th>\n",
       "      <th>lat</th>\n",
       "      <th>lng</th>\n",
       "      <th>country</th>\n",
       "      <th>iso2</th>\n",
       "      <th>iso3</th>\n",
       "    </tr>\n",
       "  </thead>\n",
       "  <tbody>\n",
       "    <tr>\n",
       "      <th>0</th>\n",
       "      <td>733773</td>\n",
       "      <td>Atlanta</td>\n",
       "      <td>2735491</td>\n",
       "      <td>Domestic</td>\n",
       "      <td>3.6</td>\n",
       "      <td>137.0</td>\n",
       "      <td>7.0</td>\n",
       "      <td>1019.50</td>\n",
       "      <td>100.99</td>\n",
       "      <td>429193.0</td>\n",
       "      <td>Atlanta</td>\n",
       "      <td>33.7627</td>\n",
       "      <td>-84.4225</td>\n",
       "      <td>United States</td>\n",
       "      <td>US</td>\n",
       "      <td>USA</td>\n",
       "    </tr>\n",
       "    <tr>\n",
       "      <th>1</th>\n",
       "      <td>733773</td>\n",
       "      <td>Washington</td>\n",
       "      <td>1929494</td>\n",
       "      <td>Domestic</td>\n",
       "      <td>0.4</td>\n",
       "      <td>57.0</td>\n",
       "      <td>8.0</td>\n",
       "      <td>1016.70</td>\n",
       "      <td>98.19</td>\n",
       "      <td>605085.0</td>\n",
       "      <td>Washington</td>\n",
       "      <td>38.9047</td>\n",
       "      <td>-77.0163</td>\n",
       "      <td>United States</td>\n",
       "      <td>US</td>\n",
       "      <td>USA</td>\n",
       "    </tr>\n",
       "    <tr>\n",
       "      <th>2</th>\n",
       "      <td>733773</td>\n",
       "      <td>Singapore</td>\n",
       "      <td>1681005</td>\n",
       "      <td>International</td>\n",
       "      <td>27.5</td>\n",
       "      <td>70.0</td>\n",
       "      <td>8.0</td>\n",
       "      <td>1011.60</td>\n",
       "      <td>65.94</td>\n",
       "      <td>5074252.0</td>\n",
       "      <td>Singapore</td>\n",
       "      <td>1.2930</td>\n",
       "      <td>103.8558</td>\n",
       "      <td>Singapore</td>\n",
       "      <td>SG</td>\n",
       "      <td>SGP</td>\n",
       "    </tr>\n",
       "    <tr>\n",
       "      <th>3</th>\n",
       "      <td>733773</td>\n",
       "      <td>Berlin</td>\n",
       "      <td>489487</td>\n",
       "      <td>International</td>\n",
       "      <td>-4.9</td>\n",
       "      <td>21.0</td>\n",
       "      <td>7.0</td>\n",
       "      <td>1014.78</td>\n",
       "      <td>115.24</td>\n",
       "      <td>3450395.0</td>\n",
       "      <td>Berlin</td>\n",
       "      <td>52.5218</td>\n",
       "      <td>13.4015</td>\n",
       "      <td>Germany</td>\n",
       "      <td>DE</td>\n",
       "      <td>DEU</td>\n",
       "    </tr>\n",
       "    <tr>\n",
       "      <th>4</th>\n",
       "      <td>733773</td>\n",
       "      <td>Paris</td>\n",
       "      <td>4154249</td>\n",
       "      <td>International</td>\n",
       "      <td>0.6</td>\n",
       "      <td>36.0</td>\n",
       "      <td>7.0</td>\n",
       "      <td>1015.60</td>\n",
       "      <td>130.30</td>\n",
       "      <td>10460118.0</td>\n",
       "      <td>Paris</td>\n",
       "      <td>48.8667</td>\n",
       "      <td>2.3333</td>\n",
       "      <td>France</td>\n",
       "      <td>FR</td>\n",
       "      <td>FRA</td>\n",
       "    </tr>\n",
       "  </tbody>\n",
       "</table>\n",
       "</div>"
      ],
      "text/plain": [
       "       ds        city  PASSENGERS           Type  temperature_mean  \\\n",
       "0  733773     Atlanta     2735491       Domestic               3.6   \n",
       "1  733773  Washington     1929494       Domestic               0.4   \n",
       "2  733773   Singapore     1681005  International              27.5   \n",
       "3  733773      Berlin      489487  International              -4.9   \n",
       "4  733773       Paris     4154249  International               0.6   \n",
       "\n",
       "   precipitation  rain_days  pressure  cost_of_living_index  population  \\\n",
       "0          137.0        7.0   1019.50                100.99    429193.0   \n",
       "1           57.0        8.0   1016.70                 98.19    605085.0   \n",
       "2           70.0        8.0   1011.60                 65.94   5074252.0   \n",
       "3           21.0        7.0   1014.78                115.24   3450395.0   \n",
       "4           36.0        7.0   1015.60                130.30  10460118.0   \n",
       "\n",
       "   city_ascii      lat       lng        country iso2 iso3  \n",
       "0     Atlanta  33.7627  -84.4225  United States   US  USA  \n",
       "1  Washington  38.9047  -77.0163  United States   US  USA  \n",
       "2   Singapore   1.2930  103.8558      Singapore   SG  SGP  \n",
       "3      Berlin  52.5218   13.4015        Germany   DE  DEU  \n",
       "4       Paris  48.8667    2.3333         France   FR  FRA  "
      ]
     },
     "execution_count": 192,
     "metadata": {},
     "output_type": "execute_result"
    }
   ],
   "source": [
    "df2.head()"
   ]
  },
  {
   "cell_type": "code",
   "execution_count": 193,
   "metadata": {},
   "outputs": [
    {
     "data": {
      "text/plain": [
       "ds                      0\n",
       "city                    0\n",
       "PASSENGERS              0\n",
       "Type                    0\n",
       "temperature_mean        0\n",
       "precipitation           0\n",
       "rain_days               0\n",
       "pressure                0\n",
       "cost_of_living_index    0\n",
       "population              0\n",
       "city_ascii              0\n",
       "lat                     0\n",
       "lng                     0\n",
       "country                 0\n",
       "iso2                    0\n",
       "iso3                    0\n",
       "dtype: int64"
      ]
     },
     "execution_count": 193,
     "metadata": {},
     "output_type": "execute_result"
    }
   ],
   "source": [
    "#check for nulls\n",
    "df2.isna().sum()"
   ]
  },
  {
   "cell_type": "code",
   "execution_count": 194,
   "metadata": {},
   "outputs": [],
   "source": [
    "#Drop columns\n",
    "df2.drop(columns=['country','iso2','iso3'], inplace=True)\n"
   ]
  },
  {
   "cell_type": "code",
   "execution_count": null,
   "metadata": {},
   "outputs": [],
   "source": []
  },
  {
   "cell_type": "code",
   "execution_count": 195,
   "metadata": {},
   "outputs": [],
   "source": [
    "##Coverting the categorical data to numerical data using onehot encoder\n",
    "df2 = pd.get_dummies(df2, columns=[\"city\",\"Type\"], )\n"
   ]
  },
  {
   "cell_type": "code",
   "execution_count": 196,
   "metadata": {},
   "outputs": [
    {
     "data": {
      "text/html": [
       "<div>\n",
       "<style scoped>\n",
       "    .dataframe tbody tr th:only-of-type {\n",
       "        vertical-align: middle;\n",
       "    }\n",
       "\n",
       "    .dataframe tbody tr th {\n",
       "        vertical-align: top;\n",
       "    }\n",
       "\n",
       "    .dataframe thead th {\n",
       "        text-align: right;\n",
       "    }\n",
       "</style>\n",
       "<table border=\"1\" class=\"dataframe\">\n",
       "  <thead>\n",
       "    <tr style=\"text-align: right;\">\n",
       "      <th></th>\n",
       "      <th>ds</th>\n",
       "      <th>PASSENGERS</th>\n",
       "      <th>temperature_mean</th>\n",
       "      <th>precipitation</th>\n",
       "      <th>rain_days</th>\n",
       "      <th>pressure</th>\n",
       "      <th>cost_of_living_index</th>\n",
       "      <th>population</th>\n",
       "      <th>city_ascii</th>\n",
       "      <th>lat</th>\n",
       "      <th>...</th>\n",
       "      <th>city_Seattle</th>\n",
       "      <th>city_Seoul</th>\n",
       "      <th>city_Singapore</th>\n",
       "      <th>city_St. Louis</th>\n",
       "      <th>city_Taipei</th>\n",
       "      <th>city_Tampa</th>\n",
       "      <th>city_Tokyo</th>\n",
       "      <th>city_Washington</th>\n",
       "      <th>Type_Domestic</th>\n",
       "      <th>Type_International</th>\n",
       "    </tr>\n",
       "  </thead>\n",
       "  <tbody>\n",
       "    <tr>\n",
       "      <th>0</th>\n",
       "      <td>733773</td>\n",
       "      <td>2735491</td>\n",
       "      <td>3.6</td>\n",
       "      <td>137.0</td>\n",
       "      <td>7.0</td>\n",
       "      <td>1019.50</td>\n",
       "      <td>100.99</td>\n",
       "      <td>429193.0</td>\n",
       "      <td>Atlanta</td>\n",
       "      <td>33.7627</td>\n",
       "      <td>...</td>\n",
       "      <td>0</td>\n",
       "      <td>0</td>\n",
       "      <td>0</td>\n",
       "      <td>0</td>\n",
       "      <td>0</td>\n",
       "      <td>0</td>\n",
       "      <td>0</td>\n",
       "      <td>0</td>\n",
       "      <td>1</td>\n",
       "      <td>0</td>\n",
       "    </tr>\n",
       "    <tr>\n",
       "      <th>1</th>\n",
       "      <td>733773</td>\n",
       "      <td>1929494</td>\n",
       "      <td>0.4</td>\n",
       "      <td>57.0</td>\n",
       "      <td>8.0</td>\n",
       "      <td>1016.70</td>\n",
       "      <td>98.19</td>\n",
       "      <td>605085.0</td>\n",
       "      <td>Washington</td>\n",
       "      <td>38.9047</td>\n",
       "      <td>...</td>\n",
       "      <td>0</td>\n",
       "      <td>0</td>\n",
       "      <td>0</td>\n",
       "      <td>0</td>\n",
       "      <td>0</td>\n",
       "      <td>0</td>\n",
       "      <td>0</td>\n",
       "      <td>1</td>\n",
       "      <td>1</td>\n",
       "      <td>0</td>\n",
       "    </tr>\n",
       "    <tr>\n",
       "      <th>2</th>\n",
       "      <td>733773</td>\n",
       "      <td>1681005</td>\n",
       "      <td>27.5</td>\n",
       "      <td>70.0</td>\n",
       "      <td>8.0</td>\n",
       "      <td>1011.60</td>\n",
       "      <td>65.94</td>\n",
       "      <td>5074252.0</td>\n",
       "      <td>Singapore</td>\n",
       "      <td>1.2930</td>\n",
       "      <td>...</td>\n",
       "      <td>0</td>\n",
       "      <td>0</td>\n",
       "      <td>1</td>\n",
       "      <td>0</td>\n",
       "      <td>0</td>\n",
       "      <td>0</td>\n",
       "      <td>0</td>\n",
       "      <td>0</td>\n",
       "      <td>0</td>\n",
       "      <td>1</td>\n",
       "    </tr>\n",
       "    <tr>\n",
       "      <th>3</th>\n",
       "      <td>733773</td>\n",
       "      <td>489487</td>\n",
       "      <td>-4.9</td>\n",
       "      <td>21.0</td>\n",
       "      <td>7.0</td>\n",
       "      <td>1014.78</td>\n",
       "      <td>115.24</td>\n",
       "      <td>3450395.0</td>\n",
       "      <td>Berlin</td>\n",
       "      <td>52.5218</td>\n",
       "      <td>...</td>\n",
       "      <td>0</td>\n",
       "      <td>0</td>\n",
       "      <td>0</td>\n",
       "      <td>0</td>\n",
       "      <td>0</td>\n",
       "      <td>0</td>\n",
       "      <td>0</td>\n",
       "      <td>0</td>\n",
       "      <td>0</td>\n",
       "      <td>1</td>\n",
       "    </tr>\n",
       "    <tr>\n",
       "      <th>4</th>\n",
       "      <td>733773</td>\n",
       "      <td>4154249</td>\n",
       "      <td>0.6</td>\n",
       "      <td>36.0</td>\n",
       "      <td>7.0</td>\n",
       "      <td>1015.60</td>\n",
       "      <td>130.30</td>\n",
       "      <td>10460118.0</td>\n",
       "      <td>Paris</td>\n",
       "      <td>48.8667</td>\n",
       "      <td>...</td>\n",
       "      <td>0</td>\n",
       "      <td>0</td>\n",
       "      <td>0</td>\n",
       "      <td>0</td>\n",
       "      <td>0</td>\n",
       "      <td>0</td>\n",
       "      <td>0</td>\n",
       "      <td>0</td>\n",
       "      <td>0</td>\n",
       "      <td>1</td>\n",
       "    </tr>\n",
       "  </tbody>\n",
       "</table>\n",
       "<p>5 rows × 55 columns</p>\n",
       "</div>"
      ],
      "text/plain": [
       "       ds  PASSENGERS  temperature_mean  precipitation  rain_days  pressure  \\\n",
       "0  733773     2735491               3.6          137.0        7.0   1019.50   \n",
       "1  733773     1929494               0.4           57.0        8.0   1016.70   \n",
       "2  733773     1681005              27.5           70.0        8.0   1011.60   \n",
       "3  733773      489487              -4.9           21.0        7.0   1014.78   \n",
       "4  733773     4154249               0.6           36.0        7.0   1015.60   \n",
       "\n",
       "   cost_of_living_index  population  city_ascii      lat  ...  city_Seattle  \\\n",
       "0                100.99    429193.0     Atlanta  33.7627  ...             0   \n",
       "1                 98.19    605085.0  Washington  38.9047  ...             0   \n",
       "2                 65.94   5074252.0   Singapore   1.2930  ...             0   \n",
       "3                115.24   3450395.0      Berlin  52.5218  ...             0   \n",
       "4                130.30  10460118.0       Paris  48.8667  ...             0   \n",
       "\n",
       "   city_Seoul  city_Singapore  city_St. Louis  city_Taipei  city_Tampa  \\\n",
       "0           0               0               0            0           0   \n",
       "1           0               0               0            0           0   \n",
       "2           0               1               0            0           0   \n",
       "3           0               0               0            0           0   \n",
       "4           0               0               0            0           0   \n",
       "\n",
       "   city_Tokyo  city_Washington  Type_Domestic  Type_International  \n",
       "0           0                0              1                   0  \n",
       "1           0                1              1                   0  \n",
       "2           0                0              0                   1  \n",
       "3           0                0              0                   1  \n",
       "4           0                0              0                   1  \n",
       "\n",
       "[5 rows x 55 columns]"
      ]
     },
     "execution_count": 196,
     "metadata": {},
     "output_type": "execute_result"
    }
   ],
   "source": [
    "#Check results\n",
    "df2.head()"
   ]
  },
  {
   "cell_type": "code",
   "execution_count": 200,
   "metadata": {},
   "outputs": [],
   "source": [
    "df3 = df1.copy()"
   ]
  },
  {
   "cell_type": "code",
   "execution_count": 202,
   "metadata": {},
   "outputs": [],
   "source": [
    "# Create dummy variables\n",
    "df3=pd.get_dummies(df3, columns=[\"city\",\"Type\",\"city_ascii\",\"iso3\"], drop_first=True )\n"
   ]
  },
  {
   "cell_type": "code",
   "execution_count": 211,
   "metadata": {},
   "outputs": [],
   "source": [
    "df3.drop(\"country\" , 1 , inplace=True)"
   ]
  },
  {
   "cell_type": "code",
   "execution_count": 219,
   "metadata": {},
   "outputs": [],
   "source": [
    "df3.drop('iso2' , 1 , inplace = True)"
   ]
  },
  {
   "cell_type": "code",
   "execution_count": 198,
   "metadata": {},
   "outputs": [],
   "source": [
    "# df3.drop(\"city_ascii\" , 1 , inplace=True)"
   ]
  },
  {
   "cell_type": "code",
   "execution_count": 203,
   "metadata": {},
   "outputs": [
    {
     "data": {
      "text/html": [
       "<div>\n",
       "<style scoped>\n",
       "    .dataframe tbody tr th:only-of-type {\n",
       "        vertical-align: middle;\n",
       "    }\n",
       "\n",
       "    .dataframe tbody tr th {\n",
       "        vertical-align: top;\n",
       "    }\n",
       "\n",
       "    .dataframe thead th {\n",
       "        text-align: right;\n",
       "    }\n",
       "</style>\n",
       "<table border=\"1\" class=\"dataframe\">\n",
       "  <thead>\n",
       "    <tr style=\"text-align: right;\">\n",
       "      <th></th>\n",
       "      <th>ds</th>\n",
       "      <th>PASSENGERS</th>\n",
       "      <th>temperature_mean</th>\n",
       "      <th>precipitation</th>\n",
       "      <th>rain_days</th>\n",
       "      <th>pressure</th>\n",
       "      <th>cost_of_living_index</th>\n",
       "      <th>population</th>\n",
       "      <th>lat</th>\n",
       "      <th>lng</th>\n",
       "      <th>...</th>\n",
       "      <th>iso3_ISL</th>\n",
       "      <th>iso3_ITA</th>\n",
       "      <th>iso3_JPN</th>\n",
       "      <th>iso3_KOR</th>\n",
       "      <th>iso3_NLD</th>\n",
       "      <th>iso3_SGP</th>\n",
       "      <th>iso3_THA</th>\n",
       "      <th>iso3_TWN</th>\n",
       "      <th>iso3_USA</th>\n",
       "      <th>iso3_VEN</th>\n",
       "    </tr>\n",
       "  </thead>\n",
       "  <tbody>\n",
       "    <tr>\n",
       "      <th>0</th>\n",
       "      <td>733773</td>\n",
       "      <td>2735491</td>\n",
       "      <td>3.6</td>\n",
       "      <td>137.0</td>\n",
       "      <td>7.0</td>\n",
       "      <td>1019.50</td>\n",
       "      <td>100.99</td>\n",
       "      <td>429193.0</td>\n",
       "      <td>33.7627</td>\n",
       "      <td>-84.4225</td>\n",
       "      <td>...</td>\n",
       "      <td>0</td>\n",
       "      <td>0</td>\n",
       "      <td>0</td>\n",
       "      <td>0</td>\n",
       "      <td>0</td>\n",
       "      <td>0</td>\n",
       "      <td>0</td>\n",
       "      <td>0</td>\n",
       "      <td>1</td>\n",
       "      <td>0</td>\n",
       "    </tr>\n",
       "    <tr>\n",
       "      <th>1</th>\n",
       "      <td>733773</td>\n",
       "      <td>1929494</td>\n",
       "      <td>0.4</td>\n",
       "      <td>57.0</td>\n",
       "      <td>8.0</td>\n",
       "      <td>1016.70</td>\n",
       "      <td>98.19</td>\n",
       "      <td>605085.0</td>\n",
       "      <td>38.9047</td>\n",
       "      <td>-77.0163</td>\n",
       "      <td>...</td>\n",
       "      <td>0</td>\n",
       "      <td>0</td>\n",
       "      <td>0</td>\n",
       "      <td>0</td>\n",
       "      <td>0</td>\n",
       "      <td>0</td>\n",
       "      <td>0</td>\n",
       "      <td>0</td>\n",
       "      <td>1</td>\n",
       "      <td>0</td>\n",
       "    </tr>\n",
       "    <tr>\n",
       "      <th>2</th>\n",
       "      <td>733773</td>\n",
       "      <td>1681005</td>\n",
       "      <td>27.5</td>\n",
       "      <td>70.0</td>\n",
       "      <td>8.0</td>\n",
       "      <td>1011.60</td>\n",
       "      <td>65.94</td>\n",
       "      <td>5074252.0</td>\n",
       "      <td>1.2930</td>\n",
       "      <td>103.8558</td>\n",
       "      <td>...</td>\n",
       "      <td>0</td>\n",
       "      <td>0</td>\n",
       "      <td>0</td>\n",
       "      <td>0</td>\n",
       "      <td>0</td>\n",
       "      <td>1</td>\n",
       "      <td>0</td>\n",
       "      <td>0</td>\n",
       "      <td>0</td>\n",
       "      <td>0</td>\n",
       "    </tr>\n",
       "    <tr>\n",
       "      <th>3</th>\n",
       "      <td>733773</td>\n",
       "      <td>489487</td>\n",
       "      <td>-4.9</td>\n",
       "      <td>21.0</td>\n",
       "      <td>7.0</td>\n",
       "      <td>1014.78</td>\n",
       "      <td>115.24</td>\n",
       "      <td>3450395.0</td>\n",
       "      <td>52.5218</td>\n",
       "      <td>13.4015</td>\n",
       "      <td>...</td>\n",
       "      <td>0</td>\n",
       "      <td>0</td>\n",
       "      <td>0</td>\n",
       "      <td>0</td>\n",
       "      <td>0</td>\n",
       "      <td>0</td>\n",
       "      <td>0</td>\n",
       "      <td>0</td>\n",
       "      <td>0</td>\n",
       "      <td>0</td>\n",
       "    </tr>\n",
       "    <tr>\n",
       "      <th>4</th>\n",
       "      <td>733773</td>\n",
       "      <td>4154249</td>\n",
       "      <td>0.6</td>\n",
       "      <td>36.0</td>\n",
       "      <td>7.0</td>\n",
       "      <td>1015.60</td>\n",
       "      <td>130.30</td>\n",
       "      <td>10460118.0</td>\n",
       "      <td>48.8667</td>\n",
       "      <td>2.3333</td>\n",
       "      <td>...</td>\n",
       "      <td>0</td>\n",
       "      <td>0</td>\n",
       "      <td>0</td>\n",
       "      <td>0</td>\n",
       "      <td>0</td>\n",
       "      <td>0</td>\n",
       "      <td>0</td>\n",
       "      <td>0</td>\n",
       "      <td>0</td>\n",
       "      <td>0</td>\n",
       "    </tr>\n",
       "    <tr>\n",
       "      <th>...</th>\n",
       "      <td>...</td>\n",
       "      <td>...</td>\n",
       "      <td>...</td>\n",
       "      <td>...</td>\n",
       "      <td>...</td>\n",
       "      <td>...</td>\n",
       "      <td>...</td>\n",
       "      <td>...</td>\n",
       "      <td>...</td>\n",
       "      <td>...</td>\n",
       "      <td>...</td>\n",
       "      <td>...</td>\n",
       "      <td>...</td>\n",
       "      <td>...</td>\n",
       "      <td>...</td>\n",
       "      <td>...</td>\n",
       "      <td>...</td>\n",
       "      <td>...</td>\n",
       "      <td>...</td>\n",
       "      <td>...</td>\n",
       "      <td>...</td>\n",
       "    </tr>\n",
       "    <tr>\n",
       "      <th>4963</th>\n",
       "      <td>737029</td>\n",
       "      <td>3794306</td>\n",
       "      <td>4.7</td>\n",
       "      <td>175.0</td>\n",
       "      <td>11.0</td>\n",
       "      <td>1019.10</td>\n",
       "      <td>100.00</td>\n",
       "      <td>8398748.0</td>\n",
       "      <td>40.6943</td>\n",
       "      <td>-73.9249</td>\n",
       "      <td>...</td>\n",
       "      <td>0</td>\n",
       "      <td>0</td>\n",
       "      <td>0</td>\n",
       "      <td>0</td>\n",
       "      <td>0</td>\n",
       "      <td>0</td>\n",
       "      <td>0</td>\n",
       "      <td>0</td>\n",
       "      <td>1</td>\n",
       "      <td>0</td>\n",
       "    </tr>\n",
       "    <tr>\n",
       "      <th>4964</th>\n",
       "      <td>737029</td>\n",
       "      <td>1295947</td>\n",
       "      <td>-3.3</td>\n",
       "      <td>39.0</td>\n",
       "      <td>4.0</td>\n",
       "      <td>1018.50</td>\n",
       "      <td>81.46</td>\n",
       "      <td>425403.0</td>\n",
       "      <td>44.9635</td>\n",
       "      <td>-93.2678</td>\n",
       "      <td>...</td>\n",
       "      <td>0</td>\n",
       "      <td>0</td>\n",
       "      <td>0</td>\n",
       "      <td>0</td>\n",
       "      <td>0</td>\n",
       "      <td>0</td>\n",
       "      <td>0</td>\n",
       "      <td>0</td>\n",
       "      <td>1</td>\n",
       "      <td>0</td>\n",
       "    </tr>\n",
       "    <tr>\n",
       "      <th>4965</th>\n",
       "      <td>737029</td>\n",
       "      <td>3491734</td>\n",
       "      <td>14.8</td>\n",
       "      <td>37.0</td>\n",
       "      <td>2.0</td>\n",
       "      <td>1017.90</td>\n",
       "      <td>82.30</td>\n",
       "      <td>3990456.0</td>\n",
       "      <td>34.1139</td>\n",
       "      <td>-118.4068</td>\n",
       "      <td>...</td>\n",
       "      <td>0</td>\n",
       "      <td>0</td>\n",
       "      <td>0</td>\n",
       "      <td>0</td>\n",
       "      <td>0</td>\n",
       "      <td>0</td>\n",
       "      <td>0</td>\n",
       "      <td>0</td>\n",
       "      <td>1</td>\n",
       "      <td>0</td>\n",
       "    </tr>\n",
       "    <tr>\n",
       "      <th>4966</th>\n",
       "      <td>737029</td>\n",
       "      <td>3491734</td>\n",
       "      <td>14.8</td>\n",
       "      <td>37.0</td>\n",
       "      <td>2.0</td>\n",
       "      <td>1017.90</td>\n",
       "      <td>82.30</td>\n",
       "      <td>3990456.0</td>\n",
       "      <td>-37.4600</td>\n",
       "      <td>-72.3600</td>\n",
       "      <td>...</td>\n",
       "      <td>0</td>\n",
       "      <td>0</td>\n",
       "      <td>0</td>\n",
       "      <td>0</td>\n",
       "      <td>0</td>\n",
       "      <td>0</td>\n",
       "      <td>0</td>\n",
       "      <td>0</td>\n",
       "      <td>0</td>\n",
       "      <td>0</td>\n",
       "    </tr>\n",
       "    <tr>\n",
       "      <th>4967</th>\n",
       "      <td>737029</td>\n",
       "      <td>2267294</td>\n",
       "      <td>22.2</td>\n",
       "      <td>40.0</td>\n",
       "      <td>2.0</td>\n",
       "      <td>1019.20</td>\n",
       "      <td>86.01</td>\n",
       "      <td>470914.0</td>\n",
       "      <td>25.7839</td>\n",
       "      <td>-80.2102</td>\n",
       "      <td>...</td>\n",
       "      <td>0</td>\n",
       "      <td>0</td>\n",
       "      <td>0</td>\n",
       "      <td>0</td>\n",
       "      <td>0</td>\n",
       "      <td>0</td>\n",
       "      <td>0</td>\n",
       "      <td>0</td>\n",
       "      <td>1</td>\n",
       "      <td>0</td>\n",
       "    </tr>\n",
       "  </tbody>\n",
       "</table>\n",
       "<p>4968 rows × 115 columns</p>\n",
       "</div>"
      ],
      "text/plain": [
       "          ds  PASSENGERS  temperature_mean  precipitation  rain_days  \\\n",
       "0     733773     2735491               3.6          137.0        7.0   \n",
       "1     733773     1929494               0.4           57.0        8.0   \n",
       "2     733773     1681005              27.5           70.0        8.0   \n",
       "3     733773      489487              -4.9           21.0        7.0   \n",
       "4     733773     4154249               0.6           36.0        7.0   \n",
       "...      ...         ...               ...            ...        ...   \n",
       "4963  737029     3794306               4.7          175.0       11.0   \n",
       "4964  737029     1295947              -3.3           39.0        4.0   \n",
       "4965  737029     3491734              14.8           37.0        2.0   \n",
       "4966  737029     3491734              14.8           37.0        2.0   \n",
       "4967  737029     2267294              22.2           40.0        2.0   \n",
       "\n",
       "      pressure  cost_of_living_index  population      lat       lng  ...  \\\n",
       "0      1019.50                100.99    429193.0  33.7627  -84.4225  ...   \n",
       "1      1016.70                 98.19    605085.0  38.9047  -77.0163  ...   \n",
       "2      1011.60                 65.94   5074252.0   1.2930  103.8558  ...   \n",
       "3      1014.78                115.24   3450395.0  52.5218   13.4015  ...   \n",
       "4      1015.60                130.30  10460118.0  48.8667    2.3333  ...   \n",
       "...        ...                   ...         ...      ...       ...  ...   \n",
       "4963   1019.10                100.00   8398748.0  40.6943  -73.9249  ...   \n",
       "4964   1018.50                 81.46    425403.0  44.9635  -93.2678  ...   \n",
       "4965   1017.90                 82.30   3990456.0  34.1139 -118.4068  ...   \n",
       "4966   1017.90                 82.30   3990456.0 -37.4600  -72.3600  ...   \n",
       "4967   1019.20                 86.01    470914.0  25.7839  -80.2102  ...   \n",
       "\n",
       "     iso3_ISL iso3_ITA  iso3_JPN  iso3_KOR  iso3_NLD  iso3_SGP  iso3_THA  \\\n",
       "0           0        0         0         0         0         0         0   \n",
       "1           0        0         0         0         0         0         0   \n",
       "2           0        0         0         0         0         1         0   \n",
       "3           0        0         0         0         0         0         0   \n",
       "4           0        0         0         0         0         0         0   \n",
       "...       ...      ...       ...       ...       ...       ...       ...   \n",
       "4963        0        0         0         0         0         0         0   \n",
       "4964        0        0         0         0         0         0         0   \n",
       "4965        0        0         0         0         0         0         0   \n",
       "4966        0        0         0         0         0         0         0   \n",
       "4967        0        0         0         0         0         0         0   \n",
       "\n",
       "      iso3_TWN  iso3_USA  iso3_VEN  \n",
       "0            0         1         0  \n",
       "1            0         1         0  \n",
       "2            0         0         0  \n",
       "3            0         0         0  \n",
       "4            0         0         0  \n",
       "...        ...       ...       ...  \n",
       "4963         0         1         0  \n",
       "4964         0         1         0  \n",
       "4965         0         1         0  \n",
       "4966         0         0         0  \n",
       "4967         0         1         0  \n",
       "\n",
       "[4968 rows x 115 columns]"
      ]
     },
     "execution_count": 203,
     "metadata": {},
     "output_type": "execute_result"
    }
   ],
   "source": [
    "df3"
   ]
  },
  {
   "cell_type": "code",
   "execution_count": null,
   "metadata": {},
   "outputs": [],
   "source": []
  },
  {
   "cell_type": "code",
   "execution_count": 220,
   "metadata": {},
   "outputs": [],
   "source": [
    "X1 = df3.drop('PASSENGERS' ,1 )\n",
    "y1 = df3['PASSENGERS']"
   ]
  },
  {
   "cell_type": "code",
   "execution_count": 221,
   "metadata": {},
   "outputs": [],
   "source": [
    "#Splitting data\n",
    "Xtrain , Xtest , ytrain, ytest = train_test_split(X1 , y1 , test_size = 0.2 , random_state = 42)"
   ]
  },
  {
   "cell_type": "code",
   "execution_count": 222,
   "metadata": {},
   "outputs": [
    {
     "name": "stdout",
     "output_type": "stream",
     "text": [
      "(3974, 112)\n",
      "(994, 112)\n",
      "(3974,)\n",
      "(994,)\n"
     ]
    }
   ],
   "source": [
    "#Check shape of DF\n",
    "print(Xtrain.shape)\n",
    "print(Xtest.shape)\n",
    "print(ytrain.shape)\n",
    "print(ytest.shape)"
   ]
  },
  {
   "cell_type": "code",
   "execution_count": 223,
   "metadata": {},
   "outputs": [
    {
     "data": {
      "text/html": [
       "<div>\n",
       "<style scoped>\n",
       "    .dataframe tbody tr th:only-of-type {\n",
       "        vertical-align: middle;\n",
       "    }\n",
       "\n",
       "    .dataframe tbody tr th {\n",
       "        vertical-align: top;\n",
       "    }\n",
       "\n",
       "    .dataframe thead th {\n",
       "        text-align: right;\n",
       "    }\n",
       "</style>\n",
       "<table border=\"1\" class=\"dataframe\">\n",
       "  <thead>\n",
       "    <tr style=\"text-align: right;\">\n",
       "      <th></th>\n",
       "      <th>ds</th>\n",
       "      <th>temperature_mean</th>\n",
       "      <th>precipitation</th>\n",
       "      <th>rain_days</th>\n",
       "      <th>pressure</th>\n",
       "      <th>cost_of_living_index</th>\n",
       "      <th>population</th>\n",
       "      <th>lat</th>\n",
       "      <th>lng</th>\n",
       "      <th>city_Athens</th>\n",
       "      <th>...</th>\n",
       "      <th>iso3_ISL</th>\n",
       "      <th>iso3_ITA</th>\n",
       "      <th>iso3_JPN</th>\n",
       "      <th>iso3_KOR</th>\n",
       "      <th>iso3_NLD</th>\n",
       "      <th>iso3_SGP</th>\n",
       "      <th>iso3_THA</th>\n",
       "      <th>iso3_TWN</th>\n",
       "      <th>iso3_USA</th>\n",
       "      <th>iso3_VEN</th>\n",
       "    </tr>\n",
       "  </thead>\n",
       "  <tbody>\n",
       "    <tr>\n",
       "      <th>1477</th>\n",
       "      <td>734747</td>\n",
       "      <td>16.6</td>\n",
       "      <td>99.0</td>\n",
       "      <td>9.0</td>\n",
       "      <td>1019.4</td>\n",
       "      <td>118.52</td>\n",
       "      <td>8044433.0</td>\n",
       "      <td>42.9700</td>\n",
       "      <td>-81.2500</td>\n",
       "      <td>0</td>\n",
       "      <td>...</td>\n",
       "      <td>0</td>\n",
       "      <td>0</td>\n",
       "      <td>0</td>\n",
       "      <td>0</td>\n",
       "      <td>0</td>\n",
       "      <td>0</td>\n",
       "      <td>0</td>\n",
       "      <td>0</td>\n",
       "      <td>0</td>\n",
       "      <td>0</td>\n",
       "    </tr>\n",
       "    <tr>\n",
       "      <th>4054</th>\n",
       "      <td>736450</td>\n",
       "      <td>27.7</td>\n",
       "      <td>0.0</td>\n",
       "      <td>0.0</td>\n",
       "      <td>1007.5</td>\n",
       "      <td>69.08</td>\n",
       "      <td>1634984.0</td>\n",
       "      <td>33.5722</td>\n",
       "      <td>-112.0891</td>\n",
       "      <td>0</td>\n",
       "      <td>...</td>\n",
       "      <td>0</td>\n",
       "      <td>0</td>\n",
       "      <td>0</td>\n",
       "      <td>0</td>\n",
       "      <td>0</td>\n",
       "      <td>0</td>\n",
       "      <td>0</td>\n",
       "      <td>0</td>\n",
       "      <td>1</td>\n",
       "      <td>0</td>\n",
       "    </tr>\n",
       "    <tr>\n",
       "      <th>2218</th>\n",
       "      <td>735234</td>\n",
       "      <td>22.6</td>\n",
       "      <td>63.0</td>\n",
       "      <td>9.0</td>\n",
       "      <td>1013.5</td>\n",
       "      <td>106.27</td>\n",
       "      <td>349627.0</td>\n",
       "      <td>21.3294</td>\n",
       "      <td>-157.8460</td>\n",
       "      <td>0</td>\n",
       "      <td>...</td>\n",
       "      <td>0</td>\n",
       "      <td>0</td>\n",
       "      <td>0</td>\n",
       "      <td>0</td>\n",
       "      <td>0</td>\n",
       "      <td>0</td>\n",
       "      <td>0</td>\n",
       "      <td>0</td>\n",
       "      <td>1</td>\n",
       "      <td>0</td>\n",
       "    </tr>\n",
       "    <tr>\n",
       "      <th>4102</th>\n",
       "      <td>736481</td>\n",
       "      <td>26.7</td>\n",
       "      <td>14.0</td>\n",
       "      <td>4.0</td>\n",
       "      <td>1017.0</td>\n",
       "      <td>99.54</td>\n",
       "      <td>349651.0</td>\n",
       "      <td>21.3294</td>\n",
       "      <td>-157.8460</td>\n",
       "      <td>0</td>\n",
       "      <td>...</td>\n",
       "      <td>0</td>\n",
       "      <td>0</td>\n",
       "      <td>0</td>\n",
       "      <td>0</td>\n",
       "      <td>0</td>\n",
       "      <td>0</td>\n",
       "      <td>0</td>\n",
       "      <td>0</td>\n",
       "      <td>1</td>\n",
       "      <td>0</td>\n",
       "    </tr>\n",
       "    <tr>\n",
       "      <th>80</th>\n",
       "      <td>733804</td>\n",
       "      <td>-0.8</td>\n",
       "      <td>53.0</td>\n",
       "      <td>7.0</td>\n",
       "      <td>1019.2</td>\n",
       "      <td>80.35</td>\n",
       "      <td>319318.0</td>\n",
       "      <td>38.6358</td>\n",
       "      <td>-90.2451</td>\n",
       "      <td>0</td>\n",
       "      <td>...</td>\n",
       "      <td>0</td>\n",
       "      <td>0</td>\n",
       "      <td>0</td>\n",
       "      <td>0</td>\n",
       "      <td>0</td>\n",
       "      <td>0</td>\n",
       "      <td>0</td>\n",
       "      <td>0</td>\n",
       "      <td>1</td>\n",
       "      <td>0</td>\n",
       "    </tr>\n",
       "  </tbody>\n",
       "</table>\n",
       "<p>5 rows × 112 columns</p>\n",
       "</div>"
      ],
      "text/plain": [
       "          ds  temperature_mean  precipitation  rain_days  pressure  \\\n",
       "1477  734747              16.6           99.0        9.0    1019.4   \n",
       "4054  736450              27.7            0.0        0.0    1007.5   \n",
       "2218  735234              22.6           63.0        9.0    1013.5   \n",
       "4102  736481              26.7           14.0        4.0    1017.0   \n",
       "80    733804              -0.8           53.0        7.0    1019.2   \n",
       "\n",
       "      cost_of_living_index  population      lat       lng  city_Athens  ...  \\\n",
       "1477                118.52   8044433.0  42.9700  -81.2500            0  ...   \n",
       "4054                 69.08   1634984.0  33.5722 -112.0891            0  ...   \n",
       "2218                106.27    349627.0  21.3294 -157.8460            0  ...   \n",
       "4102                 99.54    349651.0  21.3294 -157.8460            0  ...   \n",
       "80                   80.35    319318.0  38.6358  -90.2451            0  ...   \n",
       "\n",
       "      iso3_ISL  iso3_ITA  iso3_JPN  iso3_KOR  iso3_NLD  iso3_SGP  iso3_THA  \\\n",
       "1477         0         0         0         0         0         0         0   \n",
       "4054         0         0         0         0         0         0         0   \n",
       "2218         0         0         0         0         0         0         0   \n",
       "4102         0         0         0         0         0         0         0   \n",
       "80           0         0         0         0         0         0         0   \n",
       "\n",
       "      iso3_TWN  iso3_USA  iso3_VEN  \n",
       "1477         0         0         0  \n",
       "4054         0         1         0  \n",
       "2218         0         1         0  \n",
       "4102         0         1         0  \n",
       "80           0         1         0  \n",
       "\n",
       "[5 rows x 112 columns]"
      ]
     },
     "execution_count": 223,
     "metadata": {},
     "output_type": "execute_result"
    }
   ],
   "source": [
    "Xtrain.head()"
   ]
  },
  {
   "cell_type": "code",
   "execution_count": 224,
   "metadata": {},
   "outputs": [
    {
     "data": {
      "text/plain": [
       "Index(['ds', 'temperature_mean', 'precipitation', 'rain_days', 'pressure',\n",
       "       'cost_of_living_index', 'population', 'lat', 'lng', 'city_Athens',\n",
       "       ...\n",
       "       'iso3_ISL', 'iso3_ITA', 'iso3_JPN', 'iso3_KOR', 'iso3_NLD', 'iso3_SGP',\n",
       "       'iso3_THA', 'iso3_TWN', 'iso3_USA', 'iso3_VEN'],\n",
       "      dtype='object', length=112)"
      ]
     },
     "execution_count": 224,
     "metadata": {},
     "output_type": "execute_result"
    }
   ],
   "source": [
    "Xtrain.columns"
   ]
  },
  {
   "cell_type": "code",
   "execution_count": 232,
   "metadata": {},
   "outputs": [],
   "source": [
    "# Import linear model\n",
    "# Create an instance for the linear model\n",
    "model = linear_model.LinearRegression(normalize=True)"
   ]
  },
  {
   "cell_type": "code",
   "execution_count": 233,
   "metadata": {},
   "outputs": [
    {
     "data": {
      "text/plain": [
       "LinearRegression(copy_X=True, fit_intercept=True, n_jobs=None, normalize=True)"
      ]
     },
     "execution_count": 233,
     "metadata": {},
     "output_type": "execute_result"
    }
   ],
   "source": [
    "model.fit(Xtrain , ytrain)"
   ]
  },
  {
   "cell_type": "code",
   "execution_count": 234,
   "metadata": {},
   "outputs": [
    {
     "name": "stdout",
     "output_type": "stream",
     "text": [
      "-1.3955560079681726e+19\n"
     ]
    }
   ],
   "source": [
    "#print intercept\n",
    "print(model.intercept_)"
   ]
  },
  {
   "cell_type": "code",
   "execution_count": 235,
   "metadata": {},
   "outputs": [
    {
     "name": "stdout",
     "output_type": "stream",
     "text": [
      "[ 1.97775303e+02  1.96347846e+04 -1.50624757e+02 -1.09883407e+04\n",
      "  7.51521412e+03 -8.48818456e+02  3.85207794e-01  3.74404059e+17\n",
      "  1.32939406e+16  1.96784207e+19  2.26363435e+19 -3.70323429e+19\n",
      "  2.12691749e+19  1.38466949e+18 -3.01260329e+18 -1.09926992e+19\n",
      "  1.05971588e+19  2.48246571e+19 -6.41342279e+17  9.20509203e+17\n",
      " -1.05416888e+19 -4.46232139e+18  1.29353094e+19  2.22890738e+19\n",
      " -3.20276960e+18 -1.35010961e+19  2.62995217e+18 -2.27215868e+18\n",
      "  1.74510126e+18  1.96873108e+19 -8.90581428e+18  7.79305615e+18\n",
      "  4.12733641e+18  2.48297731e+17  6.80885785e+18  2.34076261e+19\n",
      "  3.56423940e+18  2.33644875e+19 -1.62934038e+19 -3.43372684e+18\n",
      " -2.42107240e+17 -2.30964556e+18 -1.25474891e+19 -5.96040061e+17\n",
      "  1.70681697e+19  1.08793267e+19 -2.24803997e+19 -1.50439336e+19\n",
      "  1.12887519e+19 -5.15083810e+18 -5.28411115e+18 -1.29337014e+19\n",
      " -1.79677151e+19  4.77537969e+19 -1.63648468e+19 -9.67928854e+16\n",
      "  7.09238981e+18  1.26815520e+19 -2.23629671e+18 -1.96290973e+19\n",
      "  4.73649172e+18  1.77382580e+18  1.19651428e+19  1.35208892e+19\n",
      "  1.72545587e+18 -1.19892798e+19  9.50576163e+18  1.76547456e+19\n",
      " -8.50326220e+18  7.26108167e+18  5.85482421e+18 -1.90947185e+19\n",
      "  1.08396691e+19 -1.18653485e+18 -1.60728739e+18  1.95869525e+18\n",
      " -1.70110731e+18 -4.21241312e+18 -2.79580001e+18 -1.39255173e+19\n",
      "  1.21912566e+19  5.84170618e+18  5.69420491e+18  5.98853364e+18\n",
      "  1.25313419e+19  2.04120480e+18 -3.23154809e+17 -7.95780136e+18\n",
      "  1.53652220e+19  2.18460244e+19 -3.63376818e+18  7.79582327e+18\n",
      "  1.01049715e+19  2.39537627e+19 -5.50719076e+18 -7.00488425e+18\n",
      " -1.60728739e+18  5.83272362e+18 -2.04165884e+18 -5.29014518e+18\n",
      " -6.48159984e+18  3.38366637e+18 -1.39255173e+19  7.48983366e+18\n",
      " -3.63376818e+18  2.04120480e+18 -4.25742260e+17  6.29899088e+17\n",
      " -4.21241312e+18  1.53652220e+19 -2.23165258e+18  5.58573820e+18]\n"
     ]
    }
   ],
   "source": [
    "print(model.coef_)"
   ]
  },
  {
   "cell_type": "code",
   "execution_count": null,
   "metadata": {},
   "outputs": [],
   "source": []
  },
  {
   "cell_type": "code",
   "execution_count": 230,
   "metadata": {},
   "outputs": [],
   "source": [
    "pred1 = model.predict(Xtest)"
   ]
  },
  {
   "cell_type": "code",
   "execution_count": null,
   "metadata": {},
   "outputs": [],
   "source": []
  },
  {
   "cell_type": "code",
   "execution_count": 236,
   "metadata": {},
   "outputs": [
    {
     "name": "stdout",
     "output_type": "stream",
     "text": [
      " R2_SCORE:0.9569924830827083\n",
      "Intercept:  -1.3955560079681726e+19\n",
      "Slope:  [ 1.97775303e+02  1.96347846e+04 -1.50624757e+02 -1.09883407e+04\n",
      "  7.51521412e+03 -8.48818456e+02  3.85207794e-01  3.74404059e+17\n",
      "  1.32939406e+16  1.96784207e+19  2.26363435e+19 -3.70323429e+19\n",
      "  2.12691749e+19  1.38466949e+18 -3.01260329e+18 -1.09926992e+19\n",
      "  1.05971588e+19  2.48246571e+19 -6.41342279e+17  9.20509203e+17\n",
      " -1.05416888e+19 -4.46232139e+18  1.29353094e+19  2.22890738e+19\n",
      " -3.20276960e+18 -1.35010961e+19  2.62995217e+18 -2.27215868e+18\n",
      "  1.74510126e+18  1.96873108e+19 -8.90581428e+18  7.79305615e+18\n",
      "  4.12733641e+18  2.48297731e+17  6.80885785e+18  2.34076261e+19\n",
      "  3.56423940e+18  2.33644875e+19 -1.62934038e+19 -3.43372684e+18\n",
      " -2.42107240e+17 -2.30964556e+18 -1.25474891e+19 -5.96040061e+17\n",
      "  1.70681697e+19  1.08793267e+19 -2.24803997e+19 -1.50439336e+19\n",
      "  1.12887519e+19 -5.15083810e+18 -5.28411115e+18 -1.29337014e+19\n",
      " -1.79677151e+19  4.77537969e+19 -1.63648468e+19 -9.67928854e+16\n",
      "  7.09238981e+18  1.26815520e+19 -2.23629671e+18 -1.96290973e+19\n",
      "  4.73649172e+18  1.77382580e+18  1.19651428e+19  1.35208892e+19\n",
      "  1.72545587e+18 -1.19892798e+19  9.50576163e+18  1.76547456e+19\n",
      " -8.50326220e+18  7.26108167e+18  5.85482421e+18 -1.90947185e+19\n",
      "  1.08396691e+19 -1.18653485e+18 -1.60728739e+18  1.95869525e+18\n",
      " -1.70110731e+18 -4.21241312e+18 -2.79580001e+18 -1.39255173e+19\n",
      "  1.21912566e+19  5.84170618e+18  5.69420491e+18  5.98853364e+18\n",
      "  1.25313419e+19  2.04120480e+18 -3.23154809e+17 -7.95780136e+18\n",
      "  1.53652220e+19  2.18460244e+19 -3.63376818e+18  7.79582327e+18\n",
      "  1.01049715e+19  2.39537627e+19 -5.50719076e+18 -7.00488425e+18\n",
      " -1.60728739e+18  5.83272362e+18 -2.04165884e+18 -5.29014518e+18\n",
      " -6.48159984e+18  3.38366637e+18 -1.39255173e+19  7.48983366e+18\n",
      " -3.63376818e+18  2.04120480e+18 -4.25742260e+17  6.29899088e+17\n",
      " -4.21241312e+18  1.53652220e+19 -2.23165258e+18  5.58573820e+18]\n"
     ]
    }
   ],
   "source": [
    "from sklearn import metrics\n",
    "#Getting the Mean squared error\n",
    "print(f' R2_SCORE:{metrics.r2_score(ytest, pred1)}')\n",
    "\n",
    "#Getting the Intercept\n",
    "print('Intercept: ',model.intercept_)\n",
    "\n",
    "#Getting the Slope\n",
    "print('Slope: ',model.coef_)"
   ]
  },
  {
   "cell_type": "code",
   "execution_count": 231,
   "metadata": {},
   "outputs": [
    {
     "name": "stdout",
     "output_type": "stream",
     "text": [
      "0.9569924830827083\n"
     ]
    }
   ],
   "source": [
    "print(r2_score(ytest , pred1))"
   ]
  },
  {
   "cell_type": "code",
   "execution_count": null,
   "metadata": {},
   "outputs": [],
   "source": []
  },
  {
   "cell_type": "code",
   "execution_count": 237,
   "metadata": {},
   "outputs": [
    {
     "data": {
      "text/html": [
       "<div>\n",
       "<style scoped>\n",
       "    .dataframe tbody tr th:only-of-type {\n",
       "        vertical-align: middle;\n",
       "    }\n",
       "\n",
       "    .dataframe tbody tr th {\n",
       "        vertical-align: top;\n",
       "    }\n",
       "\n",
       "    .dataframe thead th {\n",
       "        text-align: right;\n",
       "    }\n",
       "</style>\n",
       "<table border=\"1\" class=\"dataframe\">\n",
       "  <thead>\n",
       "    <tr style=\"text-align: right;\">\n",
       "      <th></th>\n",
       "      <th>Actual</th>\n",
       "      <th>Predicted with normal regrssion</th>\n",
       "    </tr>\n",
       "  </thead>\n",
       "  <tbody>\n",
       "    <tr>\n",
       "      <th>856</th>\n",
       "      <td>2690353</td>\n",
       "      <td>2.698870e+06</td>\n",
       "    </tr>\n",
       "    <tr>\n",
       "      <th>3656</th>\n",
       "      <td>3360871</td>\n",
       "      <td>3.633384e+06</td>\n",
       "    </tr>\n",
       "    <tr>\n",
       "      <th>4900</th>\n",
       "      <td>1787661</td>\n",
       "      <td>1.881748e+06</td>\n",
       "    </tr>\n",
       "    <tr>\n",
       "      <th>4177</th>\n",
       "      <td>1038264</td>\n",
       "      <td>1.410725e+06</td>\n",
       "    </tr>\n",
       "    <tr>\n",
       "      <th>3867</th>\n",
       "      <td>1163942</td>\n",
       "      <td>1.235290e+06</td>\n",
       "    </tr>\n",
       "    <tr>\n",
       "      <th>...</th>\n",
       "      <td>...</td>\n",
       "      <td>...</td>\n",
       "    </tr>\n",
       "    <tr>\n",
       "      <th>2890</th>\n",
       "      <td>1182762</td>\n",
       "      <td>1.291871e+06</td>\n",
       "    </tr>\n",
       "    <tr>\n",
       "      <th>422</th>\n",
       "      <td>3439150</td>\n",
       "      <td>3.261787e+06</td>\n",
       "    </tr>\n",
       "    <tr>\n",
       "      <th>95</th>\n",
       "      <td>4654929</td>\n",
       "      <td>4.956171e+06</td>\n",
       "    </tr>\n",
       "    <tr>\n",
       "      <th>2457</th>\n",
       "      <td>690312</td>\n",
       "      <td>9.700358e+05</td>\n",
       "    </tr>\n",
       "    <tr>\n",
       "      <th>2172</th>\n",
       "      <td>196000</td>\n",
       "      <td>5.372574e+05</td>\n",
       "    </tr>\n",
       "  </tbody>\n",
       "</table>\n",
       "<p>994 rows × 2 columns</p>\n",
       "</div>"
      ],
      "text/plain": [
       "       Actual  Predicted with normal regrssion\n",
       "856   2690353                     2.698870e+06\n",
       "3656  3360871                     3.633384e+06\n",
       "4900  1787661                     1.881748e+06\n",
       "4177  1038264                     1.410725e+06\n",
       "3867  1163942                     1.235290e+06\n",
       "...       ...                              ...\n",
       "2890  1182762                     1.291871e+06\n",
       "422   3439150                     3.261787e+06\n",
       "95    4654929                     4.956171e+06\n",
       "2457   690312                     9.700358e+05\n",
       "2172   196000                     5.372574e+05\n",
       "\n",
       "[994 rows x 2 columns]"
      ]
     },
     "execution_count": 237,
     "metadata": {},
     "output_type": "execute_result"
    }
   ],
   "source": [
    "Newdf = pd.DataFrame({'Actual': ytest, 'Predicted with normal regrssion': pred1})\n",
    "Newdf"
   ]
  },
  {
   "cell_type": "code",
   "execution_count": null,
   "metadata": {},
   "outputs": [],
   "source": []
  },
  {
   "cell_type": "markdown",
   "metadata": {},
   "source": [
    "# Linear Regression using Ridge"
   ]
  },
  {
   "cell_type": "code",
   "execution_count": 238,
   "metadata": {},
   "outputs": [
    {
     "name": "stderr",
     "output_type": "stream",
     "text": [
      "/Users/flatironschool/opt/anaconda3/envs/learn-env/lib/python3.6/site-packages/sklearn/model_selection/_split.py:2053: FutureWarning:\n",
      "\n",
      "You should specify a value for 'cv' instead of relying on the default value. The default value will change from 3 to 5 in version 0.22.\n",
      "\n"
     ]
    },
    {
     "data": {
      "text/plain": [
       "Ridge(alpha=0, copy_X=True, fit_intercept=True, max_iter=None, normalize=True,\n",
       "   random_state=None, solver='auto', tol=0.001)"
      ]
     },
     "execution_count": 238,
     "metadata": {},
     "output_type": "execute_result"
    }
   ],
   "source": [
    "#Applying linear model\n",
    "#Ridge is linear regression with L2 regularization and gridsearch for alpha to prevent overfitting\n",
    "from sklearn.linear_model import Ridge\n",
    "from sklearn.model_selection import GridSearchCV\n",
    "parameters = {'alpha':[0,0.0001,0.001]}\n",
    "\n",
    "ridge = Ridge(normalize=True)\n",
    "clf_ridge= GridSearchCV(ridge, param_grid=parameters)\n",
    "clf_ridge.fit(Xtrain, ytrain).best_estimator_\n"
   ]
  },
  {
   "cell_type": "markdown",
   "metadata": {},
   "source": [
    "# Predicting using xtest dataset"
   ]
  },
  {
   "cell_type": "code",
   "execution_count": 239,
   "metadata": {},
   "outputs": [],
   "source": [
    "y_pred = clf_ridge.predict(Xtest)"
   ]
  },
  {
   "cell_type": "code",
   "execution_count": 240,
   "metadata": {},
   "outputs": [
    {
     "name": "stdout",
     "output_type": "stream",
     "text": [
      " R2_SCORE:0.9569924830827083\n"
     ]
    }
   ],
   "source": [
    "#Getting the Mean squared error\n",
    "print(f' R2_SCORE:{metrics.r2_score(ytest, y_pred)}')"
   ]
  },
  {
   "cell_type": "code",
   "execution_count": null,
   "metadata": {},
   "outputs": [],
   "source": []
  },
  {
   "cell_type": "code",
   "execution_count": 241,
   "metadata": {},
   "outputs": [
    {
     "data": {
      "text/html": [
       "<div>\n",
       "<style scoped>\n",
       "    .dataframe tbody tr th:only-of-type {\n",
       "        vertical-align: middle;\n",
       "    }\n",
       "\n",
       "    .dataframe tbody tr th {\n",
       "        vertical-align: top;\n",
       "    }\n",
       "\n",
       "    .dataframe thead th {\n",
       "        text-align: right;\n",
       "    }\n",
       "</style>\n",
       "<table border=\"1\" class=\"dataframe\">\n",
       "  <thead>\n",
       "    <tr style=\"text-align: right;\">\n",
       "      <th></th>\n",
       "      <th>Actual</th>\n",
       "      <th>Predicted with Ridge regrssion</th>\n",
       "    </tr>\n",
       "  </thead>\n",
       "  <tbody>\n",
       "    <tr>\n",
       "      <th>856</th>\n",
       "      <td>2690353</td>\n",
       "      <td>2699648.0</td>\n",
       "    </tr>\n",
       "    <tr>\n",
       "      <th>3656</th>\n",
       "      <td>3360871</td>\n",
       "      <td>3626368.0</td>\n",
       "    </tr>\n",
       "    <tr>\n",
       "      <th>4900</th>\n",
       "      <td>1787661</td>\n",
       "      <td>1880704.0</td>\n",
       "    </tr>\n",
       "    <tr>\n",
       "      <th>4177</th>\n",
       "      <td>1038264</td>\n",
       "      <td>1410432.0</td>\n",
       "    </tr>\n",
       "    <tr>\n",
       "      <th>3867</th>\n",
       "      <td>1163942</td>\n",
       "      <td>1238144.0</td>\n",
       "    </tr>\n",
       "    <tr>\n",
       "      <th>...</th>\n",
       "      <td>...</td>\n",
       "      <td>...</td>\n",
       "    </tr>\n",
       "    <tr>\n",
       "      <th>2890</th>\n",
       "      <td>1182762</td>\n",
       "      <td>1295488.0</td>\n",
       "    </tr>\n",
       "    <tr>\n",
       "      <th>422</th>\n",
       "      <td>3439150</td>\n",
       "      <td>3255680.0</td>\n",
       "    </tr>\n",
       "    <tr>\n",
       "      <th>95</th>\n",
       "      <td>4654929</td>\n",
       "      <td>4953728.0</td>\n",
       "    </tr>\n",
       "    <tr>\n",
       "      <th>2457</th>\n",
       "      <td>690312</td>\n",
       "      <td>970880.0</td>\n",
       "    </tr>\n",
       "    <tr>\n",
       "      <th>2172</th>\n",
       "      <td>196000</td>\n",
       "      <td>539264.0</td>\n",
       "    </tr>\n",
       "  </tbody>\n",
       "</table>\n",
       "<p>994 rows × 2 columns</p>\n",
       "</div>"
      ],
      "text/plain": [
       "       Actual  Predicted with Ridge regrssion\n",
       "856   2690353                       2699648.0\n",
       "3656  3360871                       3626368.0\n",
       "4900  1787661                       1880704.0\n",
       "4177  1038264                       1410432.0\n",
       "3867  1163942                       1238144.0\n",
       "...       ...                             ...\n",
       "2890  1182762                       1295488.0\n",
       "422   3439150                       3255680.0\n",
       "95    4654929                       4953728.0\n",
       "2457   690312                        970880.0\n",
       "2172   196000                        539264.0\n",
       "\n",
       "[994 rows x 2 columns]"
      ]
     },
     "execution_count": 241,
     "metadata": {},
     "output_type": "execute_result"
    }
   ],
   "source": [
    "Ridgedf = pd.DataFrame({'Actual': y_test, 'Predicted with Ridge regrssion': y_pred})\n",
    "Ridgedf"
   ]
  },
  {
   "cell_type": "code",
   "execution_count": null,
   "metadata": {},
   "outputs": [],
   "source": []
  },
  {
   "cell_type": "markdown",
   "metadata": {},
   "source": [
    "# Linear Regression using Lasso"
   ]
  },
  {
   "cell_type": "code",
   "execution_count": 242,
   "metadata": {},
   "outputs": [
    {
     "name": "stderr",
     "output_type": "stream",
     "text": [
      "/Users/flatironschool/opt/anaconda3/envs/learn-env/lib/python3.6/site-packages/sklearn/model_selection/_split.py:2053: FutureWarning:\n",
      "\n",
      "You should specify a value for 'cv' instead of relying on the default value. The default value will change from 3 to 5 in version 0.22.\n",
      "\n",
      "/Users/flatironschool/opt/anaconda3/envs/learn-env/lib/python3.6/site-packages/sklearn/linear_model/coordinate_descent.py:492: ConvergenceWarning:\n",
      "\n",
      "Objective did not converge. You might want to increase the number of iterations. Fitting data with very small alpha may cause precision problems.\n",
      "\n",
      "/Users/flatironschool/opt/anaconda3/envs/learn-env/lib/python3.6/site-packages/sklearn/linear_model/coordinate_descent.py:492: ConvergenceWarning:\n",
      "\n",
      "Objective did not converge. You might want to increase the number of iterations. Fitting data with very small alpha may cause precision problems.\n",
      "\n",
      "/Users/flatironschool/opt/anaconda3/envs/learn-env/lib/python3.6/site-packages/sklearn/linear_model/coordinate_descent.py:492: ConvergenceWarning:\n",
      "\n",
      "Objective did not converge. You might want to increase the number of iterations. Fitting data with very small alpha may cause precision problems.\n",
      "\n",
      "/Users/flatironschool/opt/anaconda3/envs/learn-env/lib/python3.6/site-packages/sklearn/linear_model/coordinate_descent.py:492: ConvergenceWarning:\n",
      "\n",
      "Objective did not converge. You might want to increase the number of iterations. Fitting data with very small alpha may cause precision problems.\n",
      "\n",
      "/Users/flatironschool/opt/anaconda3/envs/learn-env/lib/python3.6/site-packages/sklearn/linear_model/coordinate_descent.py:492: ConvergenceWarning:\n",
      "\n",
      "Objective did not converge. You might want to increase the number of iterations. Fitting data with very small alpha may cause precision problems.\n",
      "\n"
     ]
    },
    {
     "data": {
      "text/plain": [
       "Lasso(alpha=10, copy_X=True, fit_intercept=True, max_iter=1000,\n",
       "   normalize=True, positive=False, precompute=False, random_state=None,\n",
       "   selection='cyclic', tol=0.001, warm_start=False)"
      ]
     },
     "execution_count": 242,
     "metadata": {},
     "output_type": "execute_result"
    }
   ],
   "source": [
    "#Applying linear model\n",
    "#Ridge is linear regression with L1 regularization and gridsearch for alpha to prevent overfitting\n",
    "from sklearn.linear_model import Lasso\n",
    "from sklearn.model_selection import GridSearchCV\n",
    "parameters = {'alpha':[10,100,150,200],'tol':[100,10,0.001,0.0001]}\n",
    "\n",
    "lasso = Lasso(normalize=True)\n",
    "clf= GridSearchCV(lasso, param_grid=parameters)\n",
    "clf.fit(Xtrain, ytrain).best_estimator_"
   ]
  },
  {
   "cell_type": "code",
   "execution_count": 243,
   "metadata": {},
   "outputs": [],
   "source": [
    "#Predicting using x_test dataset\n",
    "y_pred = clf.predict(Xtest)"
   ]
  },
  {
   "cell_type": "code",
   "execution_count": 244,
   "metadata": {},
   "outputs": [
    {
     "name": "stdout",
     "output_type": "stream",
     "text": [
      " R2_SCORE:0.9569573464893558\n"
     ]
    }
   ],
   "source": [
    "#Getting the Mean squared error\n",
    "print(f' R2_SCORE:{metrics.r2_score(y_test, y_pred)}')"
   ]
  },
  {
   "cell_type": "code",
   "execution_count": 245,
   "metadata": {},
   "outputs": [
    {
     "data": {
      "text/html": [
       "<div>\n",
       "<style scoped>\n",
       "    .dataframe tbody tr th:only-of-type {\n",
       "        vertical-align: middle;\n",
       "    }\n",
       "\n",
       "    .dataframe tbody tr th {\n",
       "        vertical-align: top;\n",
       "    }\n",
       "\n",
       "    .dataframe thead th {\n",
       "        text-align: right;\n",
       "    }\n",
       "</style>\n",
       "<table border=\"1\" class=\"dataframe\">\n",
       "  <thead>\n",
       "    <tr style=\"text-align: right;\">\n",
       "      <th></th>\n",
       "      <th>Actual</th>\n",
       "      <th>Predicted with Ridge regrssion</th>\n",
       "    </tr>\n",
       "  </thead>\n",
       "  <tbody>\n",
       "    <tr>\n",
       "      <th>856</th>\n",
       "      <td>2690353</td>\n",
       "      <td>2.688163e+06</td>\n",
       "    </tr>\n",
       "    <tr>\n",
       "      <th>3656</th>\n",
       "      <td>3360871</td>\n",
       "      <td>3.397848e+06</td>\n",
       "    </tr>\n",
       "    <tr>\n",
       "      <th>4900</th>\n",
       "      <td>1787661</td>\n",
       "      <td>1.891469e+06</td>\n",
       "    </tr>\n",
       "    <tr>\n",
       "      <th>4177</th>\n",
       "      <td>1038264</td>\n",
       "      <td>1.423875e+06</td>\n",
       "    </tr>\n",
       "    <tr>\n",
       "      <th>3867</th>\n",
       "      <td>1163942</td>\n",
       "      <td>1.244207e+06</td>\n",
       "    </tr>\n",
       "    <tr>\n",
       "      <th>...</th>\n",
       "      <td>...</td>\n",
       "      <td>...</td>\n",
       "    </tr>\n",
       "    <tr>\n",
       "      <th>2890</th>\n",
       "      <td>1182762</td>\n",
       "      <td>1.295211e+06</td>\n",
       "    </tr>\n",
       "    <tr>\n",
       "      <th>422</th>\n",
       "      <td>3439150</td>\n",
       "      <td>3.247392e+06</td>\n",
       "    </tr>\n",
       "    <tr>\n",
       "      <th>95</th>\n",
       "      <td>4654929</td>\n",
       "      <td>4.951213e+06</td>\n",
       "    </tr>\n",
       "    <tr>\n",
       "      <th>2457</th>\n",
       "      <td>690312</td>\n",
       "      <td>9.750555e+05</td>\n",
       "    </tr>\n",
       "    <tr>\n",
       "      <th>2172</th>\n",
       "      <td>196000</td>\n",
       "      <td>5.385234e+05</td>\n",
       "    </tr>\n",
       "  </tbody>\n",
       "</table>\n",
       "<p>994 rows × 2 columns</p>\n",
       "</div>"
      ],
      "text/plain": [
       "       Actual  Predicted with Ridge regrssion\n",
       "856   2690353                    2.688163e+06\n",
       "3656  3360871                    3.397848e+06\n",
       "4900  1787661                    1.891469e+06\n",
       "4177  1038264                    1.423875e+06\n",
       "3867  1163942                    1.244207e+06\n",
       "...       ...                             ...\n",
       "2890  1182762                    1.295211e+06\n",
       "422   3439150                    3.247392e+06\n",
       "95    4654929                    4.951213e+06\n",
       "2457   690312                    9.750555e+05\n",
       "2172   196000                    5.385234e+05\n",
       "\n",
       "[994 rows x 2 columns]"
      ]
     },
     "execution_count": 245,
     "metadata": {},
     "output_type": "execute_result"
    }
   ],
   "source": [
    "Lassodf = pd.DataFrame({'Actual': y_test, 'Predicted with Ridge regrssion': y_pred})\n",
    "Lassodf"
   ]
  },
  {
   "cell_type": "code",
   "execution_count": null,
   "metadata": {},
   "outputs": [],
   "source": []
  },
  {
   "cell_type": "code",
   "execution_count": null,
   "metadata": {},
   "outputs": [],
   "source": []
  },
  {
   "cell_type": "code",
   "execution_count": null,
   "metadata": {},
   "outputs": [],
   "source": []
  },
  {
   "cell_type": "code",
   "execution_count": null,
   "metadata": {},
   "outputs": [],
   "source": []
  },
  {
   "cell_type": "code",
   "execution_count": null,
   "metadata": {},
   "outputs": [],
   "source": []
  },
  {
   "cell_type": "code",
   "execution_count": null,
   "metadata": {},
   "outputs": [],
   "source": []
  },
  {
   "cell_type": "code",
   "execution_count": null,
   "metadata": {},
   "outputs": [],
   "source": []
  },
  {
   "cell_type": "code",
   "execution_count": null,
   "metadata": {},
   "outputs": [],
   "source": []
  },
  {
   "cell_type": "code",
   "execution_count": null,
   "metadata": {},
   "outputs": [],
   "source": []
  },
  {
   "cell_type": "code",
   "execution_count": null,
   "metadata": {},
   "outputs": [],
   "source": []
  },
  {
   "cell_type": "code",
   "execution_count": null,
   "metadata": {},
   "outputs": [],
   "source": []
  },
  {
   "cell_type": "code",
   "execution_count": null,
   "metadata": {},
   "outputs": [],
   "source": []
  },
  {
   "cell_type": "code",
   "execution_count": null,
   "metadata": {},
   "outputs": [],
   "source": []
  },
  {
   "cell_type": "code",
   "execution_count": null,
   "metadata": {},
   "outputs": [],
   "source": []
  },
  {
   "cell_type": "code",
   "execution_count": null,
   "metadata": {},
   "outputs": [],
   "source": []
  },
  {
   "cell_type": "code",
   "execution_count": null,
   "metadata": {},
   "outputs": [],
   "source": []
  },
  {
   "cell_type": "code",
   "execution_count": null,
   "metadata": {},
   "outputs": [],
   "source": []
  },
  {
   "cell_type": "code",
   "execution_count": null,
   "metadata": {},
   "outputs": [],
   "source": []
  },
  {
   "cell_type": "code",
   "execution_count": null,
   "metadata": {},
   "outputs": [],
   "source": []
  },
  {
   "cell_type": "code",
   "execution_count": null,
   "metadata": {},
   "outputs": [],
   "source": []
  },
  {
   "cell_type": "code",
   "execution_count": null,
   "metadata": {},
   "outputs": [],
   "source": []
  },
  {
   "cell_type": "code",
   "execution_count": null,
   "metadata": {},
   "outputs": [],
   "source": []
  },
  {
   "cell_type": "code",
   "execution_count": null,
   "metadata": {},
   "outputs": [],
   "source": []
  },
  {
   "cell_type": "code",
   "execution_count": null,
   "metadata": {},
   "outputs": [],
   "source": []
  },
  {
   "cell_type": "code",
   "execution_count": null,
   "metadata": {},
   "outputs": [],
   "source": []
  },
  {
   "cell_type": "code",
   "execution_count": null,
   "metadata": {},
   "outputs": [],
   "source": []
  },
  {
   "cell_type": "code",
   "execution_count": null,
   "metadata": {},
   "outputs": [],
   "source": []
  },
  {
   "cell_type": "code",
   "execution_count": null,
   "metadata": {},
   "outputs": [],
   "source": []
  },
  {
   "cell_type": "code",
   "execution_count": null,
   "metadata": {},
   "outputs": [],
   "source": []
  },
  {
   "cell_type": "code",
   "execution_count": null,
   "metadata": {},
   "outputs": [],
   "source": []
  },
  {
   "cell_type": "code",
   "execution_count": null,
   "metadata": {},
   "outputs": [],
   "source": []
  },
  {
   "cell_type": "code",
   "execution_count": null,
   "metadata": {},
   "outputs": [],
   "source": []
  },
  {
   "cell_type": "code",
   "execution_count": null,
   "metadata": {},
   "outputs": [],
   "source": []
  },
  {
   "cell_type": "code",
   "execution_count": null,
   "metadata": {},
   "outputs": [],
   "source": []
  },
  {
   "cell_type": "code",
   "execution_count": null,
   "metadata": {},
   "outputs": [],
   "source": []
  },
  {
   "cell_type": "code",
   "execution_count": null,
   "metadata": {},
   "outputs": [],
   "source": []
  },
  {
   "cell_type": "code",
   "execution_count": null,
   "metadata": {},
   "outputs": [],
   "source": []
  },
  {
   "cell_type": "code",
   "execution_count": null,
   "metadata": {},
   "outputs": [],
   "source": []
  },
  {
   "cell_type": "code",
   "execution_count": null,
   "metadata": {},
   "outputs": [],
   "source": []
  },
  {
   "cell_type": "code",
   "execution_count": null,
   "metadata": {},
   "outputs": [],
   "source": []
  },
  {
   "cell_type": "code",
   "execution_count": null,
   "metadata": {},
   "outputs": [],
   "source": []
  },
  {
   "cell_type": "code",
   "execution_count": null,
   "metadata": {},
   "outputs": [],
   "source": []
  },
  {
   "cell_type": "code",
   "execution_count": null,
   "metadata": {},
   "outputs": [],
   "source": []
  },
  {
   "cell_type": "code",
   "execution_count": null,
   "metadata": {},
   "outputs": [],
   "source": []
  },
  {
   "cell_type": "code",
   "execution_count": null,
   "metadata": {},
   "outputs": [],
   "source": []
  },
  {
   "cell_type": "code",
   "execution_count": null,
   "metadata": {},
   "outputs": [],
   "source": []
  },
  {
   "cell_type": "code",
   "execution_count": null,
   "metadata": {},
   "outputs": [],
   "source": []
  },
  {
   "cell_type": "code",
   "execution_count": null,
   "metadata": {},
   "outputs": [],
   "source": []
  },
  {
   "cell_type": "code",
   "execution_count": null,
   "metadata": {},
   "outputs": [],
   "source": []
  },
  {
   "cell_type": "code",
   "execution_count": null,
   "metadata": {},
   "outputs": [],
   "source": []
  },
  {
   "cell_type": "code",
   "execution_count": null,
   "metadata": {},
   "outputs": [],
   "source": []
  },
  {
   "cell_type": "code",
   "execution_count": null,
   "metadata": {},
   "outputs": [],
   "source": []
  },
  {
   "cell_type": "code",
   "execution_count": null,
   "metadata": {},
   "outputs": [],
   "source": []
  },
  {
   "cell_type": "code",
   "execution_count": null,
   "metadata": {},
   "outputs": [],
   "source": []
  },
  {
   "cell_type": "code",
   "execution_count": null,
   "metadata": {},
   "outputs": [],
   "source": []
  },
  {
   "cell_type": "code",
   "execution_count": null,
   "metadata": {},
   "outputs": [],
   "source": []
  },
  {
   "cell_type": "code",
   "execution_count": null,
   "metadata": {},
   "outputs": [],
   "source": []
  },
  {
   "cell_type": "code",
   "execution_count": null,
   "metadata": {},
   "outputs": [],
   "source": []
  },
  {
   "cell_type": "code",
   "execution_count": null,
   "metadata": {},
   "outputs": [],
   "source": []
  },
  {
   "cell_type": "code",
   "execution_count": null,
   "metadata": {},
   "outputs": [],
   "source": []
  },
  {
   "cell_type": "code",
   "execution_count": null,
   "metadata": {},
   "outputs": [],
   "source": []
  },
  {
   "cell_type": "code",
   "execution_count": null,
   "metadata": {},
   "outputs": [],
   "source": []
  },
  {
   "cell_type": "code",
   "execution_count": null,
   "metadata": {},
   "outputs": [],
   "source": []
  },
  {
   "cell_type": "code",
   "execution_count": null,
   "metadata": {},
   "outputs": [],
   "source": []
  },
  {
   "cell_type": "code",
   "execution_count": null,
   "metadata": {},
   "outputs": [],
   "source": []
  },
  {
   "cell_type": "code",
   "execution_count": null,
   "metadata": {},
   "outputs": [],
   "source": []
  },
  {
   "cell_type": "code",
   "execution_count": null,
   "metadata": {},
   "outputs": [],
   "source": []
  },
  {
   "cell_type": "code",
   "execution_count": null,
   "metadata": {},
   "outputs": [],
   "source": []
  },
  {
   "cell_type": "code",
   "execution_count": null,
   "metadata": {},
   "outputs": [],
   "source": []
  },
  {
   "cell_type": "code",
   "execution_count": null,
   "metadata": {},
   "outputs": [],
   "source": []
  },
  {
   "cell_type": "code",
   "execution_count": null,
   "metadata": {},
   "outputs": [],
   "source": []
  },
  {
   "cell_type": "code",
   "execution_count": null,
   "metadata": {},
   "outputs": [],
   "source": []
  },
  {
   "cell_type": "code",
   "execution_count": null,
   "metadata": {},
   "outputs": [],
   "source": []
  },
  {
   "cell_type": "code",
   "execution_count": null,
   "metadata": {},
   "outputs": [],
   "source": []
  },
  {
   "cell_type": "code",
   "execution_count": null,
   "metadata": {},
   "outputs": [],
   "source": []
  },
  {
   "cell_type": "code",
   "execution_count": null,
   "metadata": {},
   "outputs": [],
   "source": []
  },
  {
   "cell_type": "code",
   "execution_count": null,
   "metadata": {},
   "outputs": [],
   "source": []
  },
  {
   "cell_type": "code",
   "execution_count": null,
   "metadata": {},
   "outputs": [],
   "source": []
  }
 ],
 "metadata": {
  "kernelspec": {
   "display_name": "Python [conda env:learn-env] *",
   "language": "python",
   "name": "conda-env-learn-env-py"
  },
  "language_info": {
   "codemirror_mode": {
    "name": "ipython",
    "version": 3
   },
   "file_extension": ".py",
   "mimetype": "text/x-python",
   "name": "python",
   "nbconvert_exporter": "python",
   "pygments_lexer": "ipython3",
   "version": "3.6.6"
  }
 },
 "nbformat": 4,
 "nbformat_minor": 2
}
